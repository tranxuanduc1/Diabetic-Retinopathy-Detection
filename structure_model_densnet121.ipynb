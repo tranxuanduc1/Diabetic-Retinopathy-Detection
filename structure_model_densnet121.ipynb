{
 "cells": [
  {
   "cell_type": "code",
   "execution_count": 3,
   "id": "905543a3",
   "metadata": {},
   "outputs": [
    {
     "name": "stderr",
     "output_type": "stream",
     "text": [
      "2025-08-16 21:33:46.007111: I tensorflow/core/util/port.cc:153] oneDNN custom operations are on. You may see slightly different numerical results due to floating-point round-off errors from different computation orders. To turn them off, set the environment variable `TF_ENABLE_ONEDNN_OPTS=0`.\n",
      "2025-08-16 21:33:46.018716: E external/local_xla/xla/stream_executor/cuda/cuda_fft.cc:467] Unable to register cuFFT factory: Attempting to register factory for plugin cuFFT when one has already been registered\n",
      "WARNING: All log messages before absl::InitializeLog() is called are written to STDERR\n",
      "E0000 00:00:1755394426.032439    7349 cuda_dnn.cc:8579] Unable to register cuDNN factory: Attempting to register factory for plugin cuDNN when one has already been registered\n",
      "E0000 00:00:1755394426.036416    7349 cuda_blas.cc:1407] Unable to register cuBLAS factory: Attempting to register factory for plugin cuBLAS when one has already been registered\n",
      "W0000 00:00:1755394426.046715    7349 computation_placer.cc:177] computation placer already registered. Please check linkage and avoid linking the same target more than once.\n",
      "W0000 00:00:1755394426.046745    7349 computation_placer.cc:177] computation placer already registered. Please check linkage and avoid linking the same target more than once.\n",
      "W0000 00:00:1755394426.046748    7349 computation_placer.cc:177] computation placer already registered. Please check linkage and avoid linking the same target more than once.\n",
      "W0000 00:00:1755394426.046749    7349 computation_placer.cc:177] computation placer already registered. Please check linkage and avoid linking the same target more than once.\n",
      "2025-08-16 21:33:46.050374: I tensorflow/core/platform/cpu_feature_guard.cc:210] This TensorFlow binary is optimized to use available CPU instructions in performance-critical operations.\n",
      "To enable the following instructions: AVX2 AVX512F AVX512_VNNI FMA, in other operations, rebuild TensorFlow with the appropriate compiler flags.\n"
     ]
    }
   ],
   "source": [
    "import os, json, random, math, pickle,cv2\n",
    "from pathlib import Path\n",
    "\n",
    "import numpy as np\n",
    "import tensorflow as tf\n",
    "from tensorflow import keras\n",
    "from tensorflow.keras import layers\n",
    "from tensorflow.data import AUTOTUNE\n",
    "from tensorflow.keras.applications.densenet import DenseNet121, preprocess_input as densenet_preprocess\n",
    "from skimage.color import rgb2gray"
   ]
  },
  {
   "cell_type": "code",
   "execution_count": 17,
   "id": "598a4a66",
   "metadata": {},
   "outputs": [
    {
     "name": "stdout",
     "output_type": "stream",
     "text": [
      "Name: tensorflow\n",
      "Version: 2.19.0\n",
      "Summary: TensorFlow is an open source machine learning framework for everyone.\n",
      "Home-page: https://www.tensorflow.org/\n",
      "Author: Google Inc.\n",
      "Author-email: packages@tensorflow.org\n",
      "License: Apache 2.0\n",
      "Location: /home/duc/Documents/DoAn/myvenv/lib/python3.10/site-packages\n",
      "Requires: absl-py, astunparse, flatbuffers, gast, google-pasta, grpcio, h5py, keras, libclang, ml-dtypes, numpy, opt-einsum, packaging, protobuf, requests, setuptools, six, tensorboard, tensorflow-io-gcs-filesystem, termcolor, typing-extensions, wrapt\n",
      "Required-by: \n",
      "---\n",
      "Name: keras\n",
      "Version: 3.8.0\n",
      "Summary: Multi-backend Keras\n",
      "Home-page: \n",
      "Author: \n",
      "Author-email: Keras team <keras-users@googlegroups.com>\n",
      "License: Apache License 2.0\n",
      "Location: /home/duc/Documents/DoAn/myvenv/lib/python3.10/site-packages\n",
      "Requires: absl-py, h5py, ml-dtypes, namex, numpy, optree, packaging, rich\n",
      "Required-by: tensorflow\n"
     ]
    }
   ],
   "source": [
    "!pip show tensorflow keras"
   ]
  },
  {
   "cell_type": "code",
   "execution_count": 4,
   "id": "9e7c1bc5",
   "metadata": {},
   "outputs": [],
   "source": [
    "try:\n",
    "    import cv2\n",
    "except Exception:\n",
    "    cv2 = None\n",
    "try:\n",
    "    from skimage.color import rgb2gray\n",
    "    from skimage.feature import greycomatrix, greycoprops, local_binary_pattern\n",
    "except Exception:\n",
    "    rgb2gray = greycomatrix = greycoprops = local_binary_pattern = None"
   ]
  },
  {
   "cell_type": "code",
   "execution_count": 7,
   "id": "dcdca255",
   "metadata": {},
   "outputs": [],
   "source": [
    "# ================== CONFIG ==================\n",
    "SEED = 42\n",
    "random.seed(SEED); np.random.seed(SEED); tf.random.set_seed(SEED)\n",
    "\n",
    "TRAIN_DIR = \"/home/duc/Documents/DoAn/aptos2019-blindness-detection/train_preprocess\"   # <--- chỉnh nếu khác\n",
    "VAL_DIR   = \"/home/duc/Documents/DoAn/aptos2019-blindness-detection/val_preprocess\"   \n",
    "\n",
    "IMG_SIZE = 224        # DenseNet chuẩn 224\n",
    "BATCH_SIZE = 16\n",
    "HEAD_EPOCHS = 12      # train head với backbone đóng băng\n",
    "FT_EPOCHS   = 12      # fine-tune backbone\n",
    "AUGMENT = False       # bạn đã augment offline -> để False\n",
    "\n",
    "OUT_DIR = \"outputs_msedensenet\"\n",
    "os.makedirs(OUT_DIR, exist_ok=True)\n"
   ]
  },
  {
   "cell_type": "code",
   "execution_count": 5,
   "id": "4537a8af",
   "metadata": {},
   "outputs": [],
   "source": [
    "# ================== DATA ==================\n",
    "def make_augmenter():\n",
    "    if not AUGMENT:\n",
    "        # identity để tránh lỗi Sequential rỗng\n",
    "        return keras.Sequential([layers.Lambda(lambda x: x, name=\"identity\")], name=\"augmenter\")\n",
    "    return keras.Sequential([\n",
    "        layers.RandomFlip(\"horizontal\"),\n",
    "        layers.RandomRotation(0.05),\n",
    "        layers.RandomZoom(0.1),\n",
    "        layers.RandomContrast(0.05),\n",
    "    ], name=\"augmenter\")\n",
    "\n",
    "def load_ds_5cls(directory, shuffle):\n",
    "    ds = tf.keras.utils.image_dataset_from_directory(\n",
    "        directory,\n",
    "        labels=\"inferred\",\n",
    "        label_mode=\"int\",\n",
    "        class_names=[\"0\",\"1\",\"2\",\"3\",\"4\"],\n",
    "        color_mode=\"rgb\",\n",
    "        image_size=(IMG_SIZE, IMG_SIZE),\n",
    "        batch_size=BATCH_SIZE,\n",
    "        shuffle=shuffle,\n",
    "        seed=SEED\n",
    "    )\n",
    "    return ds.prefetch(AUTOTUNE)"
   ]
  },
  {
   "cell_type": "code",
   "execution_count": 8,
   "id": "c37ad8af",
   "metadata": {},
   "outputs": [],
   "source": [
    "# ================== HAND-CRAFTED FEATURES ==================\n",
    "def _rgb_hsv_stats(img_u8):\n",
    "    # img_u8: HxWx3 uint8\n",
    "    # RGB mean/std\n",
    "    means = img_u8.reshape(-1,3).mean(axis=0)\n",
    "    stds  = img_u8.reshape(-1,3).std(axis=0) + 1e-6\n",
    "    # HSV\n",
    "    if cv2 is not None:\n",
    "        hsv = cv2.cvtColor(img_u8, cv2.COLOR_RGB2HSV)\n",
    "        means_hsv = hsv.reshape(-1,3).mean(axis=0)\n",
    "        stds_hsv  = hsv.reshape(-1,3).std(axis=0) + 1e-6\n",
    "    else:\n",
    "        # fallback nếu thiếu cv2\n",
    "        means_hsv = np.zeros(3); stds_hsv = np.zeros(3)\n",
    "    return np.concatenate([means, stds, means_hsv, stds_hsv], axis=0).astype(np.float32)\n",
    "\n",
    "def _green_hist(img_u8, bins=16):\n",
    "    g = img_u8[:,:,1]\n",
    "    hist, _ = np.histogram(g, bins=bins, range=(0,255), density=True)\n",
    "    return hist.astype(np.float32)\n",
    "\n",
    "def _glcm_feats(img_u8, levels=32):\n",
    "    if greycomatrix is None or greycoprops is None:\n",
    "        return np.zeros(6, dtype=np.float32)  # contrast, dissimilarity, homogeneity, energy, correlation, ASM\n",
    "    gray = cv2.cvtColor(img_u8, cv2.COLOR_RGB2GRAY) if cv2 is not None else (rgb2gray(img_u8)*255).astype(np.uint8)\n",
    "    # quantize to 'levels'\n",
    "    q = (gray.astype(np.float32) * (levels/256.0)).astype(np.uint8)\n",
    "    # distances & angles\n",
    "    dists = [1, 2, 4]\n",
    "    angles = [0, np.pi/4, np.pi/2, 3*np.pi/4]\n",
    "    glcm = greycomatrix(q, distances=dists, angles=angles, levels=levels, symmetric=True, normed=True)\n",
    "    feats = []\n",
    "    for prop in ['contrast','dissimilarity','homogeneity','energy','correlation','ASM']:\n",
    "        v = greycoprops(glcm, prop)  # shape (len(dists), len(angles))\n",
    "        feats.append(v.mean())\n",
    "    return np.array(feats, dtype=np.float32)\n",
    "\n",
    "def _lbp_hist(img_u8, P=8, R=1.0):\n",
    "    if local_binary_pattern is None:\n",
    "        return np.zeros(P+2, dtype=np.float32)\n",
    "    gray = cv2.cvtColor(img_u8, cv2.COLOR_RGB2GRAY) if cv2 is not None else (rgb2gray(img_u8)*255).astype(np.uint8)\n",
    "    lbp = local_binary_pattern(gray, P=P, R=R, method='uniform')\n",
    "    (hist, _) = np.histogram(lbp.ravel(), bins=np.arange(0, P+3), range=(0, P+2), density=True)\n",
    "    return hist.astype(np.float32)  # length P+2\n",
    "\n",
    "def handcrafted_features_numpy(img_np):\n",
    "    \"\"\"\n",
    "    img_np: float32 (H,W,3) in [0,255] (from tf.dataset), convert to uint8 for features.\n",
    "    Returns 1D float32 vector.\n",
    "    \"\"\"\n",
    "    if img_np.dtype != np.uint8:\n",
    "        img_u8 = np.clip(img_np, 0, 255).astype(np.uint8)\n",
    "    else:\n",
    "        img_u8 = img_np\n",
    "    f1 = _rgb_hsv_stats(img_u8)           # 12\n",
    "    f2 = _green_hist(img_u8, bins=16)     # 16\n",
    "    f3 = _glcm_feats(img_u8, levels=32)   # 6\n",
    "    f4 = _lbp_hist(img_u8, P=8, R=1.0)    # 10\n",
    "    feats = np.concatenate([f1, f2, f3, f4], axis=0)  # total 44\n",
    "    return feats.astype(np.float32)\n",
    "\n",
    "# Tính kích thước đặc trưng một lần để set_shape cho tf.data\n",
    "_FEATURE_DIM = len(handcrafted_features_numpy(np.zeros((IMG_SIZE, IMG_SIZE, 3), dtype=np.uint8)))\n",
    "\n",
    "def add_handcrafted_to_batch(x, y):\n",
    "    \"\"\"\n",
    "    x: (B,H,W,3) float32 [0,255] ; y: (B,)\n",
    "    return: ((x, feats), y)  với feats shape (B, _FEATURE_DIM)\n",
    "    \"\"\"\n",
    "    def _batch_feats(x_batch):\n",
    "        x_np = x_batch.numpy()  # (B,H,W,3)\n",
    "        feats = [handcrafted_features_numpy(img) for img in x_np]\n",
    "        return np.stack(feats, axis=0).astype(np.float32)\n",
    "\n",
    "    feats = tf.py_function(func=_batch_feats, inp=[x], Tout=tf.float32)\n",
    "    feats.set_shape([None, _FEATURE_DIM])\n",
    "    return (x, feats), y"
   ]
  },
  {
   "cell_type": "code",
   "execution_count": 20,
   "id": "14cca6ab",
   "metadata": {},
   "outputs": [],
   "source": [
    "# ================== MODEL ==================\n",
    "def build_msedensenet_model():\n",
    "    # Input 1: ảnh\n",
    "    inp_img = layers.Input(shape=(IMG_SIZE, IMG_SIZE, 3), name=\"image_input\")\n",
    "    x = make_augmenter()(inp_img)\n",
    "    x = layers.Rescaling(1./255)(x)\n",
    "    base = DenseNet121(include_top=False, weights=\"imagenet\", input_tensor=x, pooling=\"avg\", name=\"densenet121\")\n",
    "    base.trainable = False\n",
    "    feat_cnn = base.output                      # (None, 1024)\n",
    "\n",
    "    # Head CNN nhỏ\n",
    "    h = layers.Dropout(0.4)(feat_cnn)\n",
    "    h = layers.Dense(512, activation=\"relu\")(h)\n",
    "    h = layers.BatchNormalization()(h)\n",
    "    h = layers.Dropout(0.3)(h)\n",
    "\n",
    "    # Input 2: đặc trưng thủ công\n",
    "    inp_feat = layers.Input(shape=(_FEATURE_DIM,), name=\"handcrafted_input\")\n",
    "    f = layers.BatchNormalization()(inp_feat)\n",
    "    f = layers.Dense(128, activation=\"relu\")(f)\n",
    "    f = layers.Dropout(0.3)(f)\n",
    "\n",
    "    # Hợp nhất\n",
    "    z = layers.Concatenate()([h, f])\n",
    "    z = layers.Dense(256, activation=\"relu\")(z)\n",
    "    z = layers.Dropout(0.3)(z)\n",
    "    out = layers.Dense(5, activation=\"softmax\", name=\"pred\")(z)\n",
    "\n",
    "    model = keras.Model([inp_img, inp_feat], out, name=\"MSE_DenseNet121_Handcrafted\")\n",
    "    model.compile(\n",
    "        optimizer=keras.optimizers.Adam(1e-3),\n",
    "        loss=\"sparse_categorical_crossentropy\",\n",
    "        metrics=[\"accuracy\"]\n",
    "    )\n",
    "    return model\n",
    "\n",
    "def unfreeze_backbone(model, n_last=100, lr=1e-4):\n",
    "   # lấy tất cả layer conv2, conv3, conv4, conv5 bên trong backbone\n",
    "    backbone_layers = [l for l in model.layers if l.name.startswith((\"conv\", \"pool\", \"bn\", \"relu\", \"avg_pool\"))]\n",
    "\n",
    "    # chỉ mở n_last layer cuối\n",
    "    for l in backbone_layers[:-n_last]:\n",
    "        l.trainable = False\n",
    "    for l in backbone_layers[-n_last:]:\n",
    "        if isinstance(l, layers.BatchNormalization):\n",
    "            l.trainable = False\n",
    "        else:\n",
    "            l.trainable = True\n",
    "\n",
    "    model.compile(\n",
    "        optimizer=keras.optimizers.Adam(lr),\n",
    "        loss=\"sparse_categorical_crossentropy\",\n",
    "        metrics=[\"accuracy\"]\n",
    "    )"
   ]
  },
  {
   "cell_type": "code",
   "execution_count": 21,
   "id": "30781c58",
   "metadata": {},
   "outputs": [],
   "source": [
    "# ================== EVAL HELPERS ==================\n",
    "def collect_predictions(model, ds):\n",
    "    y_true_all, p_all = [], []\n",
    "    for (x_img, x_feat), y in ds:\n",
    "        p = model.predict([x_img, x_feat], verbose=0)\n",
    "        p_all.append(p)\n",
    "        y_true_all.append(y.numpy())\n",
    "    return np.concatenate(y_true_all), np.concatenate(p_all, axis=0)\n",
    "\n",
    "def report_metrics(y_true, p, title=\"VAL\"):\n",
    "    from sklearn.metrics import classification_report, confusion_matrix, accuracy_score\n",
    "    y_pred = np.argmax(p, axis=1)\n",
    "    print(f\"\\n== {title} ==\")\n",
    "    print(\"Accuracy:\", f\"{accuracy_score(y_true, y_pred):.4f}\")\n",
    "    print(classification_report(y_true, y_pred, digits=4))\n",
    "    print(\"Confusion matrix:\\n\", confusion_matrix(y_true, y_pred))"
   ]
  },
  {
   "cell_type": "code",
   "execution_count": 22,
   "id": "989ee1ac",
   "metadata": {},
   "outputs": [],
   "source": [
    "# ================== MAIN ==================\n",
    "def main():\n",
    "    print(\"== Tạo dataset gốc ==\")\n",
    "    ds_train_raw = load_ds_5cls(TRAIN_DIR, shuffle=True)\n",
    "    ds_val_raw   = load_ds_5cls(VAL_DIR, shuffle=False)\n",
    "\n",
    "    # Gắn đặc trưng thủ công vào mỗi batch\n",
    "    print(f\"Feature dim = {_FEATURE_DIM}\")\n",
    "    ds_train = ds_train_raw.map(add_handcrafted_to_batch, num_parallel_calls=AUTOTUNE).prefetch(AUTOTUNE)\n",
    "    ds_val   = ds_val_raw.map(add_handcrafted_to_batch,   num_parallel_calls=AUTOTUNE).prefetch(AUTOTUNE)\n",
    "\n",
    "    # ====== Train head ======\n",
    "    head_path = os.path.join(OUT_DIR, \"head_best.keras\")\n",
    "\n",
    "    if os.path.exists(head_path):\n",
    "        print(\"\\n=== Load model từ head_best.keras ===\")\n",
    "        model = keras.models.load_model(head_path, compile=False,safe_mode=False)\n",
    "        model.compile(\n",
    "            optimizer=keras.optimizers.Adam(1e-3),\n",
    "            loss=\"sparse_categorical_crossentropy\",\n",
    "            metrics=[\"accuracy\"]\n",
    "        )\n",
    "    else:\n",
    "        print(\"\\n=== Huấn luyện head (freeze backbone) ===\")\n",
    "        model = build_msedensenet_model()\n",
    "        cbs = [\n",
    "            keras.callbacks.EarlyStopping(monitor=\"val_loss\", patience=5, restore_best_weights=True),\n",
    "            keras.callbacks.ReduceLROnPlateau(monitor=\"val_loss\", factor=0.5, patience=3, min_lr=1e-6),\n",
    "            keras.callbacks.ModelCheckpoint(head_path, monitor=\"val_loss\", save_best_only=True)\n",
    "        ]\n",
    "        model.fit(ds_train, validation_data=ds_val, epochs=HEAD_EPOCHS, callbacks=cbs)\n",
    "\n",
    "\n",
    "    # ====== Fine-tune backbone ======\n",
    "    print(\"\\n=== Fine-tune DenseNet121 (mở ~100 layer cuối) ===\")\n",
    "    unfreeze_backbone(model, n_last=100, lr=1e-4)\n",
    "    cbs_ft = [\n",
    "        keras.callbacks.EarlyStopping(monitor=\"val_loss\", patience=5, restore_best_weights=True),\n",
    "        keras.callbacks.ReduceLROnPlateau(monitor=\"val_loss\", factor=0.5, patience=2, min_lr=1e-6),\n",
    "        keras.callbacks.ModelCheckpoint(os.path.join(OUT_DIR, \"finetune_best.keras\"), monitor=\"val_loss\", save_best_only=True)\n",
    "    ]\n",
    "    model.fit(ds_train, validation_data=ds_val, epochs=FT_EPOCHS, callbacks=cbs_ft)\n",
    "\n",
    "    # Lưu\n",
    "    final_path = os.path.join(OUT_DIR, \"msedensenet_final.keras\")\n",
    "    model.save(final_path)\n",
    "    print(\"Saved:\", final_path)\n",
    "\n",
    "    # Đánh giá nhanh trên VAL\n",
    "    y_val, p_val = collect_predictions(model, ds_val)\n",
    "    report_metrics(y_val, p_val, title=\"VAL (MSE-DenseNet+Handcrafted)\")\n",
    "\n",
    "    with open(os.path.join(OUT_DIR, \"summary.json\"), \"w\", encoding=\"utf-8\") as f:\n",
    "        json.dump({\"done\": True, \"feature_dim\": int(_FEATURE_DIM)}, f, ensure_ascii=False, indent=2)\n"
   ]
  },
  {
   "cell_type": "code",
   "execution_count": 13,
   "id": "579b113c",
   "metadata": {},
   "outputs": [],
   "source": [
    "# ================== INFERENCE 1 ẢNH ==================\n",
    "def predict_one_image(img_path, model_path=os.path.join(OUT_DIR, \"msedensenet_final.keras\")):\n",
    "    model = keras.models.load_model(model_path, compile=False)\n",
    "\n",
    "    # 1) Ảnh cho nhánh CNN\n",
    "    img = tf.keras.preprocessing.image.load_img(img_path, target_size=(IMG_SIZE, IMG_SIZE))\n",
    "    x_img = tf.keras.preprocessing.image.img_to_array(img)  # float32 [0..255]\n",
    "    x_img = np.expand_dims(x_img, 0).astype(np.float32)\n",
    "\n",
    "    # 2) Đặc trưng thủ công cho nhánh thứ 2\n",
    "    feats = handcrafted_features_numpy(x_img[0])  # (F,)\n",
    "    x_feat = np.expand_dims(feats, 0).astype(np.float32)\n",
    "\n",
    "    p = model.predict([x_img, x_feat], verbose=0)[0]\n",
    "    y_hat = int(np.argmax(p))\n",
    "    return y_hat, p.tolist()\n"
   ]
  },
  {
   "cell_type": "code",
   "execution_count": 23,
   "id": "7ab0a910",
   "metadata": {},
   "outputs": [
    {
     "name": "stdout",
     "output_type": "stream",
     "text": [
      "== Tạo dataset gốc ==\n",
      "Found 7324 files belonging to 5 classes.\n",
      "Found 366 files belonging to 5 classes.\n",
      "Feature dim = 44\n",
      "\n",
      "=== Huấn luyện head (freeze backbone) ===\n",
      "Epoch 1/12\n"
     ]
    },
    {
     "name": "stderr",
     "output_type": "stream",
     "text": [
      "WARNING: All log messages before absl::InitializeLog() is called are written to STDERR\n",
      "I0000 00:00:1755395367.668887    9908 service.cc:152] XLA service 0x715490002850 initialized for platform CUDA (this does not guarantee that XLA will be used). Devices:\n",
      "I0000 00:00:1755395367.668921    9908 service.cc:160]   StreamExecutor device (0): NVIDIA GeForce RTX 3050 Laptop GPU, Compute Capability 8.6\n",
      "2025-08-16 21:49:28.164330: I tensorflow/compiler/mlir/tensorflow/utils/dump_mlir_util.cc:269] disabling MLIR crash reproducer, set env var `MLIR_CRASH_REPRODUCER_DIRECTORY` to enable.\n",
      "I0000 00:00:1755395370.527086    9908 cuda_dnn.cc:529] Loaded cuDNN version 90300\n"
     ]
    },
    {
     "name": "stdout",
     "output_type": "stream",
     "text": [
      "\u001b[1m  3/458\u001b[0m \u001b[37m━━━━━━━━━━━━━━━━━━━━\u001b[0m \u001b[1m26s\u001b[0m 57ms/step - accuracy: 0.1458 - loss: 2.3034 "
     ]
    },
    {
     "name": "stderr",
     "output_type": "stream",
     "text": [
      "I0000 00:00:1755395388.998801    9908 device_compiler.h:188] Compiled cluster using XLA!  This line is logged at most once for the lifetime of the process.\n"
     ]
    },
    {
     "name": "stdout",
     "output_type": "stream",
     "text": [
      "\u001b[1m458/458\u001b[0m \u001b[32m━━━━━━━━━━━━━━━━━━━━\u001b[0m\u001b[37m\u001b[0m \u001b[1m0s\u001b[0m 93ms/step - accuracy: 0.4142 - loss: 1.5625"
     ]
    },
    {
     "name": "stderr",
     "output_type": "stream",
     "text": [
      "2025-08-16 21:50:33.694542: W tensorflow/core/kernels/data/prefetch_autotuner.cc:52] Prefetch autotuner tried to allocate 16780288 bytes after encountering the first element of size 16780288 bytes.This already causes the autotune ram budget to be exceeded. To stay within the ram budget, either increase the ram budget or reduce element size\n",
      "2025-08-16 21:50:35.987030: I external/local_xla/xla/stream_executor/cuda/subprocess_compilation.cc:346] ptxas warning : Registers are spilled to local memory in function 'gemm_fusion_dot_3337_0', 200 bytes spill stores, 416 bytes spill loads\n",
      "\n",
      "2025-08-16 21:50:36.082078: I external/local_xla/xla/stream_executor/cuda/subprocess_compilation.cc:346] ptxas warning : Registers are spilled to local memory in function 'gemm_fusion_dot_3337', 4 bytes spill stores, 4 bytes spill loads\n",
      "\n",
      "2025-08-16 21:50:36.281023: I external/local_xla/xla/stream_executor/cuda/subprocess_compilation.cc:346] ptxas warning : Registers are spilled to local memory in function 'gemm_fusion_dot_3337', 64 bytes spill stores, 136 bytes spill loads\n",
      "\n",
      "2025-08-16 21:50:37.022215: I external/local_xla/xla/stream_executor/cuda/subprocess_compilation.cc:346] ptxas warning : Registers are spilled to local memory in function 'gemm_fusion_dot_3337', 992 bytes spill stores, 996 bytes spill loads\n",
      "\n",
      "2025-08-16 21:50:37.240434: I external/local_xla/xla/stream_executor/cuda/subprocess_compilation.cc:346] ptxas warning : Registers are spilled to local memory in function 'gemm_fusion_dot_3337', 3912 bytes spill stores, 3900 bytes spill loads\n",
      "\n",
      "2025-08-16 21:50:44.644654: I external/local_xla/xla/stream_executor/cuda/subprocess_compilation.cc:346] ptxas warning : Registers are spilled to local memory in function 'gemm_fusion_dot_3337_0', 184 bytes spill stores, 404 bytes spill loads\n",
      "\n",
      "2025-08-16 21:50:44.676016: I external/local_xla/xla/stream_executor/cuda/subprocess_compilation.cc:346] ptxas warning : Registers are spilled to local memory in function 'gemm_fusion_dot_3337', 8 bytes spill stores, 8 bytes spill loads\n",
      "\n",
      "2025-08-16 21:50:44.826538: I external/local_xla/xla/stream_executor/cuda/subprocess_compilation.cc:346] ptxas warning : Registers are spilled to local memory in function 'gemm_fusion_dot_3337', 12 bytes spill stores, 12 bytes spill loads\n",
      "\n",
      "2025-08-16 21:50:44.966028: I external/local_xla/xla/stream_executor/cuda/subprocess_compilation.cc:346] ptxas warning : Registers are spilled to local memory in function 'gemm_fusion_dot_3337', 112 bytes spill stores, 112 bytes spill loads\n",
      "\n",
      "2025-08-16 21:50:45.013229: I external/local_xla/xla/stream_executor/cuda/subprocess_compilation.cc:346] ptxas warning : Registers are spilled to local memory in function 'gemm_fusion_dot_3337', 8 bytes spill stores, 8 bytes spill loads\n",
      "\n",
      "2025-08-16 21:50:46.161933: I external/local_xla/xla/stream_executor/cuda/subprocess_compilation.cc:346] ptxas warning : Registers are spilled to local memory in function 'gemm_fusion_dot_3337', 3944 bytes spill stores, 3928 bytes spill loads\n",
      "\n",
      "2025-08-16 21:50:46.370280: I external/local_xla/xla/stream_executor/cuda/subprocess_compilation.cc:346] ptxas warning : Registers are spilled to local memory in function 'gemm_fusion_dot_3337', 992 bytes spill stores, 992 bytes spill loads\n",
      "\n"
     ]
    },
    {
     "name": "stdout",
     "output_type": "stream",
     "text": [
      "\u001b[1m458/458\u001b[0m \u001b[32m━━━━━━━━━━━━━━━━━━━━\u001b[0m\u001b[37m\u001b[0m \u001b[1m101s\u001b[0m 159ms/step - accuracy: 0.4143 - loss: 1.5621 - val_accuracy: 0.5219 - val_loss: 1.0842 - learning_rate: 0.0010\n",
      "Epoch 2/12\n",
      "\u001b[1m458/458\u001b[0m \u001b[32m━━━━━━━━━━━━━━━━━━━━\u001b[0m\u001b[37m\u001b[0m \u001b[1m51s\u001b[0m 111ms/step - accuracy: 0.5285 - loss: 1.1494 - val_accuracy: 0.5546 - val_loss: 1.1115 - learning_rate: 0.0010\n",
      "Epoch 3/12\n",
      "\u001b[1m458/458\u001b[0m \u001b[32m━━━━━━━━━━━━━━━━━━━━\u001b[0m\u001b[37m\u001b[0m \u001b[1m0s\u001b[0m 93ms/step - accuracy: 0.5491 - loss: 1.0822"
     ]
    },
    {
     "name": "stderr",
     "output_type": "stream",
     "text": [
      "2025-08-16 21:52:35.482002: W tensorflow/core/kernels/data/prefetch_autotuner.cc:52] Prefetch autotuner tried to allocate 16780288 bytes after encountering the first element of size 16780288 bytes.This already causes the autotune ram budget to be exceeded. To stay within the ram budget, either increase the ram budget or reduce element size\n"
     ]
    },
    {
     "name": "stdout",
     "output_type": "stream",
     "text": [
      "\u001b[1m458/458\u001b[0m \u001b[32m━━━━━━━━━━━━━━━━━━━━\u001b[0m\u001b[37m\u001b[0m \u001b[1m44s\u001b[0m 95ms/step - accuracy: 0.5491 - loss: 1.0822 - val_accuracy: 0.4672 - val_loss: 1.2699 - learning_rate: 0.0010\n",
      "Epoch 4/12\n",
      "\u001b[1m  4/458\u001b[0m \u001b[37m━━━━━━━━━━━━━━━━━━━━\u001b[0m \u001b[1m21s\u001b[0m 48ms/step - accuracy: 0.4883 - loss: 1.1224"
     ]
    },
    {
     "name": "stderr",
     "output_type": "stream",
     "text": [
      "2025-08-16 21:52:36.785361: W tensorflow/core/kernels/data/prefetch_autotuner.cc:52] Prefetch autotuner tried to allocate 16780288 bytes after encountering the first element of size 16780288 bytes.This already causes the autotune ram budget to be exceeded. To stay within the ram budget, either increase the ram budget or reduce element size\n"
     ]
    },
    {
     "name": "stdout",
     "output_type": "stream",
     "text": [
      "\u001b[1m458/458\u001b[0m \u001b[32m━━━━━━━━━━━━━━━━━━━━\u001b[0m\u001b[37m\u001b[0m \u001b[1m51s\u001b[0m 110ms/step - accuracy: 0.5480 - loss: 1.0454 - val_accuracy: 0.4672 - val_loss: 1.2973 - learning_rate: 0.0010\n",
      "Epoch 5/12\n",
      "\u001b[1m  3/458\u001b[0m \u001b[37m━━━━━━━━━━━━━━━━━━━━\u001b[0m \u001b[1m19s\u001b[0m 43ms/step - accuracy: 0.5243 - loss: 1.1403  "
     ]
    },
    {
     "name": "stderr",
     "output_type": "stream",
     "text": [
      "2025-08-16 21:53:27.425109: W tensorflow/core/kernels/data/prefetch_autotuner.cc:52] Prefetch autotuner tried to allocate 16780288 bytes after encountering the first element of size 16780288 bytes.This already causes the autotune ram budget to be exceeded. To stay within the ram budget, either increase the ram budget or reduce element size\n"
     ]
    },
    {
     "name": "stdout",
     "output_type": "stream",
     "text": [
      "\u001b[1m458/458\u001b[0m \u001b[32m━━━━━━━━━━━━━━━━━━━━\u001b[0m\u001b[37m\u001b[0m \u001b[1m51s\u001b[0m 110ms/step - accuracy: 0.5713 - loss: 1.0159 - val_accuracy: 0.4918 - val_loss: 1.1989 - learning_rate: 5.0000e-04\n",
      "Epoch 6/12\n",
      "\u001b[1m457/458\u001b[0m \u001b[32m━━━━━━━━━━━━━━━━━━━\u001b[0m\u001b[37m━\u001b[0m \u001b[1m0s\u001b[0m 55ms/step - accuracy: 0.5761 - loss: 1.0019"
     ]
    },
    {
     "name": "stderr",
     "output_type": "stream",
     "text": [
      "2025-08-16 21:54:43.113141: W tensorflow/core/kernels/data/prefetch_autotuner.cc:52] Prefetch autotuner tried to allocate 16780288 bytes after encountering the first element of size 16780288 bytes.This already causes the autotune ram budget to be exceeded. To stay within the ram budget, either increase the ram budget or reduce element size\n"
     ]
    },
    {
     "name": "stdout",
     "output_type": "stream",
     "text": [
      "\u001b[1m458/458\u001b[0m \u001b[32m━━━━━━━━━━━━━━━━━━━━\u001b[0m\u001b[37m\u001b[0m \u001b[1m27s\u001b[0m 59ms/step - accuracy: 0.5761 - loss: 1.0018 - val_accuracy: 0.5109 - val_loss: 1.1684 - learning_rate: 5.0000e-04\n",
      "\n",
      "=== Fine-tune DenseNet121 (mở ~100 layer cuối) ===\n",
      "Epoch 1/12\n",
      "\u001b[1m458/458\u001b[0m \u001b[32m━━━━━━━━━━━━━━━━━━━━\u001b[0m\u001b[37m\u001b[0m \u001b[1m77s\u001b[0m 118ms/step - accuracy: 0.5287 - loss: 1.1151 - val_accuracy: 0.5410 - val_loss: 1.0006 - learning_rate: 1.0000e-04\n",
      "Epoch 2/12\n",
      "\u001b[1m458/458\u001b[0m \u001b[32m━━━━━━━━━━━━━━━━━━━━\u001b[0m\u001b[37m\u001b[0m \u001b[1m27s\u001b[0m 58ms/step - accuracy: 0.5731 - loss: 0.9923 - val_accuracy: 0.5410 - val_loss: 0.9963 - learning_rate: 1.0000e-04\n",
      "Epoch 3/12\n",
      "\u001b[1m458/458\u001b[0m \u001b[32m━━━━━━━━━━━━━━━━━━━━\u001b[0m\u001b[37m\u001b[0m \u001b[1m26s\u001b[0m 56ms/step - accuracy: 0.6136 - loss: 0.9175 - val_accuracy: 0.5519 - val_loss: 1.0307 - learning_rate: 1.0000e-04\n",
      "Epoch 4/12\n",
      "\u001b[1m458/458\u001b[0m \u001b[32m━━━━━━━━━━━━━━━━━━━━\u001b[0m\u001b[37m\u001b[0m \u001b[1m26s\u001b[0m 56ms/step - accuracy: 0.6428 - loss: 0.8348 - val_accuracy: 0.4317 - val_loss: 1.5497 - learning_rate: 1.0000e-04\n",
      "Epoch 5/12\n",
      "\u001b[1m  3/458\u001b[0m \u001b[37m━━━━━━━━━━━━━━━━━━━━\u001b[0m \u001b[1m27s\u001b[0m 60ms/step - accuracy: 0.7361 - loss: 0.7051"
     ]
    },
    {
     "name": "stderr",
     "output_type": "stream",
     "text": [
      "2025-08-16 21:57:20.624403: W tensorflow/core/kernels/data/prefetch_autotuner.cc:52] Prefetch autotuner tried to allocate 16780288 bytes after encountering the first element of size 16780288 bytes.This already causes the autotune ram budget to be exceeded. To stay within the ram budget, either increase the ram budget or reduce element size\n"
     ]
    },
    {
     "name": "stdout",
     "output_type": "stream",
     "text": [
      "\u001b[1m458/458\u001b[0m \u001b[32m━━━━━━━━━━━━━━━━━━━━\u001b[0m\u001b[37m\u001b[0m \u001b[1m52s\u001b[0m 113ms/step - accuracy: 0.6836 - loss: 0.7531 - val_accuracy: 0.5273 - val_loss: 1.2494 - learning_rate: 5.0000e-05\n",
      "Epoch 6/12\n",
      "\u001b[1m458/458\u001b[0m \u001b[32m━━━━━━━━━━━━━━━━━━━━\u001b[0m\u001b[37m\u001b[0m \u001b[1m26s\u001b[0m 55ms/step - accuracy: 0.7131 - loss: 0.6855 - val_accuracy: 0.5656 - val_loss: 1.2070 - learning_rate: 5.0000e-05\n",
      "Epoch 7/12\n",
      "\u001b[1m  3/458\u001b[0m \u001b[37m━━━━━━━━━━━━━━━━━━━━\u001b[0m \u001b[1m23s\u001b[0m 52ms/step - accuracy: 0.8021 - loss: 0.6262"
     ]
    },
    {
     "name": "stderr",
     "output_type": "stream",
     "text": [
      "2025-08-16 21:58:38.351751: W tensorflow/core/kernels/data/prefetch_autotuner.cc:52] Prefetch autotuner tried to allocate 16780288 bytes after encountering the first element of size 16780288 bytes.This already causes the autotune ram budget to be exceeded. To stay within the ram budget, either increase the ram budget or reduce element size\n"
     ]
    },
    {
     "name": "stdout",
     "output_type": "stream",
     "text": [
      "\u001b[1m458/458\u001b[0m \u001b[32m━━━━━━━━━━━━━━━━━━━━\u001b[0m\u001b[37m\u001b[0m \u001b[1m52s\u001b[0m 112ms/step - accuracy: 0.7603 - loss: 0.6050 - val_accuracy: 0.5984 - val_loss: 1.1391 - learning_rate: 2.5000e-05\n",
      "Saved: outputs_msedensenet/msedensenet_final.keras\n"
     ]
    },
    {
     "name": "stderr",
     "output_type": "stream",
     "text": [
      "2025-08-16 21:59:31.244703: W tensorflow/core/kernels/data/prefetch_autotuner.cc:52] Prefetch autotuner tried to allocate 16780288 bytes after encountering the first element of size 16780288 bytes.This already causes the autotune ram budget to be exceeded. To stay within the ram budget, either increase the ram budget or reduce element size\n"
     ]
    },
    {
     "name": "stdout",
     "output_type": "stream",
     "text": [
      "\n",
      "== VAL (MSE-DenseNet+Handcrafted) ==\n",
      "Accuracy: 0.5410\n",
      "              precision    recall  f1-score   support\n",
      "\n",
      "           0     0.9459    0.7778    0.8537       180\n",
      "           1     0.2417    0.7838    0.3694        37\n",
      "           2     0.6429    0.0900    0.1579       100\n",
      "           3     0.1912    0.6500    0.2955        20\n",
      "           4     0.4375    0.2414    0.3111        29\n",
      "\n",
      "    accuracy                         0.5410       366\n",
      "   macro avg     0.4918    0.5086    0.3975       366\n",
      "weighted avg     0.7104    0.5410    0.5411       366\n",
      "\n",
      "Confusion matrix:\n",
      " [[140  39   0   1   0]\n",
      " [  5  29   1   1   1]\n",
      " [  3  40   9  43   5]\n",
      " [  0   2   2  13   3]\n",
      " [  0  10   2  10   7]]\n"
     ]
    },
    {
     "name": "stderr",
     "output_type": "stream",
     "text": [
      "2025-08-16 21:59:48.258607: I tensorflow/core/framework/local_rendezvous.cc:407] Local rendezvous is aborting with status: OUT_OF_RANGE: End of sequence\n"
     ]
    }
   ],
   "source": [
    "main()"
   ]
  },
  {
   "cell_type": "code",
   "execution_count": 26,
   "id": "44154043",
   "metadata": {},
   "outputs": [],
   "source": [
    "import seaborn as sns\n",
    "import matplotlib.pyplot as plt\n",
    "from sklearn.metrics import classification_report, confusion_matrix\n",
    "\n",
    "def evaluate_model_on_test(model_path, test_dir, img_size=224, batch_size=16):\n",
    "    \"\"\"\n",
    "    Đánh giá model trên tập test (chứa thư mục con 0..4).\n",
    "    \"\"\"\n",
    "    # 1) Load model\n",
    "    model = keras.models.load_model(model_path, compile=False,safe_mode=False)\n",
    "\n",
    "    # 2) Load test dataset\n",
    "    ds_test_raw = tf.keras.utils.image_dataset_from_directory(\n",
    "        test_dir,\n",
    "        labels=\"inferred\",\n",
    "        label_mode=\"int\",\n",
    "        class_names=[\"0\", \"1\", \"2\", \"3\", \"4\"],\n",
    "        color_mode=\"rgb\",\n",
    "        image_size=(img_size, img_size),\n",
    "        batch_size=batch_size,\n",
    "        shuffle=False  # quan trọng để so sánh nhãn\n",
    "    )\n",
    "    ds_test = ds_test_raw.map(add_handcrafted_to_batch, num_parallel_calls=AUTOTUNE).prefetch(AUTOTUNE)\n",
    "\n",
    "    # 3) Dự đoán\n",
    "    y_true, y_pred, y_prob = [], [], []\n",
    "    for (x_img, x_feat), y in ds_test:\n",
    "        p = model.predict([x_img, x_feat], verbose=0)\n",
    "        y_true.extend(y.numpy())\n",
    "        y_pred.extend(np.argmax(p, axis=1))\n",
    "        y_prob.extend(p)\n",
    "\n",
    "    y_true = np.array(y_true)\n",
    "    y_pred = np.array(y_pred)\n",
    "\n",
    "    # 4) Báo cáo Precision, Recall, F1-score\n",
    "    print(\"\\n=== Classification Report ===\")\n",
    "    print(classification_report(y_true, y_pred, digits=4))\n",
    "\n",
    "    # 5) Vẽ Confusion Matrix\n",
    "    cm = confusion_matrix(y_true, y_pred)\n",
    "    plt.figure(figsize=(6,5))\n",
    "    sns.heatmap(cm, annot=True, fmt=\"d\", cmap=\"Blues\", \n",
    "                xticklabels=[\"0\",\"1\",\"2\",\"3\",\"4\"], \n",
    "                yticklabels=[\"0\",\"1\",\"2\",\"3\",\"4\"])\n",
    "    plt.xlabel(\"Predicted\")\n",
    "    plt.ylabel(\"True\")\n",
    "    plt.title(\"Confusion Matrix on Test Set\")\n",
    "    plt.show()\n"
   ]
  },
  {
   "cell_type": "code",
   "execution_count": 27,
   "id": "281a04b5",
   "metadata": {},
   "outputs": [
    {
     "name": "stdout",
     "output_type": "stream",
     "text": [
      "Found 367 files belonging to 5 classes.\n"
     ]
    },
    {
     "name": "stderr",
     "output_type": "stream",
     "text": [
      "2025-08-16 22:04:06.487999: I external/local_xla/xla/stream_executor/cuda/subprocess_compilation.cc:346] ptxas warning : Registers are spilled to local memory in function 'gemm_fusion_dot_3318', 12 bytes spill stores, 12 bytes spill loads\n",
      "\n",
      "2025-08-16 22:04:06.801521: I external/local_xla/xla/stream_executor/cuda/subprocess_compilation.cc:346] ptxas warning : Registers are spilled to local memory in function 'gemm_fusion_dot_3318_0', 184 bytes spill stores, 404 bytes spill loads\n",
      "\n",
      "2025-08-16 22:04:07.016383: I external/local_xla/xla/stream_executor/cuda/subprocess_compilation.cc:346] ptxas warning : Registers are spilled to local memory in function 'gemm_fusion_dot_3318', 112 bytes spill stores, 112 bytes spill loads\n",
      "\n",
      "2025-08-16 22:04:07.023550: I external/local_xla/xla/stream_executor/cuda/subprocess_compilation.cc:346] ptxas warning : Registers are spilled to local memory in function 'gemm_fusion_dot_3318', 8 bytes spill stores, 8 bytes spill loads\n",
      "\n",
      "2025-08-16 22:04:07.058229: I external/local_xla/xla/stream_executor/cuda/subprocess_compilation.cc:346] ptxas warning : Registers are spilled to local memory in function 'gemm_fusion_dot_3318', 8 bytes spill stores, 8 bytes spill loads\n",
      "\n",
      "2025-08-16 22:04:07.575939: I external/local_xla/xla/stream_executor/cuda/subprocess_compilation.cc:346] ptxas warning : Registers are spilled to local memory in function 'gemm_fusion_dot_3318', 3924 bytes spill stores, 3912 bytes spill loads\n",
      "\n",
      "2025-08-16 22:04:08.138856: I external/local_xla/xla/stream_executor/cuda/subprocess_compilation.cc:346] ptxas warning : Registers are spilled to local memory in function 'gemm_fusion_dot_3318', 992 bytes spill stores, 992 bytes spill loads\n",
      "\n"
     ]
    },
    {
     "name": "stdout",
     "output_type": "stream",
     "text": [
      "\n",
      "=== Classification Report ===\n",
      "              precision    recall  f1-score   support\n",
      "\n",
      "           0     0.9810    0.8564    0.9145       181\n",
      "           1     0.2903    0.7297    0.4154        37\n",
      "           2     0.7857    0.1100    0.1930       100\n",
      "           3     0.1628    0.7368    0.2667        19\n",
      "           4     0.6875    0.3667    0.4783        30\n",
      "\n",
      "    accuracy                         0.5940       367\n",
      "   macro avg     0.5815    0.5599    0.4535       367\n",
      "weighted avg     0.7918    0.5940    0.5984       367\n",
      "\n"
     ]
    },
    {
     "name": "stderr",
     "output_type": "stream",
     "text": [
      "2025-08-16 22:04:22.599855: I tensorflow/core/framework/local_rendezvous.cc:407] Local rendezvous is aborting with status: OUT_OF_RANGE: End of sequence\n"
     ]
    },
    {
     "data": {
      "image/png": "[encoded data removed]",
      "text/plain": [
       "<Figure size 600x500 with 2 Axes>"
      ]
     },
     "metadata": {},
     "output_type": "display_data"
    }
   ],
   "source": [
    "evaluate_model_on_test(\n",
    "    model_path=\"outputs_msedensenet/msedensenet_final.keras\",\n",
    "    test_dir=\"/home/duc/Documents/DoAn/aptos2019-blindness-detection/test_preprocess\",\n",
    "    img_size=224,\n",
    "    batch_size=16\n",
    ")"
   ]
  },
  {
   "cell_type": "code",
   "execution_count": 1,
   "id": "ae09a072",
   "metadata": {},
   "outputs": [],
   "source": [
    "!ipynb-py-convert structure_model_densnet121.ipynb densnet121.py"
   ]
  },
  {
   "cell_type": "code",
   "execution_count": 1,
   "id": "b717855a",
   "metadata": {},
   "outputs": [
    {
     "name": "stderr",
     "output_type": "stream",
     "text": [
      "2025-08-17 10:05:28.964378: I tensorflow/core/util/port.cc:153] oneDNN custom operations are on. You may see slightly different numerical results due to floating-point round-off errors from different computation orders. To turn them off, set the environment variable `TF_ENABLE_ONEDNN_OPTS=0`.\n",
      "2025-08-17 10:05:28.984911: E external/local_xla/xla/stream_executor/cuda/cuda_fft.cc:467] Unable to register cuFFT factory: Attempting to register factory for plugin cuFFT when one has already been registered\n",
      "WARNING: All log messages before absl::InitializeLog() is called are written to STDERR\n",
      "E0000 00:00:1755439529.011229   10454 cuda_dnn.cc:8579] Unable to register cuDNN factory: Attempting to register factory for plugin cuDNN when one has already been registered\n",
      "E0000 00:00:1755439529.019002   10454 cuda_blas.cc:1407] Unable to register cuBLAS factory: Attempting to register factory for plugin cuBLAS when one has already been registered\n",
      "W0000 00:00:1755439529.037214   10454 computation_placer.cc:177] computation placer already registered. Please check linkage and avoid linking the same target more than once.\n",
      "W0000 00:00:1755439529.037252   10454 computation_placer.cc:177] computation placer already registered. Please check linkage and avoid linking the same target more than once.\n",
      "W0000 00:00:1755439529.037255   10454 computation_placer.cc:177] computation placer already registered. Please check linkage and avoid linking the same target more than once.\n",
      "W0000 00:00:1755439529.037257   10454 computation_placer.cc:177] computation placer already registered. Please check linkage and avoid linking the same target more than once.\n",
      "2025-08-17 10:05:29.041509: I tensorflow/core/platform/cpu_feature_guard.cc:210] This TensorFlow binary is optimized to use available CPU instructions in performance-critical operations.\n",
      "To enable the following instructions: AVX2 AVX512F AVX512_VNNI FMA, in other operations, rebuild TensorFlow with the appropriate compiler flags.\n"
     ]
    },
    {
     "name": "stdout",
     "output_type": "stream",
     "text": [
      "Found 7324 files belonging to 5 classes.\n"
     ]
    },
    {
     "name": "stderr",
     "output_type": "stream",
     "text": [
      "I0000 00:00:1755439532.262638   10454 gpu_device.cc:2019] Created device /job:localhost/replica:0/task:0/device:GPU:0 with 2281 MB memory:  -> device: 0, name: NVIDIA GeForce RTX 3050 Laptop GPU, pci bus id: 0000:01:00.0, compute capability: 8.6\n"
     ]
    },
    {
     "name": "stdout",
     "output_type": "stream",
     "text": [
      "Found 366 files belonging to 5 classes.\n",
      "Epoch 1/12\n"
     ]
    },
    {
     "name": "stderr",
     "output_type": "stream",
     "text": [
      "I0000 00:00:1755439546.067193   10572 cuda_dnn.cc:529] Loaded cuDNN version 90300\n"
     ]
    },
    {
     "name": "stdout",
     "output_type": "stream",
     "text": [
      "\u001b[1m458/458\u001b[0m \u001b[32m━━━━━━━━━━━━━━━━━━━━\u001b[0m\u001b[37m\u001b[0m \u001b[1m58s\u001b[0m 104ms/step - accuracy: 0.3906 - loss: 1.6549 - val_accuracy: 0.4126 - val_loss: 1.4595 - learning_rate: 0.0010\n",
      "Epoch 2/12\n",
      "\u001b[1m458/458\u001b[0m \u001b[32m━━━━━━━━━━━━━━━━━━━━\u001b[0m\u001b[37m\u001b[0m \u001b[1m44s\u001b[0m 97ms/step - accuracy: 0.4842 - loss: 1.2617 - val_accuracy: 0.4918 - val_loss: 1.1575 - learning_rate: 0.0010\n",
      "Epoch 3/12\n",
      "\u001b[1m458/458\u001b[0m \u001b[32m━━━━━━━━━━━━━━━━━━━━\u001b[0m\u001b[37m\u001b[0m \u001b[1m44s\u001b[0m 95ms/step - accuracy: 0.5069 - loss: 1.1908 - val_accuracy: 0.4563 - val_loss: 1.3365 - learning_rate: 0.0010\n",
      "Epoch 4/12\n",
      "\u001b[1m458/458\u001b[0m \u001b[32m━━━━━━━━━━━━━━━━━━━━\u001b[0m\u001b[37m\u001b[0m \u001b[1m44s\u001b[0m 95ms/step - accuracy: 0.5053 - loss: 1.1675 - val_accuracy: 0.3497 - val_loss: 1.7400 - learning_rate: 0.0010\n",
      "Epoch 5/12\n",
      "\u001b[1m458/458\u001b[0m \u001b[32m━━━━━━━━━━━━━━━━━━━━\u001b[0m\u001b[37m\u001b[0m \u001b[1m44s\u001b[0m 96ms/step - accuracy: 0.5206 - loss: 1.1433 - val_accuracy: 0.4344 - val_loss: 1.4141 - learning_rate: 0.0010\n",
      "Epoch 6/12\n",
      "\u001b[1m458/458\u001b[0m \u001b[32m━━━━━━━━━━━━━━━━━━━━\u001b[0m\u001b[37m\u001b[0m \u001b[1m44s\u001b[0m 96ms/step - accuracy: 0.5103 - loss: 1.1422 - val_accuracy: 0.4727 - val_loss: 1.2425 - learning_rate: 5.0000e-04\n",
      "Epoch 7/12\n",
      "\u001b[1m458/458\u001b[0m \u001b[32m━━━━━━━━━━━━━━━━━━━━\u001b[0m\u001b[37m\u001b[0m \u001b[1m44s\u001b[0m 96ms/step - accuracy: 0.5273 - loss: 1.1064 - val_accuracy: 0.4754 - val_loss: 1.2271 - learning_rate: 5.0000e-04\n",
      "Epoch 1/12\n",
      "\u001b[1m458/458\u001b[0m \u001b[32m━━━━━━━━━━━━━━━━━━━━\u001b[0m\u001b[37m\u001b[0m \u001b[1m70s\u001b[0m 122ms/step - accuracy: 0.5177 - loss: 1.1519 - val_accuracy: 0.4044 - val_loss: 1.5703 - learning_rate: 1.0000e-04\n",
      "Epoch 2/12\n",
      "\u001b[1m458/458\u001b[0m \u001b[32m━━━━━━━━━━━━━━━━━━━━\u001b[0m\u001b[37m\u001b[0m \u001b[1m48s\u001b[0m 106ms/step - accuracy: 0.5870 - loss: 0.9862 - val_accuracy: 0.5383 - val_loss: 1.1177 - learning_rate: 1.0000e-04\n",
      "Epoch 3/12\n",
      "\u001b[1m458/458\u001b[0m \u001b[32m━━━━━━━━━━━━━━━━━━━━\u001b[0m\u001b[37m\u001b[0m \u001b[1m48s\u001b[0m 104ms/step - accuracy: 0.6158 - loss: 0.9145 - val_accuracy: 0.3743 - val_loss: 1.8710 - learning_rate: 1.0000e-04\n",
      "Epoch 4/12\n",
      "\u001b[1m458/458\u001b[0m \u001b[32m━━━━━━━━━━━━━━━━━━━━\u001b[0m\u001b[37m\u001b[0m \u001b[1m49s\u001b[0m 106ms/step - accuracy: 0.6374 - loss: 0.8765 - val_accuracy: 0.5601 - val_loss: 1.1133 - learning_rate: 1.0000e-04\n",
      "Epoch 5/12\n",
      "\u001b[1m458/458\u001b[0m \u001b[32m━━━━━━━━━━━━━━━━━━━━\u001b[0m\u001b[37m\u001b[0m \u001b[1m48s\u001b[0m 104ms/step - accuracy: 0.6592 - loss: 0.8243 - val_accuracy: 0.4454 - val_loss: 1.5154 - learning_rate: 1.0000e-04\n",
      "Epoch 6/12\n",
      "\u001b[1m458/458\u001b[0m \u001b[32m━━━━━━━━━━━━━━━━━━━━\u001b[0m\u001b[37m\u001b[0m \u001b[1m48s\u001b[0m 105ms/step - accuracy: 0.6965 - loss: 0.7561 - val_accuracy: 0.3634 - val_loss: 1.9897 - learning_rate: 1.0000e-04\n",
      "Epoch 7/12\n",
      "\u001b[1m458/458\u001b[0m \u001b[32m━━━━━━━━━━━━━━━━━━━━\u001b[0m\u001b[37m\u001b[0m \u001b[1m48s\u001b[0m 105ms/step - accuracy: 0.7106 - loss: 0.7109 - val_accuracy: 0.5492 - val_loss: 1.2374 - learning_rate: 5.0000e-05\n",
      "Epoch 8/12\n",
      "\u001b[1m458/458\u001b[0m \u001b[32m━━━━━━━━━━━━━━━━━━━━\u001b[0m\u001b[37m\u001b[0m \u001b[1m48s\u001b[0m 105ms/step - accuracy: 0.7353 - loss: 0.6684 - val_accuracy: 0.5574 - val_loss: 1.3208 - learning_rate: 5.0000e-05\n",
      "Epoch 9/12\n",
      "\u001b[1m458/458\u001b[0m \u001b[32m━━━━━━━━━━━━━━━━━━━━\u001b[0m\u001b[37m\u001b[0m \u001b[1m48s\u001b[0m 105ms/step - accuracy: 0.7573 - loss: 0.6047 - val_accuracy: 0.5437 - val_loss: 1.4177 - learning_rate: 2.5000e-05\n",
      "Saved: outputs_densenet121/densenet121_final.keras\n"
     ]
    }
   ],
   "source": [
    "import os, random\n",
    "import numpy as np\n",
    "import tensorflow as tf\n",
    "from tensorflow import keras\n",
    "from tensorflow.keras import layers\n",
    "from tensorflow.keras.applications import DenseNet121\n",
    "from tensorflow.data import AUTOTUNE\n",
    "\n",
    "# ================== CONFIG ==================\n",
    "SEED = 42\n",
    "random.seed(SEED); np.random.seed(SEED); tf.random.set_seed(SEED)\n",
    "\n",
    "TRAIN_DIR = \"/home/duc/Documents/DoAn/aptos2019-blindness-detection/train_preprocess\"\n",
    "VAL_DIR   = \"/home/duc/Documents/DoAn/aptos2019-blindness-detection/val_preprocess\"\n",
    "\n",
    "IMG_SIZE = 224\n",
    "BATCH_SIZE = 16\n",
    "HEAD_EPOCHS = 12\n",
    "FT_EPOCHS   = 12\n",
    "OUT_DIR = \"outputs_densenet121\"\n",
    "os.makedirs(OUT_DIR, exist_ok=True)\n",
    "\n",
    "\n",
    "# ================== DATA ==================\n",
    "def make_augmenter():\n",
    "    return keras.Sequential([\n",
    "        layers.RandomFlip(\"horizontal\"),\n",
    "        layers.RandomRotation(0.05),\n",
    "        layers.RandomZoom(0.1),\n",
    "        layers.RandomContrast(0.05),\n",
    "    ], name=\"augmenter\")\n",
    "\n",
    "def load_ds(directory, shuffle=True):\n",
    "    ds = tf.keras.utils.image_dataset_from_directory(\n",
    "        directory,\n",
    "        labels=\"inferred\",\n",
    "        label_mode=\"int\",\n",
    "        class_names=[\"0\",\"1\",\"2\",\"3\",\"4\"],\n",
    "        color_mode=\"rgb\",\n",
    "        image_size=(IMG_SIZE, IMG_SIZE),\n",
    "        batch_size=BATCH_SIZE,\n",
    "        shuffle=shuffle,\n",
    "        seed=SEED\n",
    "    )\n",
    "    return ds.prefetch(AUTOTUNE)\n",
    "\n",
    "\n",
    "# ================== MODEL ==================\n",
    "def build_densenet121_model():\n",
    "    inp = layers.Input(shape=(IMG_SIZE, IMG_SIZE, 3), name=\"image_input\")\n",
    "    x = make_augmenter()(inp)\n",
    "    x = layers.Rescaling(1./255)(x)\n",
    "\n",
    "    base = DenseNet121(include_top=False, weights=\"imagenet\",\n",
    "                       input_tensor=x, pooling=\"avg\", name=\"densenet121\")\n",
    "    base.trainable = False\n",
    "\n",
    "    h = layers.Dropout(0.4)(base.output)\n",
    "    h = layers.Dense(512, activation=\"relu\")(h)\n",
    "    h = layers.BatchNormalization()(h)\n",
    "    h = layers.Dropout(0.3)(h)\n",
    "    out = layers.Dense(5, activation=\"softmax\", name=\"pred\")(h)\n",
    "\n",
    "    model = keras.Model(inp, out, name=\"DenseNet121_only\")\n",
    "    model.compile(\n",
    "        optimizer=keras.optimizers.Adam(1e-3),\n",
    "        loss=\"sparse_categorical_crossentropy\",\n",
    "        metrics=[\"accuracy\"]\n",
    "    )\n",
    "    return model\n",
    "\n",
    "\n",
    "def unfreeze_backbone(model, n_last=100, lr=1e-4):\n",
    "    \"\"\"\n",
    "    Mở n_last layer cuối của backbone DenseNet121 để fine-tune.\n",
    "    Không phụ thuộc vào tên 'densenet121' nữa, mà lọc các layer conv/pool/bn.\n",
    "    \"\"\"\n",
    "    backbone_layers = [\n",
    "        l for l in model.layers \n",
    "        if l.name.startswith((\"conv\", \"pool\", \"bn\", \"relu\", \"avg_pool\"))\n",
    "    ]\n",
    "\n",
    "    # Đóng băng hầu hết, chỉ mở n_last layer cuối\n",
    "    for l in backbone_layers[:-n_last]:\n",
    "        l.trainable = False\n",
    "    for l in backbone_layers[-n_last:]:\n",
    "        if isinstance(l, layers.BatchNormalization):\n",
    "            l.trainable = False\n",
    "        else:\n",
    "            l.trainable = True\n",
    "\n",
    "    model.compile(\n",
    "        optimizer=keras.optimizers.Adam(lr),\n",
    "        loss=\"sparse_categorical_crossentropy\",\n",
    "        metrics=[\"accuracy\"]\n",
    "    )\n",
    "    return model\n",
    "\n",
    "\n",
    "# ================== MAIN ==================\n",
    "def main():\n",
    "    ds_train = load_ds(TRAIN_DIR, shuffle=True)\n",
    "    ds_val   = load_ds(VAL_DIR, shuffle=False)\n",
    "\n",
    "    # ====== Train head ======\n",
    "    model = build_densenet121_model()\n",
    "    cbs = [\n",
    "        keras.callbacks.EarlyStopping(monitor=\"val_accuracy\", patience=5, restore_best_weights=True),\n",
    "        keras.callbacks.ReduceLROnPlateau(monitor=\"val_accuracy\", factor=0.5, patience=3, min_lr=1e-6),\n",
    "        keras.callbacks.ModelCheckpoint(os.path.join(OUT_DIR, \"head_best.keras\"), monitor=\"val_accuracy\", save_best_only=True)\n",
    "    ]\n",
    "    model.fit(ds_train, validation_data=ds_val, epochs=HEAD_EPOCHS, callbacks=cbs)\n",
    "\n",
    "    # ====== Fine-tune backbone ======\n",
    "    unfreeze_backbone(model, n_last=100, lr=1e-4)\n",
    "    cbs_ft = [\n",
    "        keras.callbacks.EarlyStopping(monitor=\"val_accuracy\", patience=5, restore_best_weights=True),\n",
    "        keras.callbacks.ReduceLROnPlateau(monitor=\"val_accuracy\", factor=0.5, patience=2, min_lr=1e-6),\n",
    "        keras.callbacks.ModelCheckpoint(os.path.join(OUT_DIR, \"finetune_best.keras\"), monitor=\"val_accuracy\", save_best_only=True)\n",
    "    ]\n",
    "    model.fit(ds_train, validation_data=ds_val, epochs=FT_EPOCHS, callbacks=cbs_ft)\n",
    "\n",
    "    # Lưu\n",
    "    final_path = os.path.join(OUT_DIR, \"densenet121_final.keras\")\n",
    "    model.save(final_path)\n",
    "    print(\"Saved:\", final_path)\n",
    "\n",
    "\n",
    "if __name__ == \"__main__\":\n",
    "    main()\n"
   ]
  },
  {
   "cell_type": "code",
   "execution_count": 2,
   "id": "338ccd9b",
   "metadata": {},
   "outputs": [
    {
     "name": "stdout",
     "output_type": "stream",
     "text": [
      "Found 367 files belonging to 5 classes.\n"
     ]
    },
    {
     "name": "stderr",
     "output_type": "stream",
     "text": [
      "2025-08-17 10:24:42.038028: I tensorflow/core/framework/local_rendezvous.cc:407] Local rendezvous is aborting with status: OUT_OF_RANGE: End of sequence\n"
     ]
    },
    {
     "name": "stdout",
     "output_type": "stream",
     "text": [
      "\u001b[1m23/23\u001b[0m \u001b[32m━━━━━━━━━━━━━━━━━━━━\u001b[0m\u001b[37m\u001b[0m \u001b[1m8s\u001b[0m 208ms/step\n",
      "\n",
      "=== Classification Report ===\n",
      "              precision    recall  f1-score   support\n",
      "\n",
      "           0     0.9866    0.8122    0.8909       181\n",
      "           1     0.2979    0.7568    0.4275        37\n",
      "           2     0.8000    0.2400    0.3692       100\n",
      "           3     0.2857    0.3158    0.3000        19\n",
      "           4     0.3151    0.7667    0.4466        30\n",
      "\n",
      "    accuracy                         0.6213       367\n",
      "   macro avg     0.5370    0.5783    0.4868       367\n",
      "weighted avg     0.7751    0.6213    0.6351       367\n",
      "\n",
      "Overall Accuracy: 0.6213\n"
     ]
    },
    {
     "data": {
      "image/png": "[encoded data removed]",
      "text/plain": [
       "<Figure size 600x500 with 2 Axes>"
      ]
     },
     "metadata": {},
     "output_type": "display_data"
    }
   ],
   "source": [
    "import seaborn as sns\n",
    "import matplotlib.pyplot as plt\n",
    "from sklearn.metrics import classification_report, confusion_matrix, accuracy_score\n",
    "\n",
    "# ================== EVALUATE ==================\n",
    "def evaluate_model_on_test(model_path, test_dir, img_size=224, batch_size=16):\n",
    "    \"\"\"\n",
    "    Đánh giá model trên tập test (chứa thư mục con 0..4).\n",
    "    \"\"\"\n",
    "    # 1) Load model\n",
    "    model = keras.models.load_model(model_path, compile=False)\n",
    "\n",
    "    # 2) Load test dataset\n",
    "    ds_test = tf.keras.utils.image_dataset_from_directory(\n",
    "        test_dir,\n",
    "        labels=\"inferred\",\n",
    "        label_mode=\"int\",\n",
    "        class_names=[\"0\", \"1\", \"2\", \"3\", \"4\"],\n",
    "        color_mode=\"rgb\",\n",
    "        image_size=(img_size, img_size),\n",
    "        batch_size=batch_size,\n",
    "        shuffle=False\n",
    "    )\n",
    "\n",
    "    # 3) Dự đoán\n",
    "    y_true = np.concatenate([y.numpy() for _, y in ds_test], axis=0)\n",
    "    y_prob = model.predict(ds_test, verbose=1)\n",
    "    y_pred = np.argmax(y_prob, axis=1)\n",
    "\n",
    "    # 4) Báo cáo Precision, Recall, F1-score\n",
    "    print(\"\\n=== Classification Report ===\")\n",
    "    print(classification_report(y_true, y_pred, digits=4))\n",
    "\n",
    "    # 5) Accuracy tổng thể\n",
    "    acc = accuracy_score(y_true, y_pred)\n",
    "    print(f\"Overall Accuracy: {acc:.4f}\")\n",
    "\n",
    "    # 6) Vẽ Confusion Matrix\n",
    "    cm = confusion_matrix(y_true, y_pred)\n",
    "    plt.figure(figsize=(6,5))\n",
    "    sns.heatmap(cm, annot=True, fmt=\"d\", cmap=\"Blues\", \n",
    "                xticklabels=[\"0\",\"1\",\"2\",\"3\",\"4\"], \n",
    "                yticklabels=[\"0\",\"1\",\"2\",\"3\",\"4\"])\n",
    "    plt.xlabel(\"Predicted\")\n",
    "    plt.ylabel(\"True\")\n",
    "    plt.title(\"Confusion Matrix - DenseNet121\")\n",
    "    plt.show()\n",
    "\n",
    "\n",
    "# ================== RUN TEST EVAL ==================\n",
    "if __name__ == \"__main__\":\n",
    "    TEST_DIR = \"/home/duc/Documents/DoAn/aptos2019-blindness-detection/test_preprocess\"\n",
    "    evaluate_model_on_test(\n",
    "        model_path=\"outputs_densenet121/densenet121_final.keras\",\n",
    "        test_dir=TEST_DIR,\n",
    "        img_size=224,\n",
    "        batch_size=16\n",
    "    )\n"
   ]
  }
 ],
 "metadata": {
  "kernelspec": {
   "display_name": "myvenv",
   "language": "python",
   "name": "python3"
  },
  "language_info": {
   "codemirror_mode": {
    "name": "ipython",
    "version": 3
   },
   "file_extension": ".py",
   "mimetype": "text/x-python",
   "name": "python",
   "nbconvert_exporter": "python",
   "pygments_lexer": "ipython3",
   "version": "3.10.12"
  }
 },
 "nbformat": 4,
 "nbformat_minor": 5
}
