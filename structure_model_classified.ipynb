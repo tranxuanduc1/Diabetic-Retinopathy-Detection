{
 "cells": [
  {
   "cell_type": "code",
   "execution_count": 36,
   "id": "3a970c52",
   "metadata": {},
   "outputs": [],
   "source": [
    "import os\n",
    "import tensorflow as tf\n",
    "from tensorflow.keras.applications import EfficientNetB0\n",
    "from tensorflow.keras.layers import GlobalAveragePooling2D, Dense, Dropout, BatchNormalization\n",
    "from tensorflow.keras.models import Model\n",
    "from tensorflow.keras.callbacks import ModelCheckpoint, EarlyStopping, ReduceLROnPlateau, CSVLogger\n",
    "from sklearn.model_selection import train_test_split\n",
    "import pandas as pd\n",
    "import numpy as np\n",
    "import matplotlib.pyplot as plt\n",
    "\n",
    "import json"
   ]
  },
  {
   "cell_type": "code",
   "execution_count": 2,
   "id": "82b8d5d6",
   "metadata": {},
   "outputs": [],
   "source": [
    "\n",
    "def ordinal_crossentropy(num_classes=5):\n",
    "    # Weight matrix: squared distance penalty\n",
    "    weights = tf.constant([[ (i - j)**2 for j in range(num_classes)] for i in range(num_classes)], dtype=tf.float32)\n",
    "    def loss_fn(y_true, y_pred):\n",
    "        y_pred = tf.clip_by_value(y_pred, 1e-7, 1.0 - 1e-7)\n",
    "        true_idx = tf.argmax(y_true, axis=-1)\n",
    "        weight_row = tf.gather(weights, true_idx)\n",
    "        # penalize log-probabilities by squared distance\n",
    "        loss = -tf.reduce_sum(weight_row * tf.math.log(y_pred), axis=-1)\n",
    "        return tf.reduce_mean(loss)\n",
    "    return loss_fn\n",
    "\n",
    "\n",
    "def mae_level(y_true, y_pred):\n",
    "    # mean absolute error on the expected class level\n",
    "    num_classes = tf.shape(y_pred)[-1]\n",
    "    levels = tf.cast(tf.range(num_classes), tf.float32)\n",
    "    pred_level = tf.reduce_sum(y_pred * levels, axis=-1)\n",
    "    true_level = tf.cast(tf.argmax(y_true, axis=-1), tf.float32)\n",
    "    return tf.reduce_mean(tf.abs(pred_level - true_level))"
   ]
  },
  {
   "cell_type": "code",
   "execution_count": 25,
   "id": "7f7bbd22",
   "metadata": {},
   "outputs": [],
   "source": [
    "\n",
    "def build_model(input_shape=(256,256,3), num_classes=5):\n",
    "    base = EfficientNetB0(include_top=False, weights=None, input_shape=input_shape)\n",
    "    x = base.output\n",
    "    x = GlobalAveragePooling2D()(x)\n",
    "    x = BatchNormalization()(x)\n",
    "    x = Dropout(0.5)(x)\n",
    "    x = Dense(256, activation='relu')(x)\n",
    "    x = BatchNormalization()(x)\n",
    "    x = Dropout(0.3)(x)\n",
    "    outputs = Dense(num_classes, activation='softmax')(x)\n",
    "    return Model(inputs=base.input, outputs=outputs)"
   ]
  },
  {
   "cell_type": "code",
   "execution_count": null,
   "id": "64674c72",
   "metadata": {},
   "outputs": [],
   "source": [
    "# train_dir = 'train_preprocessed_augmented'\n",
    "# val_dir   = 'validation_preprocessed'\n",
    "# train_csv = 'augmented_labels.csv'\n",
    "# val_csv   = 'trainLabels/validation_updated.csv'"
   ]
  },
  {
   "cell_type": "code",
   "execution_count": null,
   "id": "ef3b3b87",
   "metadata": {},
   "outputs": [],
   "source": [
    "# train_df = pd.read_csv(train_csv)\n",
    "# val_df   = pd.read_csv(val_csv)"
   ]
  },
  {
   "cell_type": "code",
   "execution_count": null,
   "id": "a132b4c3",
   "metadata": {},
   "outputs": [],
   "source": [
    "# train_labels = tf.keras.utils.to_categorical(train_df['level'], num_classes=5)\n",
    "# val_labels   = tf.keras.utils.to_categorical(val_df['level'], num_classes=5)"
   ]
  },
  {
   "cell_type": "code",
   "execution_count": 10,
   "id": "a969f660",
   "metadata": {},
   "outputs": [],
   "source": [
    "def load_image(path, label):\n",
    "        img = tf.io.read_file(path)\n",
    "        img = tf.image.decode_jpeg(img, channels=3)\n",
    "        img = tf.image.resize(img, (256,256))\n",
    "        img = tf.cast(img, tf.float32) / 255.0\n",
    "        return img, label"
   ]
  },
  {
   "cell_type": "code",
   "execution_count": 11,
   "id": "9a14efb4",
   "metadata": {},
   "outputs": [],
   "source": [
    "def make_dataset(df, img_dir, labels, batch_size=16, shuffle=True):\n",
    "    paths = [os.path.join(img_dir, f + '.jpeg') for f in df['image']]\n",
    "    ds = tf.data.Dataset.from_tensor_slices((paths, labels))\n",
    "    ds = ds.map(load_image, num_parallel_calls=tf.data.AUTOTUNE)\n",
    "    if shuffle:\n",
    "        ds = ds.shuffle(1000)\n",
    "    return ds.batch(batch_size).prefetch(tf.data.AUTOTUNE)"
   ]
  },
  {
   "cell_type": "code",
   "execution_count": null,
   "id": "9ae0089b",
   "metadata": {},
   "outputs": [],
   "source": [
    "# train_ds = make_dataset(train_df, train_dir, train_labels, batch_size=16, shuffle=True)\n",
    "# val_ds   = make_dataset(val_df, val_dir,   val_labels,   batch_size=16, shuffle=False)"
   ]
  },
  {
   "cell_type": "code",
   "execution_count": 37,
   "id": "e2d65ec0",
   "metadata": {},
   "outputs": [],
   "source": [
    "img_dir = 'train'               # folder with all images\n",
    "labels_csv = 'trainLabels/train_updated.csv'       # CSV with columns: image,level\n",
    "test_size = 0.2                 # 20% for validation\n",
    "random_state = 42               # for reproducibility\n",
    "batch_size = 16\n",
    "\n",
    "    # Load full labels\n",
    "df_all = pd.read_csv(labels_csv)\n",
    "    # Stratified split into train/validation\n",
    "train_df, val_df = train_test_split(\n",
    "        df_all,\n",
    "        test_size=test_size,\n",
    "        stratify=df_all['level'],\n",
    "        random_state=random_state\n",
    "    )\n"
   ]
  },
  {
   "cell_type": "code",
   "execution_count": 38,
   "id": "d1de4f6f",
   "metadata": {},
   "outputs": [],
   "source": [
    "num_classes = 5\n",
    "train_labels = tf.keras.utils.to_categorical(train_df['level'], num_classes)\n",
    "val_labels   = tf.keras.utils.to_categorical(val_df['level'],   num_classes)\n",
    "\n",
    "    # Build datasets\n",
    "train_ds = make_dataset(train_df, img_dir, train_labels, batch_size=batch_size, shuffle=True)\n",
    "val_ds   = make_dataset(val_df,   img_dir, val_labels,   batch_size=batch_size, shuffle=False)\n"
   ]
  },
  {
   "cell_type": "code",
   "execution_count": null,
   "id": "338ca97f",
   "metadata": {},
   "outputs": [],
   "source": [
    " # Build & compile\n",
    "model = build_model()\n",
    "model.compile(\n",
    "        optimizer=tf.keras.optimizers.Adam(learning_rate=1e-4),\n",
    "        loss=ordinal_crossentropy(),\n",
    "        metrics=['categorical_accuracy', mae_level]\n",
    "    )\n",
    "\n",
    "    # Callbacks\n",
    "callbacks = [\n",
    "        EarlyStopping(monitor='val_loss', patience=5, restore_best_weights=True),\n",
    "        ReduceLROnPlateau(monitor='val_loss', factor=0.5, patience=3, min_lr=1e-6),\n",
    "        ModelCheckpoint('best_ordinal_model.keras', monitor='val_loss', save_best_only=True),\n",
    "        CSVLogger('ordinal_training_log.csv')\n",
    "    ]\n",
    "model.summary()"
   ]
  },
  {
   "cell_type": "code",
   "execution_count": null,
   "id": "dc06276f",
   "metadata": {},
   "outputs": [
    {
     "name": "stdout",
     "output_type": "stream",
     "text": [
      "Epoch 1/25\n",
      "\u001b[1m1706/1707\u001b[0m \u001b[32m━━━━━━━━━━━━━━━━━━━\u001b[0m\u001b[37m━\u001b[0m \u001b[1m0s\u001b[0m 104ms/step - categorical_accuracy: 0.1308 - loss: 47.8743 - mae_level: 1.9759"
     ]
    },
    {
     "name": "stderr",
     "output_type": "stream",
     "text": [
      "2025-08-08 06:17:29.618908: E external/local_xla/xla/stream_executor/cuda/cuda_timer.cc:86] Delay kernel timed out: measured time has sub-optimal accuracy. There may be a missing warmup execution, please investigate in Nsight Systems.\n",
      "2025-08-08 06:17:29.726756: E external/local_xla/xla/stream_executor/cuda/cuda_timer.cc:86] Delay kernel timed out: measured time has sub-optimal accuracy. There may be a missing warmup execution, please investigate in Nsight Systems.\n"
     ]
    },
    {
     "name": "stdout",
     "output_type": "stream",
     "text": [
      "\u001b[1m1707/1707\u001b[0m \u001b[32m━━━━━━━━━━━━━━━━━━━━\u001b[0m\u001b[37m\u001b[0m \u001b[1m0s\u001b[0m 124ms/step - categorical_accuracy: 0.1308 - loss: 47.8710 - mae_level: 1.9761"
     ]
    },
    {
     "name": "stderr",
     "output_type": "stream",
     "text": [
      "2025-08-08 06:18:40.870788: E external/local_xla/xla/stream_executor/cuda/cuda_timer.cc:86] Delay kernel timed out: measured time has sub-optimal accuracy. There may be a missing warmup execution, please investigate in Nsight Systems.\n",
      "2025-08-08 06:18:40.999398: E external/local_xla/xla/stream_executor/cuda/cuda_timer.cc:86] Delay kernel timed out: measured time has sub-optimal accuracy. There may be a missing warmup execution, please investigate in Nsight Systems.\n"
     ]
    },
    {
     "name": "stdout",
     "output_type": "stream",
     "text": [
      "\u001b[1m1707/1707\u001b[0m \u001b[32m━━━━━━━━━━━━━━━━━━━━\u001b[0m\u001b[37m\u001b[0m \u001b[1m313s\u001b[0m 154ms/step - categorical_accuracy: 0.0801 - loss: 42.1216 - mae_level: 2.2208 - val_categorical_accuracy: 0.0149 - val_loss: 33.3456 - val_mae_level: 2.6557 - learning_rate: 1.0000e-04\n",
      "Epoch 2/25\n",
      "\u001b[1m1707/1707\u001b[0m \u001b[32m━━━━━━━━━━━━━━━━━━━━\u001b[0m\u001b[37m\u001b[0m \u001b[1m227s\u001b[0m 129ms/step - categorical_accuracy: 0.0208 - loss: 35.2012 - mae_level: 2.6568 - val_categorical_accuracy: 0.0149 - val_loss: 33.5042 - val_mae_level: 2.7458 - learning_rate: 1.0000e-04\n",
      "Epoch 3/25\n",
      "\u001b[1m1707/1707\u001b[0m \u001b[32m━━━━━━━━━━━━━━━━━━━━\u001b[0m\u001b[37m\u001b[0m \u001b[1m228s\u001b[0m 130ms/step - categorical_accuracy: 0.0177 - loss: 33.9615 - mae_level: 2.7049 - val_categorical_accuracy: 0.0185 - val_loss: 32.5804 - val_mae_level: 2.7442 - learning_rate: 1.0000e-04\n",
      "Epoch 4/25\n",
      "\u001b[1m1707/1707\u001b[0m \u001b[32m━━━━━━━━━━━━━━━━━━━━\u001b[0m\u001b[37m\u001b[0m \u001b[1m228s\u001b[0m 130ms/step - categorical_accuracy: 0.0180 - loss: 33.4821 - mae_level: 2.7080 - val_categorical_accuracy: 0.0149 - val_loss: 33.2002 - val_mae_level: 2.7245 - learning_rate: 1.0000e-04\n",
      "Epoch 5/25\n",
      "\u001b[1m1707/1707\u001b[0m \u001b[32m━━━━━━━━━━━━━━━━━━━━\u001b[0m\u001b[37m\u001b[0m \u001b[1m231s\u001b[0m 132ms/step - categorical_accuracy: 0.0183 - loss: 33.1104 - mae_level: 2.7083 - val_categorical_accuracy: 0.0149 - val_loss: 31.5211 - val_mae_level: 2.7584 - learning_rate: 1.0000e-04\n",
      "Epoch 6/25\n",
      "\u001b[1m1707/1707\u001b[0m \u001b[32m━━━━━━━━━━━━━━━━━━━━\u001b[0m\u001b[37m\u001b[0m \u001b[1m232s\u001b[0m 133ms/step - categorical_accuracy: 0.0179 - loss: 32.7462 - mae_level: 2.7085 - val_categorical_accuracy: 0.0149 - val_loss: 31.4904 - val_mae_level: 2.7171 - learning_rate: 1.0000e-04\n",
      "Epoch 7/25\n",
      "\u001b[1m1707/1707\u001b[0m \u001b[32m━━━━━━━━━━━━━━━━━━━━\u001b[0m\u001b[37m\u001b[0m \u001b[1m230s\u001b[0m 131ms/step - categorical_accuracy: 0.0169 - loss: 32.4176 - mae_level: 2.7086 - val_categorical_accuracy: 0.0149 - val_loss: 31.5107 - val_mae_level: 2.7092 - learning_rate: 1.0000e-04\n",
      "Epoch 8/25\n",
      "\u001b[1m1707/1707\u001b[0m \u001b[32m━━━━━━━━━━━━━━━━━━━━\u001b[0m\u001b[37m\u001b[0m \u001b[1m226s\u001b[0m 129ms/step - categorical_accuracy: 0.0178 - loss: 32.1945 - mae_level: 2.7083 - val_categorical_accuracy: 0.0149 - val_loss: 31.6128 - val_mae_level: 2.7046 - learning_rate: 1.0000e-04\n",
      "Epoch 9/25\n",
      "\u001b[1m1707/1707\u001b[0m \u001b[32m━━━━━━━━━━━━━━━━━━━━\u001b[0m\u001b[37m\u001b[0m \u001b[1m226s\u001b[0m 129ms/step - categorical_accuracy: 0.0170 - loss: 32.0029 - mae_level: 2.7099 - val_categorical_accuracy: 0.0149 - val_loss: 31.5640 - val_mae_level: 2.6925 - learning_rate: 1.0000e-04\n",
      "Epoch 10/25\n",
      "\u001b[1m1707/1707\u001b[0m \u001b[32m━━━━━━━━━━━━━━━━━━━━\u001b[0m\u001b[37m\u001b[0m \u001b[1m227s\u001b[0m 129ms/step - categorical_accuracy: 0.0162 - loss: 31.8920 - mae_level: 2.7077 - val_categorical_accuracy: 0.0149 - val_loss: 31.4695 - val_mae_level: 2.7076 - learning_rate: 5.0000e-05\n",
      "Epoch 11/25\n",
      "\u001b[1m1707/1707\u001b[0m \u001b[32m━━━━━━━━━━━━━━━━━━━━\u001b[0m\u001b[37m\u001b[0m \u001b[1m229s\u001b[0m 130ms/step - categorical_accuracy: 0.0160 - loss: 31.7919 - mae_level: 2.7080 - val_categorical_accuracy: 0.0149 - val_loss: 31.5204 - val_mae_level: 2.6943 - learning_rate: 5.0000e-05\n",
      "Epoch 12/25\n",
      "\u001b[1m1707/1707\u001b[0m \u001b[32m━━━━━━━━━━━━━━━━━━━━\u001b[0m\u001b[37m\u001b[0m \u001b[1m228s\u001b[0m 130ms/step - categorical_accuracy: 0.0164 - loss: 31.7228 - mae_level: 2.7092 - val_categorical_accuracy: 0.0149 - val_loss: 31.4197 - val_mae_level: 2.6884 - learning_rate: 5.0000e-05\n",
      "Epoch 13/25\n",
      "\u001b[1m1707/1707\u001b[0m \u001b[32m━━━━━━━━━━━━━━━━━━━━\u001b[0m\u001b[37m\u001b[0m \u001b[1m227s\u001b[0m 130ms/step - categorical_accuracy: 0.0156 - loss: 31.6328 - mae_level: 2.7098 - val_categorical_accuracy: 0.0149 - val_loss: 31.4712 - val_mae_level: 2.7008 - learning_rate: 5.0000e-05\n",
      "Epoch 14/25\n",
      "\u001b[1m1707/1707\u001b[0m \u001b[32m━━━━━━━━━━━━━━━━━━━━\u001b[0m\u001b[37m\u001b[0m \u001b[1m227s\u001b[0m 130ms/step - categorical_accuracy: 0.0158 - loss: 31.5832 - mae_level: 2.7085 - val_categorical_accuracy: 0.0149 - val_loss: 31.4617 - val_mae_level: 2.6727 - learning_rate: 5.0000e-05\n",
      "Epoch 15/25\n",
      "\u001b[1m1707/1707\u001b[0m \u001b[32m━━━━━━━━━━━━━━━━━━━━\u001b[0m\u001b[37m\u001b[0m \u001b[1m227s\u001b[0m 130ms/step - categorical_accuracy: 0.0156 - loss: 31.5904 - mae_level: 2.7096 - val_categorical_accuracy: 0.0149 - val_loss: 31.5701 - val_mae_level: 2.7081 - learning_rate: 5.0000e-05\n",
      "Epoch 16/25\n",
      "\u001b[1m 402/1707\u001b[0m \u001b[32m━━━━\u001b[0m\u001b[37m━━━━━━━━━━━━━━━━\u001b[0m \u001b[1m2:22\u001b[0m 109ms/step - categorical_accuracy: 0.0160 - loss: 31.5540 - mae_level: 2.7170"
     ]
    },
    {
     "ename": "KeyboardInterrupt",
     "evalue": "",
     "output_type": "error",
     "traceback": [
      "\u001b[0;31m---------------------------------------------------------------------------\u001b[0m",
      "\u001b[0;31mKeyboardInterrupt\u001b[0m                         Traceback (most recent call last)",
      "Cell \u001b[0;32mIn[40], line 2\u001b[0m\n\u001b[1;32m      1\u001b[0m \u001b[38;5;66;03m# Train\u001b[39;00m\n\u001b[0;32m----> 2\u001b[0m \u001b[43mmodel\u001b[49m\u001b[38;5;241;43m.\u001b[39;49m\u001b[43mfit\u001b[49m\u001b[43m(\u001b[49m\n\u001b[1;32m      3\u001b[0m \u001b[43m    \u001b[49m\u001b[43mtrain_ds\u001b[49m\u001b[43m,\u001b[49m\n\u001b[1;32m      4\u001b[0m \u001b[43m    \u001b[49m\u001b[43mepochs\u001b[49m\u001b[38;5;241;43m=\u001b[39;49m\u001b[38;5;241;43m25\u001b[39;49m\u001b[43m,\u001b[49m\n\u001b[1;32m      5\u001b[0m \u001b[43m    \u001b[49m\u001b[43mvalidation_data\u001b[49m\u001b[38;5;241;43m=\u001b[39;49m\u001b[43mval_ds\u001b[49m\u001b[43m,\u001b[49m\n\u001b[1;32m      6\u001b[0m \u001b[43m    \u001b[49m\u001b[43mcallbacks\u001b[49m\u001b[38;5;241;43m=\u001b[39;49m\u001b[43mcallbacks\u001b[49m\n\u001b[1;32m      7\u001b[0m \u001b[43m)\u001b[49m\n\u001b[1;32m      9\u001b[0m model\u001b[38;5;241m.\u001b[39msave(\u001b[38;5;124m'\u001b[39m\u001b[38;5;124mordinal_regression_model.keras\u001b[39m\u001b[38;5;124m'\u001b[39m)\n",
      "File \u001b[0;32m~/Documents/DoAn/myvenv/lib/python3.10/site-packages/keras/src/utils/traceback_utils.py:117\u001b[0m, in \u001b[0;36mfilter_traceback.<locals>.error_handler\u001b[0;34m(*args, **kwargs)\u001b[0m\n\u001b[1;32m    115\u001b[0m filtered_tb \u001b[38;5;241m=\u001b[39m \u001b[38;5;28;01mNone\u001b[39;00m\n\u001b[1;32m    116\u001b[0m \u001b[38;5;28;01mtry\u001b[39;00m:\n\u001b[0;32m--> 117\u001b[0m     \u001b[38;5;28;01mreturn\u001b[39;00m \u001b[43mfn\u001b[49m\u001b[43m(\u001b[49m\u001b[38;5;241;43m*\u001b[39;49m\u001b[43margs\u001b[49m\u001b[43m,\u001b[49m\u001b[43m \u001b[49m\u001b[38;5;241;43m*\u001b[39;49m\u001b[38;5;241;43m*\u001b[39;49m\u001b[43mkwargs\u001b[49m\u001b[43m)\u001b[49m\n\u001b[1;32m    118\u001b[0m \u001b[38;5;28;01mexcept\u001b[39;00m \u001b[38;5;167;01mException\u001b[39;00m \u001b[38;5;28;01mas\u001b[39;00m e:\n\u001b[1;32m    119\u001b[0m     filtered_tb \u001b[38;5;241m=\u001b[39m _process_traceback_frames(e\u001b[38;5;241m.\u001b[39m__traceback__)\n",
      "File \u001b[0;32m~/Documents/DoAn/myvenv/lib/python3.10/site-packages/keras/src/backend/tensorflow/trainer.py:377\u001b[0m, in \u001b[0;36mTensorFlowTrainer.fit\u001b[0;34m(self, x, y, batch_size, epochs, verbose, callbacks, validation_split, validation_data, shuffle, class_weight, sample_weight, initial_epoch, steps_per_epoch, validation_steps, validation_batch_size, validation_freq)\u001b[0m\n\u001b[1;32m    375\u001b[0m \u001b[38;5;28;01mfor\u001b[39;00m begin_step, end_step, iterator \u001b[38;5;129;01min\u001b[39;00m epoch_iterator:\n\u001b[1;32m    376\u001b[0m     callbacks\u001b[38;5;241m.\u001b[39mon_train_batch_begin(begin_step)\n\u001b[0;32m--> 377\u001b[0m     logs \u001b[38;5;241m=\u001b[39m \u001b[38;5;28;43mself\u001b[39;49m\u001b[38;5;241;43m.\u001b[39;49m\u001b[43mtrain_function\u001b[49m\u001b[43m(\u001b[49m\u001b[43miterator\u001b[49m\u001b[43m)\u001b[49m\n\u001b[1;32m    378\u001b[0m     callbacks\u001b[38;5;241m.\u001b[39mon_train_batch_end(end_step, logs)\n\u001b[1;32m    379\u001b[0m     \u001b[38;5;28;01mif\u001b[39;00m \u001b[38;5;28mself\u001b[39m\u001b[38;5;241m.\u001b[39mstop_training:\n",
      "File \u001b[0;32m~/Documents/DoAn/myvenv/lib/python3.10/site-packages/keras/src/backend/tensorflow/trainer.py:221\u001b[0m, in \u001b[0;36mTensorFlowTrainer._make_function.<locals>.function\u001b[0;34m(iterator)\u001b[0m\n\u001b[1;32m    217\u001b[0m \u001b[38;5;28;01mif\u001b[39;00m \u001b[38;5;28misinstance\u001b[39m(\n\u001b[1;32m    218\u001b[0m     iterator, (tf\u001b[38;5;241m.\u001b[39mdata\u001b[38;5;241m.\u001b[39mIterator, tf\u001b[38;5;241m.\u001b[39mdistribute\u001b[38;5;241m.\u001b[39mDistributedIterator)\n\u001b[1;32m    219\u001b[0m ):\n\u001b[1;32m    220\u001b[0m     opt_outputs \u001b[38;5;241m=\u001b[39m multi_step_on_iterator(iterator)\n\u001b[0;32m--> 221\u001b[0m     \u001b[38;5;28;01mif\u001b[39;00m \u001b[38;5;129;01mnot\u001b[39;00m \u001b[43mopt_outputs\u001b[49m\u001b[38;5;241;43m.\u001b[39;49m\u001b[43mhas_value\u001b[49m\u001b[43m(\u001b[49m\u001b[43m)\u001b[49m:\n\u001b[1;32m    222\u001b[0m         \u001b[38;5;28;01mraise\u001b[39;00m \u001b[38;5;167;01mStopIteration\u001b[39;00m\n\u001b[1;32m    223\u001b[0m     \u001b[38;5;28;01mreturn\u001b[39;00m opt_outputs\u001b[38;5;241m.\u001b[39mget_value()\n",
      "File \u001b[0;32m~/Documents/DoAn/myvenv/lib/python3.10/site-packages/tensorflow/python/data/ops/optional_ops.py:176\u001b[0m, in \u001b[0;36m_OptionalImpl.has_value\u001b[0;34m(self, name)\u001b[0m\n\u001b[1;32m    174\u001b[0m \u001b[38;5;28;01mdef\u001b[39;00m\u001b[38;5;250m \u001b[39m\u001b[38;5;21mhas_value\u001b[39m(\u001b[38;5;28mself\u001b[39m, name\u001b[38;5;241m=\u001b[39m\u001b[38;5;28;01mNone\u001b[39;00m):\n\u001b[1;32m    175\u001b[0m   \u001b[38;5;28;01mwith\u001b[39;00m ops\u001b[38;5;241m.\u001b[39mcolocate_with(\u001b[38;5;28mself\u001b[39m\u001b[38;5;241m.\u001b[39m_variant_tensor):\n\u001b[0;32m--> 176\u001b[0m     \u001b[38;5;28;01mreturn\u001b[39;00m \u001b[43mgen_optional_ops\u001b[49m\u001b[38;5;241;43m.\u001b[39;49m\u001b[43moptional_has_value\u001b[49m\u001b[43m(\u001b[49m\n\u001b[1;32m    177\u001b[0m \u001b[43m        \u001b[49m\u001b[38;5;28;43mself\u001b[39;49m\u001b[38;5;241;43m.\u001b[39;49m\u001b[43m_variant_tensor\u001b[49m\u001b[43m,\u001b[49m\u001b[43m \u001b[49m\u001b[43mname\u001b[49m\u001b[38;5;241;43m=\u001b[39;49m\u001b[43mname\u001b[49m\n\u001b[1;32m    178\u001b[0m \u001b[43m    \u001b[49m\u001b[43m)\u001b[49m\n",
      "File \u001b[0;32m~/Documents/DoAn/myvenv/lib/python3.10/site-packages/tensorflow/python/ops/gen_optional_ops.py:172\u001b[0m, in \u001b[0;36moptional_has_value\u001b[0;34m(optional, name)\u001b[0m\n\u001b[1;32m    170\u001b[0m \u001b[38;5;28;01mif\u001b[39;00m tld\u001b[38;5;241m.\u001b[39mis_eager:\n\u001b[1;32m    171\u001b[0m   \u001b[38;5;28;01mtry\u001b[39;00m:\n\u001b[0;32m--> 172\u001b[0m     _result \u001b[38;5;241m=\u001b[39m \u001b[43mpywrap_tfe\u001b[49m\u001b[38;5;241;43m.\u001b[39;49m\u001b[43mTFE_Py_FastPathExecute\u001b[49m\u001b[43m(\u001b[49m\n\u001b[1;32m    173\u001b[0m \u001b[43m      \u001b[49m\u001b[43m_ctx\u001b[49m\u001b[43m,\u001b[49m\u001b[43m \u001b[49m\u001b[38;5;124;43m\"\u001b[39;49m\u001b[38;5;124;43mOptionalHasValue\u001b[39;49m\u001b[38;5;124;43m\"\u001b[39;49m\u001b[43m,\u001b[49m\u001b[43m \u001b[49m\u001b[43mname\u001b[49m\u001b[43m,\u001b[49m\u001b[43m \u001b[49m\u001b[43moptional\u001b[49m\u001b[43m)\u001b[49m\n\u001b[1;32m    174\u001b[0m     \u001b[38;5;28;01mreturn\u001b[39;00m _result\n\u001b[1;32m    175\u001b[0m   \u001b[38;5;28;01mexcept\u001b[39;00m _core\u001b[38;5;241m.\u001b[39m_NotOkStatusException \u001b[38;5;28;01mas\u001b[39;00m e:\n",
      "\u001b[0;31mKeyboardInterrupt\u001b[0m: "
     ]
    },
    {
     "ename": "",
     "evalue": "",
     "output_type": "error",
     "traceback": [
      "\u001b[1;31mThe Kernel crashed while executing code in the current cell or a previous cell. \n",
      "\u001b[1;31mPlease review the code in the cell(s) to identify a possible cause of the failure. \n",
      "\u001b[1;31mClick <a href='https://aka.ms/vscodeJupyterKernelCrash'>here</a> for more info. \n",
      "\u001b[1;31mView Jupyter <a href='command:jupyter.viewOutput'>log</a> for further details."
     ]
    }
   ],
   "source": [
    "    # Train\n",
    "model.fit(\n",
    "        train_ds,\n",
    "        epochs=25,\n",
    "        validation_data=val_ds,\n",
    "        callbacks=callbacks\n",
    "    )\n",
    "\n",
    "model.save('ordinal_regression_model.keras')\n"
   ]
  },
  {
   "cell_type": "code",
   "execution_count": 30,
   "id": "d51af638",
   "metadata": {},
   "outputs": [
    {
     "name": "stdout",
     "output_type": "stream",
     "text": [
      "\u001b[1m63/63\u001b[0m \u001b[32m━━━━━━━━━━━━━━━━━━━━\u001b[0m\u001b[37m\u001b[0m \u001b[1m10s\u001b[0m 95ms/step\n"
     ]
    }
   ],
   "source": [
    "y_pred_probs = model.predict(val_ds)\n"
   ]
  },
  {
   "cell_type": "code",
   "execution_count": 31,
   "id": "8d124635",
   "metadata": {},
   "outputs": [
    {
     "data": {
      "text/plain": [
       "array([[0.02971547, 0.03095572, 0.10169767, 0.3063826 , 0.53124857],\n",
       "       [0.02929074, 0.03048587, 0.1043134 , 0.30147937, 0.5344306 ],\n",
       "       [0.0283641 , 0.03034564, 0.10458735, 0.29874676, 0.5379561 ],\n",
       "       ...,\n",
       "       [0.03033291, 0.03126829, 0.10119895, 0.30849192, 0.528708  ],\n",
       "       [0.02804465, 0.03070766, 0.10824221, 0.300292  , 0.5327135 ],\n",
       "       [0.03545425, 0.04295755, 0.13712889, 0.29873002, 0.48572922]],\n",
       "      dtype=float32)"
      ]
     },
     "execution_count": 31,
     "metadata": {},
     "output_type": "execute_result"
    }
   ],
   "source": [
    "y_pred_probs"
   ]
  },
  {
   "cell_type": "code",
   "execution_count": 35,
   "id": "624355c3",
   "metadata": {},
   "outputs": [
    {
     "name": "stdout",
     "output_type": "stream",
     "text": [
      "True: 0 | Raw Predicted: [0.02891908 0.03101681 0.1057616  0.3029802  0.53132224] \n",
      "True: 0 | Raw Predicted: [0.02872338 0.03018536 0.10549872 0.30075872 0.53483385] \n",
      "True: 0 | Raw Predicted: [0.02829686 0.03047849 0.10525917 0.30215007 0.53381544] \n",
      "True: 0 | Raw Predicted: [0.02918054 0.029815   0.09845775 0.3079098  0.5346369 ] \n",
      "True: 0 | Raw Predicted: [0.02844117 0.03103023 0.10946763 0.29933327 0.5317277 ] \n",
      "True: 0 | Raw Predicted: [0.02843874 0.03130361 0.10921185 0.29842365 0.5326222 ] \n",
      "True: 0 | Raw Predicted: [0.02869823 0.03036305 0.10347905 0.30397442 0.5334851 ] \n",
      "True: 0 | Raw Predicted: [0.0357343  0.04449081 0.12912875 0.29860407 0.4920421 ] \n",
      "True: 0 | Raw Predicted: [0.02920434 0.03017196 0.1019477  0.30653933 0.53213674] \n",
      "True: 0 | Raw Predicted: [0.02903535 0.0306626  0.10195847 0.30609474 0.53224885] \n"
     ]
    }
   ],
   "source": [
    "\n",
    "y_true=val_df['level'].values\n",
    "for i in range(100, 110):\n",
    "    print(f\"True: {y_true[i]} | Raw Predicted: {y_pred_probs[i]} \")"
   ]
  }
 ],
 "metadata": {
  "kernelspec": {
   "display_name": "myvenv",
   "language": "python",
   "name": "python3"
  },
  "language_info": {
   "codemirror_mode": {
    "name": "ipython",
    "version": 3
   },
   "file_extension": ".py",
   "mimetype": "text/x-python",
   "name": "python",
   "nbconvert_exporter": "python",
   "pygments_lexer": "ipython3",
   "version": "3.10.12"
  }
 },
 "nbformat": 4,
 "nbformat_minor": 5
}
