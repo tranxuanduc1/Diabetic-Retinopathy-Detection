{
 "cells": [
  {
   "cell_type": "code",
   "execution_count": null,
   "metadata": {},
   "outputs": [
    {
     "name": "stderr",
     "output_type": "stream",
     "text": [
      "2025-08-16 20:52:30.976163: I tensorflow/core/util/port.cc:153] oneDNN custom operations are on. You may see slightly different numerical results due to floating-point round-off errors from different computation orders. To turn them off, set the environment variable `TF_ENABLE_ONEDNN_OPTS=0`.\n",
      "2025-08-16 20:52:31.113935: E external/local_xla/xla/stream_executor/cuda/cuda_fft.cc:467] Unable to register cuFFT factory: Attempting to register factory for plugin cuFFT when one has already been registered\n",
      "WARNING: All log messages before absl::InitializeLog() is called are written to STDERR\n",
      "E0000 00:00:1755391951.159188    7842 cuda_dnn.cc:8579] Unable to register cuDNN factory: Attempting to register factory for plugin cuDNN when one has already been registered\n",
      "E0000 00:00:1755391951.172087    7842 cuda_blas.cc:1407] Unable to register cuBLAS factory: Attempting to register factory for plugin cuBLAS when one has already been registered\n",
      "W0000 00:00:1755391951.270881    7842 computation_placer.cc:177] computation placer already registered. Please check linkage and avoid linking the same target more than once.\n",
      "W0000 00:00:1755391951.270910    7842 computation_placer.cc:177] computation placer already registered. Please check linkage and avoid linking the same target more than once.\n",
      "W0000 00:00:1755391951.270912    7842 computation_placer.cc:177] computation placer already registered. Please check linkage and avoid linking the same target more than once.\n",
      "W0000 00:00:1755391951.270913    7842 computation_placer.cc:177] computation placer already registered. Please check linkage and avoid linking the same target more than once.\n",
      "2025-08-16 20:52:31.282420: I tensorflow/core/platform/cpu_feature_guard.cc:210] This TensorFlow binary is optimized to use available CPU instructions in performance-critical operations.\n",
      "To enable the following instructions: AVX2 AVX512F AVX512_VNNI FMA, in other operations, rebuild TensorFlow with the appropriate compiler flags.\n"
     ]
    },
    {
     "name": "stdout",
     "output_type": "stream",
     "text": [
      "Found 7324 files belonging to 5 classes.\n"
     ]
    },
    {
     "name": "stderr",
     "output_type": "stream",
     "text": [
      "I0000 00:00:1755391955.562523    7842 gpu_device.cc:2019] Created device /job:localhost/replica:0/task:0/device:GPU:0 with 2281 MB memory:  -> device: 0, name: NVIDIA GeForce RTX 3050 Laptop GPU, pci bus id: 0000:01:00.0, compute capability: 8.6\n"
     ]
    },
    {
     "name": "stdout",
     "output_type": "stream",
     "text": [
      "Found 366 files belonging to 5 classes.\n",
      ">> Load lại model head\n",
      "Epoch 1/15\n"
     ]
    },
    {
     "name": "stderr",
     "output_type": "stream",
     "text": [
      "WARNING: All log messages before absl::InitializeLog() is called are written to STDERR\n",
      "I0000 00:00:1755391963.354871    7901 service.cc:152] XLA service 0x55d7fee4f440 initialized for platform CUDA (this does not guarantee that XLA will be used). Devices:\n",
      "I0000 00:00:1755391963.354905    7901 service.cc:160]   StreamExecutor device (0): NVIDIA GeForce RTX 3050 Laptop GPU, Compute Capability 8.6\n",
      "2025-08-16 20:52:43.649181: I tensorflow/compiler/mlir/tensorflow/utils/dump_mlir_util.cc:269] disabling MLIR crash reproducer, set env var `MLIR_CRASH_REPRODUCER_DIRECTORY` to enable.\n",
      "I0000 00:00:1755391965.612567    7901 cuda_dnn.cc:529] Loaded cuDNN version 90300\n",
      "I0000 00:00:1755391990.940273    7901 device_compiler.h:188] Compiled cluster using XLA!  This line is logged at most once for the lifetime of the process.\n"
     ]
    },
    {
     "name": "stdout",
     "output_type": "stream",
     "text": [
      "\u001b[1m458/458\u001b[0m \u001b[32m━━━━━━━━━━━━━━━━━━━━\u001b[0m\u001b[37m\u001b[0m \u001b[1m0s\u001b[0m 266ms/step - accuracy: 0.3541 - loss: 1.4098"
     ]
    },
    {
     "name": "stderr",
     "output_type": "stream",
     "text": [
      "2025-08-16 20:55:15.741104: I external/local_xla/xla/stream_executor/cuda/subprocess_compilation.cc:346] ptxas warning : Registers are spilled to local memory in function 'gemm_fusion_dot_2614', 48 bytes spill stores, 48 bytes spill loads\n",
      "\n",
      "2025-08-16 20:55:15.852651: I external/local_xla/xla/stream_executor/cuda/subprocess_compilation.cc:346] ptxas warning : Registers are spilled to local memory in function 'gemm_fusion_dot_2614', 264 bytes spill stores, 264 bytes spill loads\n",
      "\n",
      "2025-08-16 20:55:24.432971: I external/local_xla/xla/stream_executor/cuda/subprocess_compilation.cc:346] ptxas warning : Registers are spilled to local memory in function 'gemm_fusion_dot_2614', 124 bytes spill stores, 124 bytes spill loads\n",
      "\n",
      "2025-08-16 20:55:24.489280: I external/local_xla/xla/stream_executor/cuda/subprocess_compilation.cc:346] ptxas warning : Registers are spilled to local memory in function 'gemm_fusion_dot_2614', 256 bytes spill stores, 256 bytes spill loads\n",
      "\n"
     ]
    },
    {
     "name": "stdout",
     "output_type": "stream",
     "text": [
      "\u001b[1m458/458\u001b[0m \u001b[32m━━━━━━━━━━━━━━━━━━━━\u001b[0m\u001b[37m\u001b[0m \u001b[1m186s\u001b[0m 337ms/step - accuracy: 0.3541 - loss: 1.4097 - val_accuracy: 0.6148 - val_loss: 0.9293 - learning_rate: 1.0000e-04\n",
      "Epoch 2/15\n",
      "\u001b[1m458/458\u001b[0m \u001b[32m━━━━━━━━━━━━━━━━━━━━\u001b[0m\u001b[37m\u001b[0m \u001b[1m104s\u001b[0m 228ms/step - accuracy: 0.4117 - loss: 1.3005 - val_accuracy: 0.5082 - val_loss: 1.1001 - learning_rate: 1.0000e-04\n",
      "Epoch 3/15\n",
      "\u001b[1m458/458\u001b[0m \u001b[32m━━━━━━━━━━━━━━━━━━━━\u001b[0m\u001b[37m\u001b[0m \u001b[1m105s\u001b[0m 229ms/step - accuracy: 0.4468 - loss: 1.2216 - val_accuracy: 0.5792 - val_loss: 0.9710 - learning_rate: 1.0000e-04\n",
      "Epoch 4/15\n",
      "\u001b[1m458/458\u001b[0m \u001b[32m━━━━━━━━━━━━━━━━━━━━\u001b[0m\u001b[37m\u001b[0m \u001b[1m105s\u001b[0m 229ms/step - accuracy: 0.4578 - loss: 1.1860 - val_accuracy: 0.5656 - val_loss: 0.9681 - learning_rate: 5.0000e-05\n",
      "Epoch 5/15\n",
      "\u001b[1m458/458\u001b[0m \u001b[32m━━━━━━━━━━━━━━━━━━━━\u001b[0m\u001b[37m\u001b[0m \u001b[1m105s\u001b[0m 229ms/step - accuracy: 0.4933 - loss: 1.1201 - val_accuracy: 0.5437 - val_loss: 0.9576 - learning_rate: 5.0000e-05\n",
      "Epoch 6/15\n",
      "\u001b[1m458/458\u001b[0m \u001b[32m━━━━━━━━━━━━━━━━━━━━\u001b[0m\u001b[37m\u001b[0m \u001b[1m105s\u001b[0m 230ms/step - accuracy: 0.5062 - loss: 1.0692 - val_accuracy: 0.5464 - val_loss: 1.0053 - learning_rate: 2.5000e-05\n",
      "Done\n"
     ]
    }
   ],
   "source": [
    "import os, random\n",
    "import numpy as np\n",
    "import tensorflow as tf\n",
    "from tensorflow import keras\n",
    "from tensorflow.keras import layers\n",
    "from tensorflow.keras.applications import vgg16, inception_v3\n",
    "\n",
    "# ================== CONFIG ==================\n",
    "SEED = 42\n",
    "random.seed(SEED); np.random.seed(SEED); tf.random.set_seed(SEED)\n",
    "\n",
    "TRAIN_DIR = \"/home/duc/Documents/DoAn/aptos2019-blindness-detection/train_preprocess\"\n",
    "VAL_DIR   = \"/home/duc/Documents/DoAn/aptos2019-blindness-detection/val_preprocess\"\n",
    "OUT_DIR   = \"outputs_hybrid\"\n",
    "os.makedirs(OUT_DIR, exist_ok=True)\n",
    "\n",
    "IMG_SIZE = 299\n",
    "BATCH_SIZE = 16\n",
    "HEAD_EPOCHS = 10\n",
    "FT_EPOCHS   = 15\n",
    "\n",
    "# ================== DATASET ==================\n",
    "def load_ds(directory, shuffle):\n",
    "    ds = tf.keras.utils.image_dataset_from_directory(\n",
    "        directory,\n",
    "        labels=\"inferred\",\n",
    "        label_mode=\"int\",\n",
    "        class_names=[\"0\",\"1\",\"2\",\"3\",\"4\"],\n",
    "        color_mode=\"rgb\",\n",
    "        image_size=(IMG_SIZE, IMG_SIZE),\n",
    "        batch_size=BATCH_SIZE,\n",
    "        shuffle=shuffle,\n",
    "        seed=SEED\n",
    "    )\n",
    "    return ds.prefetch(tf.data.AUTOTUNE)\n",
    "\n",
    "# ================== MODEL ==================\n",
    "def build_hybrid_model(img_size=299, num_classes=5, dropout=0.5):\n",
    "    inp = layers.Input(shape=(img_size, img_size, 3), name=\"input_img\")\n",
    "\n",
    "    # ----- VGG16 branch -----\n",
    "    vgg_base = vgg16.VGG16(include_top=False, weights=\"imagenet\",\n",
    "                           input_shape=(img_size, img_size, 3))\n",
    "    vgg_base.trainable = False\n",
    "    vgg_feat = vgg_base(inp)\n",
    "    vgg_feat = layers.GlobalAveragePooling2D(name=\"vgg_gap\")(vgg_feat)\n",
    "\n",
    "    # ----- InceptionV3 branch -----\n",
    "    inc_base = inception_v3.InceptionV3(include_top=False, weights=\"imagenet\",\n",
    "                                        input_shape=(img_size, img_size, 3))\n",
    "    inc_base.trainable = False\n",
    "    inc_feat = inc_base(inp)\n",
    "    inc_feat = layers.GlobalAveragePooling2D(name=\"inc_gap\")(inc_feat)\n",
    "\n",
    "    # ----- Concatenate features -----\n",
    "    merged = layers.Concatenate(name=\"concat_feats\")([vgg_feat, inc_feat])\n",
    "    x = layers.Dropout(dropout)(merged)\n",
    "    x = layers.Dense(512, activation=\"relu\")(x)\n",
    "    x = layers.Dropout(dropout)(x)\n",
    "    out = layers.Dense(num_classes, activation=\"softmax\", name=\"pred\")(x)\n",
    "\n",
    "    model = keras.Model(inp, out, name=\"Hybrid_VGG16_InceptionV3\")\n",
    "    model.compile(optimizer=keras.optimizers.Adam(1e-3),\n",
    "                  loss=\"sparse_categorical_crossentropy\",\n",
    "                  metrics=[\"accuracy\"])\n",
    "    return model\n",
    "\n",
    "# ================== TRAIN HEAD ==================\n",
    "def train_head():\n",
    "    ds_train = load_ds(TRAIN_DIR, shuffle=True)\n",
    "    ds_val   = load_ds(VAL_DIR, shuffle=False)\n",
    "\n",
    "    model = build_hybrid_model(img_size=IMG_SIZE, num_classes=5)\n",
    "\n",
    "    cbs = [\n",
    "        keras.callbacks.ModelCheckpoint(os.path.join(OUT_DIR, \"hybrid_head.keras\"),\n",
    "                                        save_best_only=True),\n",
    "        keras.callbacks.EarlyStopping(monitor=\"val_loss\", patience=4, restore_best_weights=True),\n",
    "        keras.callbacks.ReduceLROnPlateau(monitor=\"val_loss\", factor=0.5, patience=2, min_lr=1e-6),\n",
    "    ]\n",
    "\n",
    "    model.fit(ds_train, validation_data=ds_val, epochs=HEAD_EPOCHS, callbacks=cbs)\n",
    "    model.save(os.path.join(OUT_DIR, \"hybrid_head.keras\"))\n",
    "    return model\n",
    "\n",
    "# ================== FINE-TUNING ==================\n",
    "def unfreeze_backbones(model, n_last_vgg=4, n_last_inc=30, lr=1e-4):\n",
    "    \"\"\"Mở một số layer cuối cùng của backbone để fine-tune\"\"\"\n",
    "    for layer in model.layers:\n",
    "        layer.trainable = False  \n",
    "\n",
    "    # VGG16\n",
    "    vgg_base = None\n",
    "    inc_base = None\n",
    "    for l in model.layers:\n",
    "        if isinstance(l, keras.Model) and l.name.startswith(\"vgg16\"):\n",
    "            vgg_base = l\n",
    "        if isinstance(l, keras.Model) and l.name.startswith(\"inception_v3\"):\n",
    "            inc_base = l\n",
    "\n",
    "    if vgg_base:\n",
    "        for l in vgg_base.layers[-n_last_vgg:]:\n",
    "            if not isinstance(l, layers.BatchNormalization):\n",
    "                l.trainable = True\n",
    "    if inc_base:\n",
    "        for l in inc_base.layers[-n_last_inc:]:\n",
    "            if not isinstance(l, layers.BatchNormalization):\n",
    "                l.trainable = True\n",
    "\n",
    "    model.compile(optimizer=keras.optimizers.Adam(lr),\n",
    "                  loss=\"sparse_categorical_crossentropy\",\n",
    "                  metrics=[\"accuracy\"])\n",
    "    return model\n",
    "\n",
    "def fine_tune():\n",
    "    ds_train = load_ds(TRAIN_DIR, shuffle=True)\n",
    "    ds_val   = load_ds(VAL_DIR, shuffle=False)\n",
    "\n",
    "    print(\">> Load lại model head\")\n",
    "    model = keras.models.load_model(os.path.join(OUT_DIR, \"hybrid_head.keras\"))\n",
    "\n",
    "    model = unfreeze_backbones(model, n_last_vgg=4, n_last_inc=30, lr=1e-4)\n",
    "\n",
    "    cbs = [\n",
    "        keras.callbacks.ModelCheckpoint(os.path.join(OUT_DIR, \"hybrid_finetune.keras\"),\n",
    "                                        save_best_only=True),\n",
    "        keras.callbacks.EarlyStopping(monitor=\"val_loss\", patience=5, restore_best_weights=True),\n",
    "        keras.callbacks.ReduceLROnPlateau(monitor=\"val_loss\", factor=0.5, patience=2, min_lr=1e-6),\n",
    "    ]\n",
    "\n",
    "    model.fit(ds_train, validation_data=ds_val, epochs=FT_EPOCHS, callbacks=cbs)\n",
    "    model.save(os.path.join(OUT_DIR, \"hybrid_final.keras\"))\n",
    "    return model\n",
    "\n",
    "# ================== MAIN ==================\n",
    "\n",
    "if not os.path.exists(os.path.join(OUT_DIR, \"hybrid_head.keras\")):\n",
    "    train_head()\n",
    "    tf.keras.backend.clear_session()\n",
    "\n",
    "fine_tune()\n",
    "print(\"Done\")\n"
   ]
  },
  {
   "cell_type": "code",
   "execution_count": null,
   "metadata": {},
   "outputs": [
    {
     "name": "stdout",
     "output_type": "stream",
     "text": [
      ">> Load model từ outputs_hybrid/hybrid_final.keras\n",
      "Found 367 files belonging to 5 classes.\n"
     ]
    },
    {
     "name": "stderr",
     "output_type": "stream",
     "text": [
      "2025-08-16 21:08:56.635452: I tensorflow/core/framework/local_rendezvous.cc:407] Local rendezvous is aborting with status: OUT_OF_RANGE: End of sequence\n"
     ]
    },
    {
     "name": "stdout",
     "output_type": "stream",
     "text": [
      "\u001b[1m22/23\u001b[0m \u001b[32m━━━━━━━━━━━━━━━━━━━\u001b[0m\u001b[37m━\u001b[0m \u001b[1m0s\u001b[0m 177ms/step"
     ]
    },
    {
     "name": "stderr",
     "output_type": "stream",
     "text": [
      "2025-08-16 21:09:07.790382: I external/local_xla/xla/stream_executor/cuda/subprocess_compilation.cc:346] ptxas warning : Registers are spilled to local memory in function 'gemm_fusion_dot_2597', 124 bytes spill stores, 124 bytes spill loads\n",
      "\n",
      "2025-08-16 21:09:07.957738: I external/local_xla/xla/stream_executor/cuda/subprocess_compilation.cc:346] ptxas warning : Registers are spilled to local memory in function 'gemm_fusion_dot_2597', 256 bytes spill stores, 256 bytes spill loads\n",
      "\n",
      "2025-08-16 21:09:08.729357: W external/local_xla/xla/tsl/framework/bfc_allocator.cc:310] Allocator (GPU_0_bfc) ran out of memory trying to allocate 670.93MiB with freed_by_count=0. The caller indicates that this is not a failure, but this may mean that there could be performance gains if more memory were available.\n",
      "2025-08-16 21:09:08.729406: W external/local_xla/xla/tsl/framework/bfc_allocator.cc:310] Allocator (GPU_0_bfc) ran out of memory trying to allocate 670.93MiB with freed_by_count=0. The caller indicates that this is not a failure, but this may mean that there could be performance gains if more memory were available.\n",
      "2025-08-16 21:09:09.006333: W external/local_xla/xla/tsl/framework/bfc_allocator.cc:310] Allocator (GPU_0_bfc) ran out of memory trying to allocate 670.93MiB with freed_by_count=0. The caller indicates that this is not a failure, but this may mean that there could be performance gains if more memory were available.\n",
      "2025-08-16 21:09:09.006366: W external/local_xla/xla/tsl/framework/bfc_allocator.cc:310] Allocator (GPU_0_bfc) ran out of memory trying to allocate 670.93MiB with freed_by_count=0. The caller indicates that this is not a failure, but this may mean that there could be performance gains if more memory were available.\n",
      "2025-08-16 21:09:09.653252: W external/local_xla/xla/tsl/framework/bfc_allocator.cc:310] Allocator (GPU_0_bfc) ran out of memory trying to allocate 670.93MiB with freed_by_count=0. The caller indicates that this is not a failure, but this may mean that there could be performance gains if more memory were available.\n",
      "2025-08-16 21:09:10.874291: W external/local_xla/xla/tsl/framework/bfc_allocator.cc:310] Allocator (GPU_0_bfc) ran out of memory trying to allocate 830.50MiB with freed_by_count=0. The caller indicates that this is not a failure, but this may mean that there could be performance gains if more memory were available.\n",
      "2025-08-16 21:09:14.951076: W external/local_xla/xla/tsl/framework/bfc_allocator.cc:310] Allocator (GPU_0_bfc) ran out of memory trying to allocate 1.20GiB with freed_by_count=0. The caller indicates that this is not a failure, but this may mean that there could be performance gains if more memory were available.\n"
     ]
    },
    {
     "name": "stdout",
     "output_type": "stream",
     "text": [
      "\u001b[1m23/23\u001b[0m \u001b[32m━━━━━━━━━━━━━━━━━━━━\u001b[0m\u001b[37m\u001b[0m \u001b[1m29s\u001b[0m 1s/step \n",
      "\n",
      "=== Evaluation Results ===\n",
      "Accuracy : 0.6131\n",
      "Precision: 0.3332\n",
      "Recall   : 0.4001\n",
      "F1-score : 0.3397\n"
     ]
    },
    {
     "data": {
      "image/png": "[encoded data removed]",
      "text/plain": [
       "<Figure size 600x500 with 2 Axes>"
      ]
     },
     "metadata": {},
     "output_type": "display_data"
    }
   ],
   "source": [
    "import numpy as np\n",
    "import matplotlib.pyplot as plt\n",
    "import seaborn as sns\n",
    "from sklearn.metrics import accuracy_score, precision_score, recall_score, f1_score, confusion_matrix\n",
    "from tensorflow import keras\n",
    "\n",
    "# ================== LOAD TEST DATA ==================\n",
    "TEST_DIR = \"/home/duc/Documents/DoAn/aptos2019-blindness-detection/test_preprocess\"\n",
    "\n",
    "def load_test_ds(directory):\n",
    "    ds = tf.keras.utils.image_dataset_from_directory(\n",
    "        directory,\n",
    "        labels=\"inferred\",\n",
    "        label_mode=\"int\",\n",
    "        class_names=[\"0\",\"1\",\"2\",\"3\",\"4\"],\n",
    "        color_mode=\"rgb\",\n",
    "        image_size=(IMG_SIZE, IMG_SIZE),\n",
    "        batch_size=BATCH_SIZE,\n",
    "        shuffle=False\n",
    "    )\n",
    "    return ds\n",
    "\n",
    "# ================== EVALUATE ==================\n",
    "def evaluate_model(model_path, test_dir):\n",
    "    print(f\">> Load model từ {model_path}\")\n",
    "    model = keras.models.load_model(model_path)\n",
    "\n",
    "    ds_test = load_test_ds(test_dir)\n",
    "\n",
    "    # Lấy nhãn thật và dự đoán\n",
    "    y_true = np.concatenate([y.numpy() for x, y in ds_test], axis=0)\n",
    "    y_pred_prob = model.predict(ds_test, verbose=1)\n",
    "    y_pred = np.argmax(y_pred_prob, axis=1)\n",
    "\n",
    "    # Tính metrics\n",
    "    acc  = accuracy_score(y_true, y_pred)\n",
    "    prec = precision_score(y_true, y_pred, average=\"macro\")\n",
    "    rec  = recall_score(y_true, y_pred, average=\"macro\")\n",
    "    f1   = f1_score(y_true, y_pred, average=\"macro\")\n",
    "\n",
    "    print(\"\\n=== Evaluation Results ===\")\n",
    "    print(f\"Accuracy : {acc:.4f}\")\n",
    "    print(f\"Precision: {prec:.4f}\")\n",
    "    print(f\"Recall   : {rec:.4f}\")\n",
    "    print(f\"F1-score : {f1:.4f}\")\n",
    "\n",
    "    # Confusion Matrix\n",
    "    cm = confusion_matrix(y_true, y_pred)\n",
    "    plt.figure(figsize=(6,5))\n",
    "    sns.heatmap(cm, annot=True, fmt=\"d\", cmap=\"Blues\",\n",
    "                xticklabels=[\"0\",\"1\",\"2\",\"3\",\"4\"],\n",
    "                yticklabels=[\"0\",\"1\",\"2\",\"3\",\"4\"])\n",
    "    plt.xlabel(\"Predicted\")\n",
    "    plt.ylabel(\"True\")\n",
    "    plt.title(\"Confusion Matrix - Hybrid Model\")\n",
    "    plt.show()\n",
    "\n",
    "# ================== RUN ==================\n",
    "\n",
    "evaluate_model(\"outputs_hybrid/hybrid_final.keras\", TEST_DIR)\n"
   ]
  },
  {
   "cell_type": "code",
   "execution_count": null,
   "metadata": {},
   "outputs": [
    {
     "name": "stderr",
     "output_type": "stream",
     "text": [
      "<>:63: SyntaxWarning: invalid escape sequence '\\D'\n",
      "<>:64: SyntaxWarning: invalid escape sequence '\\D'\n",
      "<>:63: SyntaxWarning: invalid escape sequence '\\D'\n",
      "<>:64: SyntaxWarning: invalid escape sequence '\\D'\n",
      "C:\\Users\\tran1\\AppData\\Local\\Temp\\ipykernel_12420\\405596073.py:63: SyntaxWarning: invalid escape sequence '\\D'\n",
      "  TEST_DIR = \"D:\\Diux\\hoctap\\DoAn\\ddr\\\\test_preprocess\"\n",
      "C:\\Users\\tran1\\AppData\\Local\\Temp\\ipykernel_12420\\405596073.py:64: SyntaxWarning: invalid escape sequence '\\D'\n",
      "  evaluate_model(\"D:\\Diux\\hoctap\\DoAn\\models\\outputs_hybrid\\hybrid_finetune.keras\", TEST_DIR)\n"
     ]
    },
    {
     "name": "stdout",
     "output_type": "stream",
     "text": [
      ">> Load model từ D:\\Diux\\hoctap\\DoAn\\models\\outputs_hybrid\\hybrid_finetune.keras\n",
      "Found 1253 files belonging to 5 classes.\n",
      "\u001b[1m79/79\u001b[0m \u001b[32m━━━━━━━━━━━━━━━━━━━━\u001b[0m\u001b[37m\u001b[0m \u001b[1m261s\u001b[0m 3s/step\n",
      "\n",
      "=== Accuracy: 0.5411 ===\n",
      "\n",
      "=== Classification Report ===\n"
     ]
    },
    {
     "name": "stderr",
     "output_type": "stream",
     "text": [
      "d:\\Diux\\hoctap\\DoAn\\myvenv\\Lib\\site-packages\\sklearn\\metrics\\_classification.py:1731: UndefinedMetricWarning: Precision is ill-defined and being set to 0.0 in labels with no predicted samples. Use `zero_division` parameter to control this behavior.\n",
      "  _warn_prf(average, modifier, f\"{metric.capitalize()} is\", result.shape[0])\n",
      "d:\\Diux\\hoctap\\DoAn\\myvenv\\Lib\\site-packages\\sklearn\\metrics\\_classification.py:1731: UndefinedMetricWarning: Precision is ill-defined and being set to 0.0 in labels with no predicted samples. Use `zero_division` parameter to control this behavior.\n",
      "  _warn_prf(average, modifier, f\"{metric.capitalize()} is\", result.shape[0])\n",
      "d:\\Diux\\hoctap\\DoAn\\myvenv\\Lib\\site-packages\\sklearn\\metrics\\_classification.py:1731: UndefinedMetricWarning: Precision is ill-defined and being set to 0.0 in labels with no predicted samples. Use `zero_division` parameter to control this behavior.\n",
      "  _warn_prf(average, modifier, f\"{metric.capitalize()} is\", result.shape[0])\n"
     ]
    },
    {
     "name": "stdout",
     "output_type": "stream",
     "text": [
      "              precision    recall  f1-score   support\n",
      "\n",
      "           0     0.6549    0.9474    0.7744       627\n",
      "           1     0.0091    0.0317    0.0141        63\n",
      "           2     0.0000    0.0000    0.0000       448\n",
      "           3     0.3158    0.2500    0.2791        24\n",
      "           4     0.7103    0.8352    0.7677        91\n",
      "\n",
      "    accuracy                         0.5411      1253\n",
      "   macro avg     0.3380    0.4129    0.3671      1253\n",
      "weighted avg     0.3858    0.5411    0.4493      1253\n",
      "\n"
     ]
    },
    {
     "data": {
      "image/png": "[encoded data removed]",
      "text/plain": [
       "<Figure size 700x600 with 2 Axes>"
      ]
     },
     "metadata": {},
     "output_type": "display_data"
    }
   ],
   "source": [
    "import numpy as np\n",
    "import matplotlib.pyplot as plt\n",
    "import seaborn as sns\n",
    "from sklearn.metrics import (\n",
    "    classification_report,\n",
    "    confusion_matrix,\n",
    "    accuracy_score\n",
    ")\n",
    "from tensorflow import keras\n",
    "import tensorflow as tf\n",
    "\n",
    "# ================== LOAD TEST DATA ==================\n",
    "def load_test_ds(directory, img_size, batch_size):\n",
    "    ds = tf.keras.utils.image_dataset_from_directory(\n",
    "        directory,\n",
    "        labels=\"inferred\",\n",
    "        label_mode=\"int\",\n",
    "        class_names=[\"0\",\"1\",\"2\",\"3\",\"4\"],\n",
    "        color_mode=\"rgb\",\n",
    "        image_size=(img_size, img_size),\n",
    "        batch_size=batch_size,\n",
    "        shuffle=False\n",
    "    )\n",
    "    return ds\n",
    "\n",
    "# ================== EVALUATE ==================\n",
    "def evaluate_model(model_path, test_dir, img_size=299, batch_size=16):\n",
    "    print(f\">> Load model từ {model_path}\")\n",
    "    model = keras.models.load_model(model_path)\n",
    "\n",
    "    ds_test = load_test_ds(test_dir, img_size, batch_size)\n",
    "\n",
    "    # Lấy nhãn thật dự đoán\n",
    "    y_true = np.concatenate([y.numpy() for x, y in ds_test], axis=0)\n",
    "    y_pred_prob = model.predict(ds_test, verbose=1)\n",
    "    y_pred = np.argmax(y_pred_prob, axis=1)\n",
    "\n",
    "    # Accuracy\n",
    "    acc = accuracy_score(y_true, y_pred)\n",
    "    print(f\"\\n=== Accuracy: {acc:.4f} ===\\n\")\n",
    "\n",
    "    # Classification Report\n",
    "    print(\"=== Classification Report ===\")\n",
    "    print(classification_report(\n",
    "        y_true, y_pred,\n",
    "        target_names=[\"0\",\"1\",\"2\",\"3\",\"4\"],\n",
    "        digits=4\n",
    "    ))\n",
    "\n",
    "    # Confusion Matrix\n",
    "    cm = confusion_matrix(y_true, y_pred)\n",
    "    plt.figure(figsize=(7,6))\n",
    "    sns.heatmap(cm, annot=True, fmt=\"d\", cmap=\"Blues\",\n",
    "                xticklabels=[\"0\",\"1\",\"2\",\"3\",\"4\"],\n",
    "                yticklabels=[\"0\",\"1\",\"2\",\"3\",\"4\"])\n",
    "    plt.xlabel(\"Predicted\")\n",
    "    plt.ylabel(\"True\")\n",
    "    plt.title(\"Confusion Matrix - Hybrid Model\")\n",
    "    plt.show()\n",
    "\n",
    "# ================== RUN ==================\n",
    "\n",
    "TEST_DIR = \"D:\\Diux\\hoctap\\DoAn\\ddr\\\\test_preprocess\"\n",
    "evaluate_model(\"D:\\Diux\\hoctap\\DoAn\\models\\outputs_hybrid\\hybrid_finetune.keras\", TEST_DIR)\n"
   ]
  },
  {
   "cell_type": "code",
   "execution_count": 2,
   "metadata": {},
   "outputs": [],
   "source": [
    "!ipynb-py-convert structure_model_vgg16_inceptionV3.ipynb structure_model_vgg16_inceptionV3.py"
   ]
  },
  {
   "cell_type": "code",
   "execution_count": 1,
   "metadata": {},
   "outputs": [],
   "source": [
    "!ipynb-py-convert structure_model_vgg16_inceptionV3.ipynb vgg16_inceptionV3.py"
   ]
  }
 ],
 "metadata": {
  "kaggle": {
   "accelerator": "none",
   "dataSources": [
    {
     "datasetId": 8070203,
     "sourceId": 12765953,
     "sourceType": "datasetVersion"
    }
   ],
   "dockerImageVersionId": 31089,
   "isGpuEnabled": false,
   "isInternetEnabled": true,
   "language": "python",
   "sourceType": "notebook"
  },
  "kernelspec": {
   "display_name": "myvenv",
   "language": "python",
   "name": "python3"
  },
  "language_info": {
   "codemirror_mode": {
    "name": "ipython",
    "version": 3
   },
   "file_extension": ".py",
   "mimetype": "text/x-python",
   "name": "python",
   "nbconvert_exporter": "python",
   "pygments_lexer": "ipython3",
   "version": "3.12.0"
  }
 },
 "nbformat": 4,
 "nbformat_minor": 4
}
