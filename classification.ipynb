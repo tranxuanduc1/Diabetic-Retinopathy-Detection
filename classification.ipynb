{
 "cells": [
  {
   "cell_type": "markdown",
   "id": "a0f2128a",
   "metadata": {},
   "source": [
    "install necessary libraries"
   ]
  },
  {
   "cell_type": "code",
   "execution_count": 3,
   "id": "6816cc07",
   "metadata": {},
   "outputs": [
    {
     "name": "stdout",
     "output_type": "stream",
     "text": [
      "Requirement already satisfied: pillow in d:\\diux\\hoctap\\doan\\diabetic-retinopathy-detection\\myvenv\\lib\\site-packages (11.3.0)\n",
      "Collecting tqdm\n",
      "  Obtaining dependency information for tqdm from https://files.pythonhosted.org/packages/d0/30/dc54f88dd4a2b5dc8a0279bdd7270e735851848b762aeb1c1184ed1f6b14/tqdm-4.67.1-py3-none-any.whl.metadata\n",
      "  Downloading tqdm-4.67.1-py3-none-any.whl.metadata (57 kB)\n",
      "     ---------------------------------------- 0.0/57.7 kB ? eta -:--:--\n",
      "     ------------- ------------------------ 20.5/57.7 kB 682.7 kB/s eta 0:00:01\n",
      "     --------------------------------- ---- 51.2/57.7 kB 660.6 kB/s eta 0:00:01\n",
      "     -------------------------------------- 57.7/57.7 kB 608.1 kB/s eta 0:00:00\n",
      "Requirement already satisfied: colorama in d:\\diux\\hoctap\\doan\\diabetic-retinopathy-detection\\myvenv\\lib\\site-packages (from tqdm) (0.4.6)\n",
      "Downloading tqdm-4.67.1-py3-none-any.whl (78 kB)\n",
      "   ---------------------------------------- 0.0/78.5 kB ? eta -:--:--\n",
      "   ------------------------------- -------- 61.4/78.5 kB 1.7 MB/s eta 0:00:01\n",
      "   ---------------------------------------- 78.5/78.5 kB 1.1 MB/s eta 0:00:00\n",
      "Installing collected packages: tqdm\n",
      "Successfully installed tqdm-4.67.1\n"
     ]
    },
    {
     "name": "stderr",
     "output_type": "stream",
     "text": [
      "\n",
      "[notice] A new release of pip is available: 23.2.1 -> 25.1.1\n",
      "[notice] To update, run: python.exe -m pip install --upgrade pip\n"
     ]
    }
   ],
   "source": [
    "# !pip install tensorflow opencv-python pandas numpy matplotlib\n",
    "!pip install pillow tqdm "
   ]
  },
  {
   "cell_type": "code",
   "execution_count": 2,
   "id": "990e82ed",
   "metadata": {},
   "outputs": [],
   "source": [
    "import pandas as pd\n",
    "import numpy as np\n",
    "import os\n",
    "import shutil\n",
    "from tqdm import tqdm\n",
    "from PIL import Image\n"
   ]
  },
  {
   "cell_type": "markdown",
   "id": "15de6944",
   "metadata": {},
   "source": [
    "=======================classification======================="
   ]
  },
  {
   "cell_type": "code",
   "execution_count": 19,
   "id": "19bd2767",
   "metadata": {},
   "outputs": [
    {
     "data": {
      "text/plain": [
       "35126"
      ]
     },
     "execution_count": 19,
     "metadata": {},
     "output_type": "execute_result"
    }
   ],
   "source": [
    "# Đọc file CSV \n",
    "df = pd.read_csv('trainLabels/trainLabels.csv')\n",
    "len(df)"
   ]
  },
  {
   "cell_type": "code",
   "execution_count": 17,
   "id": "b816523b",
   "metadata": {},
   "outputs": [
    {
     "data": {
      "text/plain": [
       "level\n",
       "0    25810\n",
       "1     2443\n",
       "2     5292\n",
       "3      873\n",
       "4      708\n",
       "Name: count, dtype: int64"
      ]
     },
     "execution_count": 17,
     "metadata": {},
     "output_type": "execute_result"
    }
   ],
   "source": [
    "df['level'].value_counts().sort_index()"
   ]
  },
  {
   "cell_type": "code",
   "execution_count": 21,
   "id": "d81ad674",
   "metadata": {},
   "outputs": [],
   "source": [
    "level_mapping = {\n",
    "    0: 'NoDR',\n",
    "    1: 'Mild',\n",
    "    2: 'Moderate', \n",
    "    3: 'Severe',\n",
    "    4: 'ProliferativeDR'\n",
    "}"
   ]
  },
  {
   "cell_type": "code",
   "execution_count": 23,
   "id": "f66f355d",
   "metadata": {},
   "outputs": [],
   "source": [
    "# Tạo thư mục train_image và các thư mục con\n",
    "base_dir = 'trainImage'\n",
    "if not os.path.exists(base_dir):\n",
    "    os.makedirs(base_dir)\n",
    "\n",
    "for level, folder_name in level_mapping.items():\n",
    "    folder_path = os.path.join(base_dir, folder_name)\n",
    "    if not os.path.exists(folder_path):\n",
    "        os.makedirs(folder_path)\n",
    "        "
   ]
  },
  {
   "cell_type": "code",
   "execution_count": 24,
   "id": "4b4ab087",
   "metadata": {},
   "outputs": [],
   "source": [
    "source_dir = 'train'"
   ]
  },
  {
   "cell_type": "code",
   "execution_count": null,
   "id": "772243bd",
   "metadata": {},
   "outputs": [],
   "source": [
    "# Hàm để tìm file ảnh với nhiều định dạng khác nhau\n",
    "def find_image_file(image_name, source_dir):\n",
    "    extension = '.jpeg'\n",
    "    \n",
    "    file_path = os.path.join(source_dir, image_name + extension)\n",
    "    if os.path.exists(file_path):\n",
    "        return file_path\n",
    "    return None"
   ]
  },
  {
   "cell_type": "code",
   "execution_count": 35,
   "id": "757c81e3",
   "metadata": {},
   "outputs": [
    {
     "name": "stdout",
     "output_type": "stream",
     "text": [
      "train\\44338_right.jpeg\n",
      "train\\44338_right.jpeg\n"
     ]
    }
   ],
   "source": [
    "print(find_image_file(\"44338_right\",\"train\"))"
   ]
  },
  {
   "cell_type": "code",
   "execution_count": 26,
   "id": "d52bedb3",
   "metadata": {},
   "outputs": [],
   "source": [
    "# Thống kê\n",
    "success_count = 0\n",
    "failed_count = 0\n",
    "failed_images = []"
   ]
  },
  {
   "cell_type": "code",
   "execution_count": null,
   "id": "96e6c8c0",
   "metadata": {},
   "outputs": [],
   "source": [
    "print(\"\\nBắt đầu phân loại ảnh...\")\n",
    "\n",
    "# Duyệt qua từng dòng trong DataFrame\n",
    "for index, row in tqdm(df.iterrows(), total=len(df), desc=\"Đang phân loại\"):\n",
    "    image_name = row['image']\n",
    "    level = row['level']\n",
    "    \n",
    "    # Tìm file ảnh (sẽ có dạng train\\44338_right.jpeg)\n",
    "    source_path = find_image_file(image_name, source_dir)\n",
    "    \n",
    "    if source_path is None:\n",
    "        failed_count += 1\n",
    "        failed_images.append(image_name)\n",
    "        continue\n",
    "    \n",
    "    # Xác định thư mục đích\n",
    "    target_folder = level_mapping[level]\n",
    "    target_dir = os.path.join(base_dir, target_folder)\n",
    "    \n",
    "    # Lấy tên file và phần mở rộng\n",
    "    file_extension = os.path.splitext(source_path)[1]\n",
    "    target_path = os.path.join(target_dir, image_name + file_extension) #(sẽ có dạng trainImage\\NoDR\\44338_right.jpeg)\n",
    "    \n",
    "    try:\n",
    "        # di chuyen cac file\n",
    "        shutil.move(source_path, target_path)\n",
    "        success_count += 1\n",
    "        \n",
    "        # Kiểm tra tính toàn vẹn của ảnh (tùy chọn)\n",
    "        try:\n",
    "            with Image.open(target_path) as img:\n",
    "                img.verify()\n",
    "        except Exception as e:\n",
    "            print(f\"Cảnh báo: Ảnh {image_name} có thể bị lỗi: {e}\")\n",
    "            \n",
    "    except Exception as e:\n",
    "        failed_count += 1\n",
    "        failed_images.append(image_name)\n",
    "        print(f\"Lỗi khi copy {image_name}: {e}\")\n",
    "\n",
    "print(f\"\\n=== KẾT QUẢ PHÂN LOẠI ===\")\n",
    "print(f\"Thành công: {success_count} ảnh\")\n",
    "print(f\"Thất bại: {failed_count} ảnh\")"
   ]
  },
  {
   "cell_type": "code",
   "execution_count": 3,
   "id": "e7d019b6",
   "metadata": {},
   "outputs": [
    {
     "ename": "ImportError",
     "evalue": "Traceback (most recent call last):\n  File \"d:\\Diux\\hoctap\\DoAn\\diabetic-retinopathy-detection\\myvenv\\Lib\\site-packages\\tensorflow\\python\\pywrap_tensorflow.py\", line 73, in <module>\n    from tensorflow.python._pywrap_tensorflow_internal import *\nImportError: DLL load failed while importing _pywrap_tensorflow_internal: A dynamic link library (DLL) initialization routine failed.\n\n\nFailed to load the native TensorFlow runtime.\nSee https://www.tensorflow.org/install/errors for some common causes and solutions.\nIf you need help, create an issue at https://github.com/tensorflow/tensorflow/issues and include the entire stack trace above this error message.",
     "output_type": "error",
     "traceback": [
      "\u001b[31m---------------------------------------------------------------------------\u001b[39m",
      "\u001b[31mImportError\u001b[39m                               Traceback (most recent call last)",
      "\u001b[36mFile \u001b[39m\u001b[32md:\\Diux\\hoctap\\DoAn\\diabetic-retinopathy-detection\\myvenv\\Lib\\site-packages\\tensorflow\\python\\pywrap_tensorflow.py:73\u001b[39m\n\u001b[32m     72\u001b[39m \u001b[38;5;28;01mtry\u001b[39;00m:\n\u001b[32m---> \u001b[39m\u001b[32m73\u001b[39m   \u001b[38;5;28;01mfrom\u001b[39;00m\u001b[38;5;250m \u001b[39m\u001b[34;01mtensorflow\u001b[39;00m\u001b[34;01m.\u001b[39;00m\u001b[34;01mpython\u001b[39;00m\u001b[34;01m.\u001b[39;00m\u001b[34;01m_pywrap_tensorflow_internal\u001b[39;00m\u001b[38;5;250m \u001b[39m\u001b[38;5;28;01mimport\u001b[39;00m *\n\u001b[32m     74\u001b[39m \u001b[38;5;66;03m# This try catch logic is because there is no bazel equivalent for py_extension.\u001b[39;00m\n\u001b[32m     75\u001b[39m \u001b[38;5;66;03m# Externally in opensource we must enable exceptions to load the shared object\u001b[39;00m\n\u001b[32m     76\u001b[39m \u001b[38;5;66;03m# by exposing the PyInit symbols with pybind. This error will only be\u001b[39;00m\n\u001b[32m     77\u001b[39m \u001b[38;5;66;03m# caught internally or if someone changes the name of the target _pywrap_tensorflow_internal.\u001b[39;00m\n\u001b[32m     78\u001b[39m \n\u001b[32m     79\u001b[39m \u001b[38;5;66;03m# This logic is used in other internal projects using py_extension.\u001b[39;00m\n",
      "\u001b[31mImportError\u001b[39m: DLL load failed while importing _pywrap_tensorflow_internal: A dynamic link library (DLL) initialization routine failed.",
      "\nDuring handling of the above exception, another exception occurred:\n",
      "\u001b[31mImportError\u001b[39m                               Traceback (most recent call last)",
      "\u001b[36mCell\u001b[39m\u001b[36m \u001b[39m\u001b[32mIn[3]\u001b[39m\u001b[32m, line 1\u001b[39m\n\u001b[32m----> \u001b[39m\u001b[32m1\u001b[39m \u001b[38;5;28;01mimport\u001b[39;00m\u001b[38;5;250m \u001b[39m\u001b[34;01mtensorflow\u001b[39;00m \n",
      "\u001b[36mFile \u001b[39m\u001b[32md:\\Diux\\hoctap\\DoAn\\diabetic-retinopathy-detection\\myvenv\\Lib\\site-packages\\tensorflow\\__init__.py:40\u001b[39m\n\u001b[32m     37\u001b[39m _os.environ.setdefault(\u001b[33m\"\u001b[39m\u001b[33mENABLE_RUNTIME_UPTIME_TELEMETRY\u001b[39m\u001b[33m\"\u001b[39m, \u001b[33m\"\u001b[39m\u001b[33m1\u001b[39m\u001b[33m\"\u001b[39m)\n\u001b[32m     39\u001b[39m \u001b[38;5;66;03m# Do not remove this line; See https://github.com/tensorflow/tensorflow/issues/42596\u001b[39;00m\n\u001b[32m---> \u001b[39m\u001b[32m40\u001b[39m \u001b[38;5;28;01mfrom\u001b[39;00m\u001b[38;5;250m \u001b[39m\u001b[34;01mtensorflow\u001b[39;00m\u001b[34;01m.\u001b[39;00m\u001b[34;01mpython\u001b[39;00m\u001b[38;5;250m \u001b[39m\u001b[38;5;28;01mimport\u001b[39;00m pywrap_tensorflow \u001b[38;5;28;01mas\u001b[39;00m _pywrap_tensorflow  \u001b[38;5;66;03m# pylint: disable=unused-import\u001b[39;00m\n\u001b[32m     41\u001b[39m \u001b[38;5;28;01mfrom\u001b[39;00m\u001b[38;5;250m \u001b[39m\u001b[34;01mtensorflow\u001b[39;00m\u001b[34;01m.\u001b[39;00m\u001b[34;01mpython\u001b[39;00m\u001b[34;01m.\u001b[39;00m\u001b[34;01mtools\u001b[39;00m\u001b[38;5;250m \u001b[39m\u001b[38;5;28;01mimport\u001b[39;00m module_util \u001b[38;5;28;01mas\u001b[39;00m _module_util\n\u001b[32m     42\u001b[39m \u001b[38;5;28;01mfrom\u001b[39;00m\u001b[38;5;250m \u001b[39m\u001b[34;01mtensorflow\u001b[39;00m\u001b[34;01m.\u001b[39;00m\u001b[34;01mpython\u001b[39;00m\u001b[34;01m.\u001b[39;00m\u001b[34;01mutil\u001b[39;00m\u001b[34;01m.\u001b[39;00m\u001b[34;01mlazy_loader\u001b[39;00m\u001b[38;5;250m \u001b[39m\u001b[38;5;28;01mimport\u001b[39;00m KerasLazyLoader \u001b[38;5;28;01mas\u001b[39;00m _KerasLazyLoader\n",
      "\u001b[36mFile \u001b[39m\u001b[32md:\\Diux\\hoctap\\DoAn\\diabetic-retinopathy-detection\\myvenv\\Lib\\site-packages\\tensorflow\\python\\pywrap_tensorflow.py:88\u001b[39m\n\u001b[32m     86\u001b[39m     sys.setdlopenflags(_default_dlopen_flags)\n\u001b[32m     87\u001b[39m \u001b[38;5;28;01mexcept\u001b[39;00m \u001b[38;5;167;01mImportError\u001b[39;00m:\n\u001b[32m---> \u001b[39m\u001b[32m88\u001b[39m   \u001b[38;5;28;01mraise\u001b[39;00m \u001b[38;5;167;01mImportError\u001b[39;00m(\n\u001b[32m     89\u001b[39m       \u001b[33mf\u001b[39m\u001b[33m'\u001b[39m\u001b[38;5;132;01m{\u001b[39;00mtraceback.format_exc()\u001b[38;5;132;01m}\u001b[39;00m\u001b[33m'\u001b[39m\n\u001b[32m     90\u001b[39m       \u001b[33mf\u001b[39m\u001b[33m'\u001b[39m\u001b[38;5;130;01m\\n\u001b[39;00m\u001b[38;5;130;01m\\n\u001b[39;00m\u001b[33mFailed to load the native TensorFlow runtime.\u001b[39m\u001b[38;5;130;01m\\n\u001b[39;00m\u001b[33m'\u001b[39m\n\u001b[32m     91\u001b[39m       \u001b[33mf\u001b[39m\u001b[33m'\u001b[39m\u001b[33mSee https://www.tensorflow.org/install/errors \u001b[39m\u001b[33m'\u001b[39m\n\u001b[32m     92\u001b[39m       \u001b[33mf\u001b[39m\u001b[33m'\u001b[39m\u001b[33mfor some common causes and solutions.\u001b[39m\u001b[38;5;130;01m\\n\u001b[39;00m\u001b[33m'\u001b[39m\n\u001b[32m     93\u001b[39m       \u001b[33mf\u001b[39m\u001b[33m'\u001b[39m\u001b[33mIf you need help, create an issue \u001b[39m\u001b[33m'\u001b[39m\n\u001b[32m     94\u001b[39m       \u001b[33mf\u001b[39m\u001b[33m'\u001b[39m\u001b[33mat https://github.com/tensorflow/tensorflow/issues \u001b[39m\u001b[33m'\u001b[39m\n\u001b[32m     95\u001b[39m       \u001b[33mf\u001b[39m\u001b[33m'\u001b[39m\u001b[33mand include the entire stack trace above this error message.\u001b[39m\u001b[33m'\u001b[39m)\n\u001b[32m     97\u001b[39m \u001b[38;5;66;03m# pylint: enable=wildcard-import,g-import-not-at-top,unused-import,line-too-long\u001b[39;00m\n",
      "\u001b[31mImportError\u001b[39m: Traceback (most recent call last):\n  File \"d:\\Diux\\hoctap\\DoAn\\diabetic-retinopathy-detection\\myvenv\\Lib\\site-packages\\tensorflow\\python\\pywrap_tensorflow.py\", line 73, in <module>\n    from tensorflow.python._pywrap_tensorflow_internal import *\nImportError: DLL load failed while importing _pywrap_tensorflow_internal: A dynamic link library (DLL) initialization routine failed.\n\n\nFailed to load the native TensorFlow runtime.\nSee https://www.tensorflow.org/install/errors for some common causes and solutions.\nIf you need help, create an issue at https://github.com/tensorflow/tensorflow/issues and include the entire stack trace above this error message."
     ]
    }
   ],
   "source": [
    "import tensorflow "
   ]
  }
 ],
 "metadata": {
  "kernelspec": {
   "display_name": "myvenv",
   "language": "python",
   "name": "python3"
  },
  "language_info": {
   "codemirror_mode": {
    "name": "ipython",
    "version": 3
   },
   "file_extension": ".py",
   "mimetype": "text/x-python",
   "name": "python",
   "nbconvert_exporter": "python",
   "pygments_lexer": "ipython3",
   "version": "3.12.0"
  }
 },
 "nbformat": 4,
 "nbformat_minor": 5
}
