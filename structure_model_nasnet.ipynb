{
 "cells": [
  {
   "cell_type": "code",
   "execution_count": 1,
   "metadata": {
    "execution": {
     "iopub.execute_input": "2025-08-15T03:08:19.065908Z",
     "iopub.status.busy": "2025-08-15T03:08:19.065553Z",
     "iopub.status.idle": "2025-08-15T03:08:19.086681Z",
     "shell.execute_reply": "2025-08-15T03:08:19.085654Z",
     "shell.execute_reply.started": "2025-08-15T03:08:19.065874Z"
    },
    "trusted": true
   },
   "outputs": [
    {
     "name": "stderr",
     "output_type": "stream",
     "text": [
      "2025-08-15 23:14:44.446300: I tensorflow/core/util/port.cc:153] oneDNN custom operations are on. You may see slightly different numerical results due to floating-point round-off errors from different computation orders. To turn them off, set the environment variable `TF_ENABLE_ONEDNN_OPTS=0`.\n",
      "2025-08-15 23:14:44.604101: E external/local_xla/xla/stream_executor/cuda/cuda_fft.cc:467] Unable to register cuFFT factory: Attempting to register factory for plugin cuFFT when one has already been registered\n",
      "WARNING: All log messages before absl::InitializeLog() is called are written to STDERR\n",
      "E0000 00:00:1755314084.669080    3168 cuda_dnn.cc:8579] Unable to register cuDNN factory: Attempting to register factory for plugin cuDNN when one has already been registered\n",
      "E0000 00:00:1755314084.688699    3168 cuda_blas.cc:1407] Unable to register cuBLAS factory: Attempting to register factory for plugin cuBLAS when one has already been registered\n",
      "W0000 00:00:1755314084.802961    3168 computation_placer.cc:177] computation placer already registered. Please check linkage and avoid linking the same target more than once.\n",
      "W0000 00:00:1755314084.802993    3168 computation_placer.cc:177] computation placer already registered. Please check linkage and avoid linking the same target more than once.\n",
      "W0000 00:00:1755314084.802995    3168 computation_placer.cc:177] computation placer already registered. Please check linkage and avoid linking the same target more than once.\n",
      "W0000 00:00:1755314084.802997    3168 computation_placer.cc:177] computation placer already registered. Please check linkage and avoid linking the same target more than once.\n",
      "2025-08-15 23:14:44.816524: I tensorflow/core/platform/cpu_feature_guard.cc:210] This TensorFlow binary is optimized to use available CPU instructions in performance-critical operations.\n",
      "To enable the following instructions: AVX2 AVX512F AVX512_VNNI FMA, in other operations, rebuild TensorFlow with the appropriate compiler flags.\n"
     ]
    }
   ],
   "source": [
    "import os, random, json\n",
    "import numpy as np\n",
    "import tensorflow as tf\n",
    "from tensorflow import keras\n",
    "from tensorflow.keras import layers\n",
    "from tensorflow.data import AUTOTUNE\n",
    "from tensorflow.keras.callbacks import EarlyStopping, ReduceLROnPlateau, ModelCheckpoint\n",
    "from tensorflow.keras.applications.nasnet import NASNetLarge, preprocess_input as nasnet_preprocess\n"
   ]
  },
  {
   "cell_type": "code",
   "execution_count": null,
   "metadata": {
    "execution": {
     "iopub.execute_input": "2025-08-15T03:08:19.108843Z",
     "iopub.status.busy": "2025-08-15T03:08:19.108527Z",
     "iopub.status.idle": "2025-08-15T03:08:19.129922Z",
     "shell.execute_reply": "2025-08-15T03:08:19.129005Z",
     "shell.execute_reply.started": "2025-08-15T03:08:19.108819Z"
    },
    "trusted": true
   },
   "outputs": [],
   "source": [
    "# ================== CONFIG ==================\n",
    "SEED = 42\n",
    "random.seed(SEED); np.random.seed(SEED); tf.random.set_seed(SEED)\n",
    "\n",
    "TRAIN_DIR = \"/home/duc/Documents/DoAn/aptos2019-blindness-detection/train_preprocess\"   # <--- chỉnh nếu khác\n",
    "VAL_DIR   = \"/home/duc/Documents/DoAn/aptos2019-blindness-detection/val_preprocess\"     # <--- chỉnh nếu khác\n",
    "\n",
    "IMG_SIZE = 331        # NASNetLarge\n",
    "BATCH_SIZE = 16\n",
    "HEAD_EPOCHS = 12      # train head (freeze backbone)\n",
    "FT_EPOCHS   = 12      # fine-tune cuối\n",
    "AUGMENT = False       # bạn đã tăng cường offline -> để False\n",
    "\n",
    "OUT_DIR = \"outputs_two_stage\"\n",
    "os.makedirs(OUT_DIR, exist_ok=True)\n",
    "\n",
    "# Bật memory growth GPU (nếu có)\n",
    "for g in tf.config.list_physical_devices('GPU'):\n",
    "    try:\n",
    "        tf.config.experimental.set_memory_growth(g, True)\n",
    "    except:\n",
    "        pass"
   ]
  },
  {
   "cell_type": "code",
   "execution_count": 3,
   "metadata": {
    "execution": {
     "iopub.execute_input": "2025-08-15T03:08:19.131239Z",
     "iopub.status.busy": "2025-08-15T03:08:19.130905Z",
     "iopub.status.idle": "2025-08-15T03:08:19.156531Z",
     "shell.execute_reply": "2025-08-15T03:08:19.155525Z",
     "shell.execute_reply.started": "2025-08-15T03:08:19.131210Z"
    },
    "trusted": true
   },
   "outputs": [],
   "source": [
    "# ================== DATA ==================\n",
    "def make_augmenter():\n",
    "    # Nếu không augment, trả về 1 layer giữ nguyên đầu vào (identity)\n",
    "    if not AUGMENT:\n",
    "        return keras.Sequential([layers.Lambda(lambda x: x, name=\"identity\")], name=\"augmenter\")\n",
    "    return keras.Sequential([\n",
    "        layers.RandomFlip(\"horizontal\"),\n",
    "        layers.RandomRotation(0.05),\n",
    "        layers.RandomZoom(0.1),\n",
    "        layers.RandomContrast(0.05),\n",
    "    ], name=\"augmenter\")\n",
    "\n",
    "def preprocess(x, y):\n",
    "    x = tf.cast(x, tf.float32)\n",
    "    x = nasnet_preprocess(x)  # [-1,1]\n",
    "    return x, y\n",
    "\n",
    "def build_ds_5cls(directory, shuffle):\n",
    "    ds = tf.keras.utils.image_dataset_from_directory(\n",
    "        directory,\n",
    "        labels=\"inferred\",\n",
    "        label_mode=\"int\",\n",
    "        class_names=[\"0\",\"1\",\"2\",\"3\",\"4\"],  # cố định thứ tự\n",
    "        color_mode=\"rgb\",\n",
    "        image_size=(IMG_SIZE, IMG_SIZE),\n",
    "        batch_size=BATCH_SIZE,\n",
    "        shuffle=shuffle,\n",
    "        seed=SEED\n",
    "    )\n",
    "    ds = ds.map(preprocess, num_parallel_calls=AUTOTUNE)\n",
    "    return ds.prefetch(AUTOTUNE)\n",
    "\n",
    "def build_ds_binary(directory, shuffle):\n",
    "    # (0) vs (1..4)\n",
    "    ds = build_ds_5cls(directory, shuffle)\n",
    "    def to_binary(x, y):\n",
    "        y_bin = tf.cast(y > 0, tf.float32)  # 0/1\n",
    "        return x, tf.expand_dims(y_bin, -1) # shape (B,1) cho BCE\n",
    "    ds = ds.map(to_binary, num_parallel_calls=AUTOTUNE)\n",
    "    return ds.prefetch(AUTOTUNE)\n",
    "\n",
    "def build_ds_dr4(directory, shuffle):\n",
    "    # Chỉ lấy lớp 1..4, Keras sẽ gán nhãn 0..3 theo class_names dưới\n",
    "    ds = tf.keras.utils.image_dataset_from_directory(\n",
    "        directory,\n",
    "        labels=\"inferred\",\n",
    "        label_mode=\"int\",\n",
    "        class_names=[\"1\",\"2\",\"3\",\"4\"],\n",
    "        color_mode=\"rgb\",\n",
    "        image_size=(IMG_SIZE, IMG_SIZE),\n",
    "        batch_size=BATCH_SIZE,\n",
    "        shuffle=shuffle,\n",
    "        seed=SEED\n",
    "    )\n",
    "    ds = ds.map(preprocess, num_parallel_calls=AUTOTUNE)\n",
    "    return ds.prefetch(AUTOTUNE)"
   ]
  },
  {
   "cell_type": "code",
   "execution_count": 4,
   "metadata": {
    "execution": {
     "iopub.execute_input": "2025-08-15T03:08:19.157870Z",
     "iopub.status.busy": "2025-08-15T03:08:19.157543Z",
     "iopub.status.idle": "2025-08-15T03:08:19.183443Z",
     "shell.execute_reply": "2025-08-15T03:08:19.182466Z",
     "shell.execute_reply.started": "2025-08-15T03:08:19.157842Z"
    },
    "trusted": true
   },
   "outputs": [],
   "source": [
    "# ================== MODELS ==================\n",
    "def build_stage1_binary_model():\n",
    "    inp = layers.Input(shape=(IMG_SIZE, IMG_SIZE, 3))\n",
    "    x = make_augmenter()(inp)\n",
    "    base = NASNetLarge(include_top=False, weights=\"imagenet\", input_tensor=x, pooling=\"avg\", name=\"NASNet\")\n",
    "    base.trainable = False  # train head trước\n",
    "    x=base(x)\n",
    "    x = layers.Dropout(0.4)(x)\n",
    "    out = layers.Dense(1, activation=\"sigmoid\")(x)\n",
    "    model = keras.Model(inp, out, name=\"Stage1_NASNet_Binary\")\n",
    "    model.compile(\n",
    "        optimizer=keras.optimizers.Adam(1e-3),\n",
    "        loss=\"binary_crossentropy\",\n",
    "        metrics=[keras.metrics.AUC(name=\"auc\"), keras.metrics.BinaryAccuracy(name=\"acc\")]\n",
    "    )\n",
    "    return model\n",
    "\n",
    "def unfreeze_last_n(model, n_last=50, lr=1e-4):\n",
    "    base = model.get_layer(\"NASNet\")\n",
    "    base.trainable = True\n",
    "    # Đóng băng phần đầu, chỉ mở n_last layer cuối\n",
    "    if n_last is not None and n_last > 0:\n",
    "        for l in base.layers[:-n_last]:\n",
    "            l.trainable = False\n",
    "    # Thường đóng băng BN khi fine-tune\n",
    "    for l in base.layers:\n",
    "        if isinstance(l, layers.BatchNormalization):\n",
    "            l.trainable = False\n",
    "    model.compile(\n",
    "        optimizer=keras.optimizers.Adam(lr),\n",
    "        loss=\"binary_crossentropy\",\n",
    "        metrics=[keras.metrics.AUC(name=\"auc\"),\n",
    "                 keras.metrics.BinaryAccuracy(name=\"acc\")]\n",
    "    )\n",
    "\n",
    "def build_stage2_dr4_model():\n",
    "    inp = layers.Input(shape=(IMG_SIZE, IMG_SIZE, 3))\n",
    "    x = make_augmenter()(inp)\n",
    "    base = NASNetLarge(include_top=False, weights=\"imagenet\", input_tensor=x, pooling=\"avg\", name=\"NASNet\")\n",
    "    base.trainable = False\n",
    "    x=base(x)\n",
    "    x = layers.Dropout(0.4)(x)\n",
    "    out = layers.Dense(4, activation=\"softmax\")(x)  # 4 lớp: 1..4 -> 0..3\n",
    "    model = keras.Model(inp, out, name=\"Stage2_NASNet_DR4\")\n",
    "    model.compile(\n",
    "        optimizer=keras.optimizers.Adam(1e-3),\n",
    "        loss=\"sparse_categorical_crossentropy\",\n",
    "        metrics=[\"accuracy\"]\n",
    "    )\n",
    "    return model"
   ]
  },
  {
   "cell_type": "code",
   "execution_count": 5,
   "metadata": {
    "execution": {
     "iopub.execute_input": "2025-08-15T03:08:19.240817Z",
     "iopub.status.busy": "2025-08-15T03:08:19.240440Z",
     "iopub.status.idle": "2025-08-15T03:08:19.255809Z",
     "shell.execute_reply": "2025-08-15T03:08:19.254865Z",
     "shell.execute_reply.started": "2025-08-15T03:08:19.240784Z"
    },
    "trusted": true
   },
   "outputs": [],
   "source": [
    "# ================== TRAIN & EVAL ==================\n",
    "def train_stage1():\n",
    "    print(\"\\n=== Stage 1: Binary no-DR vs DR ===\")\n",
    "    ds_tr = build_ds_binary(TRAIN_DIR, shuffle=True)\n",
    "    ds_va = build_ds_binary(VAL_DIR, shuffle=False)\n",
    "\n",
    "    m1 = build_stage1_binary_model()\n",
    "    cbs = [\n",
    "        EarlyStopping(monitor=\"val_loss\", patience=4, restore_best_weights=True),\n",
    "        ReduceLROnPlateau(monitor=\"val_loss\", factor=0.5, patience=2, min_lr=1e-6),\n",
    "        ModelCheckpoint(os.path.join(OUT_DIR, \"stage1_head_best.keras\"), monitor=\"val_loss\", save_best_only=True)\n",
    "    ]\n",
    "    m1.fit(ds_tr, validation_data=ds_va, epochs=HEAD_EPOCHS, callbacks=cbs)\n",
    "\n",
    "    # Fine-tune\n",
    "    unfreeze_last_n(m1, n_last=50, lr=1e-4)\n",
    "    cbs_ft = [\n",
    "        EarlyStopping(monitor=\"val_loss\", patience=4, restore_best_weights=True),\n",
    "        ReduceLROnPlateau(monitor=\"val_loss\", factor=0.5, patience=2, min_lr=1e-6),\n",
    "        ModelCheckpoint(os.path.join(OUT_DIR, \"stage1_finetune_best.keras\"), monitor=\"val_loss\", save_best_only=True)\n",
    "    ]\n",
    "    m1.fit(ds_tr, validation_data=ds_va, epochs=FT_EPOCHS, callbacks=cbs_ft)\n",
    "\n",
    "    # Lưu\n",
    "    path_final = os.path.join(OUT_DIR, \"stage1_final.keras\")\n",
    "    m1.save(path_final)\n",
    "    print(\"Saved:\", path_final)\n",
    "    return m1\n",
    "\n",
    "def train_stage2(m1_base=None):\n",
    "    print(\"\\n=== Stage 2: DR 4 lớp (1..4) ===\")\n",
    "    ds_tr = build_ds_dr4(TRAIN_DIR, shuffle=True)\n",
    "    ds_va = build_ds_dr4(VAL_DIR, shuffle=False)\n",
    "\n",
    "    m2 = build_stage2_dr4_model()\n",
    "\n",
    "    # Khởi tạo base của Stage2 từ Stage1 (warm-start)\n",
    "    if m1_base is not None:\n",
    "        try:\n",
    "            m2.get_layer(\"NASNet\").set_weights(m1_base.get_layer(\"NASNet\").get_weights())\n",
    "            print(\">> Warm-start Stage2 từ backbone Stage1.\")\n",
    "        except Exception as e:\n",
    "            print(\">> Không thể copy trọng số NASNet từ Stage1:\", e)\n",
    "\n",
    "    cbs = [\n",
    "        EarlyStopping(monitor=\"val_loss\", patience=4, restore_best_weights=True),\n",
    "        ReduceLROnPlateau(monitor=\"val_loss\", factor=0.5, patience=2, min_lr=1e-6),\n",
    "        ModelCheckpoint(os.path.join(OUT_DIR, \"stage2_head_best.keras\"), monitor=\"val_loss\", save_best_only=True)\n",
    "    ]\n",
    "    m2.fit(ds_tr, validation_data=ds_va, epochs=HEAD_EPOCHS, callbacks=cbs)\n",
    "\n",
    "    # Fine-tune backbone\n",
    "    # (mở n_last layer cuối — có thể chỉnh 50→100 nếu dữ liệu nhiều)\n",
    "    base2 = m2.get_layer(\"NASNet\")\n",
    "    base2.trainable = True\n",
    "    for l in base2.layers[:-50]:\n",
    "        l.trainable = False\n",
    "    for l in base2.layers:\n",
    "        if isinstance(l, layers.BatchNormalization):\n",
    "            l.trainable = False\n",
    "    m2.compile(optimizer=keras.optimizers.Adam(1e-4),\n",
    "               loss=\"sparse_categorical_crossentropy\",\n",
    "               metrics=[\"accuracy\"])\n",
    "    cbs_ft = [\n",
    "        EarlyStopping(monitor=\"val_loss\", patience=4, restore_best_weights=True),\n",
    "        ReduceLROnPlateau(monitor=\"val_loss\", factor=0.5, patience=2, min_lr=1e-6),\n",
    "        ModelCheckpoint(os.path.join(OUT_DIR, \"stage2_finetune_best.keras\"), monitor=\"val_loss\", save_best_only=True)\n",
    "    ]\n",
    "    m2.fit(ds_tr, validation_data=ds_va, epochs=FT_EPOCHS, callbacks=cbs_ft)\n",
    "\n",
    "    path_final = os.path.join(OUT_DIR, \"stage2_final.keras\")\n",
    "    m2.save(path_final)\n",
    "    print(\"Saved:\", path_final)\n",
    "    return m2"
   ]
  },
  {
   "cell_type": "code",
   "execution_count": 6,
   "metadata": {
    "execution": {
     "iopub.execute_input": "2025-08-15T03:08:19.257804Z",
     "iopub.status.busy": "2025-08-15T03:08:19.257489Z",
     "iopub.status.idle": "2025-08-15T03:08:19.283144Z",
     "shell.execute_reply": "2025-08-15T03:08:19.281958Z",
     "shell.execute_reply.started": "2025-08-15T03:08:19.257781Z"
    },
    "trusted": true
   },
   "outputs": [],
   "source": [
    "# ================== 5-CLASS INFERENCE (tuỳ chọn) ==================\n",
    "def predict_image_5class(img_path, model_stage1, model_stage2, thr=0.5):\n",
    "    \"\"\"Trả về nhãn 0..4 theo pipeline 2 giai đoạn.\"\"\"\n",
    "    img = tf.keras.preprocessing.image.load_img(img_path, target_size=(IMG_SIZE, IMG_SIZE))\n",
    "    x = tf.keras.preprocessing.image.img_to_array(img)\n",
    "    x = nasnet_preprocess(x)\n",
    "    x = np.expand_dims(x, 0)\n",
    "\n",
    "    p_dr = float(model_stage1.predict(x, verbose=0)[0][0])\n",
    "    if p_dr < thr:\n",
    "        return 0\n",
    "    # DR -> 1..4 (model_stage2 output 0..3)\n",
    "    p4 = model_stage2.predict(x, verbose=0)[0]\n",
    "    return int(np.argmax(p4)) + 1"
   ]
  },
  {
   "cell_type": "code",
   "execution_count": 7,
   "metadata": {
    "execution": {
     "iopub.execute_input": "2025-08-15T03:08:19.284534Z",
     "iopub.status.busy": "2025-08-15T03:08:19.284182Z",
     "iopub.status.idle": "2025-08-15T03:08:19.302419Z",
     "shell.execute_reply": "2025-08-15T03:08:19.301403Z",
     "shell.execute_reply.started": "2025-08-15T03:08:19.284507Z"
    },
    "trusted": true
   },
   "outputs": [],
   "source": [
    "def main():\n",
    "    m1 = train_stage1()\n",
    "    m2 = train_stage2(m1_base=m1)\n",
    "\n",
    "    # Lưu tóm tắt\n",
    "    with open(os.path.join(OUT_DIR, \"training_done.json\"), \"w\") as f:\n",
    "        json.dump({\"stage1\": \"done\", \"stage2\": \"done\"}, f, indent=2)\n",
    "    print(\"\\n==> Đã huấn luyện xong. Mô hình nằm trong:\", OUT_DIR)\n",
    "    print(\"   - stage1_final.keras\")\n",
    "    print(\"   - stage2_final.keras\")"
   ]
  },
  {
   "cell_type": "code",
   "execution_count": 8,
   "metadata": {
    "execution": {
     "iopub.execute_input": "2025-08-15T03:08:19.305072Z",
     "iopub.status.busy": "2025-08-15T03:08:19.304210Z"
    },
    "trusted": true
   },
   "outputs": [
    {
     "name": "stdout",
     "output_type": "stream",
     "text": [
      "\n",
      "=== Stage 1: Binary no-DR vs DR ===\n",
      "Found 7324 files belonging to 5 classes.\n"
     ]
    },
    {
     "name": "stderr",
     "output_type": "stream",
     "text": [
      "I0000 00:00:1755314090.530396    3168 gpu_device.cc:2019] Created device /job:localhost/replica:0/task:0/device:GPU:0 with 2281 MB memory:  -> device: 0, name: NVIDIA GeForce RTX 3050 Laptop GPU, pci bus id: 0000:01:00.0, compute capability: 8.6\n"
     ]
    },
    {
     "name": "stdout",
     "output_type": "stream",
     "text": [
      "Found 366 files belonging to 5 classes.\n",
      "Epoch 1/12\n"
     ]
    },
    {
     "name": "stderr",
     "output_type": "stream",
     "text": [
      "/home/duc/Documents/DoAn/myvenv/lib/python3.10/site-packages/keras/src/models/functional.py:237: UserWarning: The structure of `inputs` doesn't match the expected structure.\n",
      "Expected: ['keras_tensor']\n",
      "Received: inputs=Tensor(shape=(None, 331, 331, 3))\n",
      "  warnings.warn(msg)\n",
      "WARNING: All log messages before absl::InitializeLog() is called are written to STDERR\n",
      "I0000 00:00:1755314115.515489    3317 service.cc:152] XLA service 0x793ef805c790 initialized for platform CUDA (this does not guarantee that XLA will be used). Devices:\n",
      "I0000 00:00:1755314115.515526    3317 service.cc:160]   StreamExecutor device (0): NVIDIA GeForce RTX 3050 Laptop GPU, Compute Capability 8.6\n",
      "2025-08-15 23:15:16.394350: I tensorflow/compiler/mlir/tensorflow/utils/dump_mlir_util.cc:269] disabling MLIR crash reproducer, set env var `MLIR_CRASH_REPRODUCER_DIRECTORY` to enable.\n",
      "I0000 00:00:1755314121.632585    3317 cuda_dnn.cc:529] Loaded cuDNN version 90300\n",
      "I0000 00:00:1755314137.131235    3317 device_compiler.h:188] Compiled cluster using XLA!  This line is logged at most once for the lifetime of the process.\n"
     ]
    },
    {
     "name": "stdout",
     "output_type": "stream",
     "text": [
      "\u001b[1m458/458\u001b[0m \u001b[32m━━━━━━━━━━━━━━━━━━━━\u001b[0m\u001b[37m\u001b[0m \u001b[1m253s\u001b[0m 470ms/step - acc: 0.8803 - auc: 0.8946 - loss: 0.2969 - val_acc: 0.7896 - val_auc: 0.9383 - val_loss: 0.5579 - learning_rate: 0.0010\n",
      "Epoch 2/12\n",
      "\u001b[1m458/458\u001b[0m \u001b[32m━━━━━━━━━━━━━━━━━━━━\u001b[0m\u001b[37m\u001b[0m \u001b[1m170s\u001b[0m 371ms/step - acc: 0.9402 - auc: 0.9767 - loss: 0.1562 - val_acc: 0.7814 - val_auc: 0.9445 - val_loss: 0.5869 - learning_rate: 0.0010\n",
      "Epoch 3/12\n",
      "\u001b[1m458/458\u001b[0m \u001b[32m━━━━━━━━━━━━━━━━━━━━\u001b[0m\u001b[37m\u001b[0m \u001b[1m170s\u001b[0m 371ms/step - acc: 0.9467 - auc: 0.9860 - loss: 0.1304 - val_acc: 0.7568 - val_auc: 0.9502 - val_loss: 0.6743 - learning_rate: 0.0010\n",
      "Epoch 4/12\n",
      "\u001b[1m458/458\u001b[0m \u001b[32m━━━━━━━━━━━━━━━━━━━━\u001b[0m\u001b[37m\u001b[0m \u001b[1m170s\u001b[0m 372ms/step - acc: 0.9596 - auc: 0.9894 - loss: 0.1131 - val_acc: 0.7760 - val_auc: 0.9507 - val_loss: 0.6723 - learning_rate: 5.0000e-04\n",
      "Epoch 5/12\n",
      "\u001b[1m458/458\u001b[0m \u001b[32m━━━━━━━━━━━━━━━━━━━━\u001b[0m\u001b[37m\u001b[0m \u001b[1m170s\u001b[0m 371ms/step - acc: 0.9561 - auc: 0.9899 - loss: 0.1113 - val_acc: 0.7760 - val_auc: 0.9522 - val_loss: 0.6914 - learning_rate: 5.0000e-04\n",
      "Epoch 1/12\n",
      "\u001b[1m458/458\u001b[0m \u001b[32m━━━━━━━━━━━━━━━━━━━━\u001b[0m\u001b[37m\u001b[0m \u001b[1m240s\u001b[0m 464ms/step - acc: 0.9547 - auc: 0.9857 - loss: 0.1167 - val_acc: 0.8033 - val_auc: 0.9338 - val_loss: 0.8450 - learning_rate: 1.0000e-04\n",
      "Epoch 2/12\n",
      "\u001b[1m458/458\u001b[0m \u001b[32m━━━━━━━━━━━━━━━━━━━━\u001b[0m\u001b[37m\u001b[0m \u001b[1m182s\u001b[0m 397ms/step - acc: 0.9823 - auc: 0.9957 - loss: 0.0553 - val_acc: 0.8770 - val_auc: 0.9423 - val_loss: 0.6746 - learning_rate: 1.0000e-04\n",
      "Epoch 3/12\n",
      "\u001b[1m458/458\u001b[0m \u001b[32m━━━━━━━━━━━━━━━━━━━━\u001b[0m\u001b[37m\u001b[0m \u001b[1m0s\u001b[0m 373ms/step - acc: 0.9861 - auc: 0.9975 - loss: 0.0409"
     ]
    },
    {
     "name": "stderr",
     "output_type": "stream",
     "text": [
      "2025-08-15 23:40:25.994046: W tensorflow/core/kernels/data/prefetch_autotuner.cc:52] Prefetch autotuner tried to allocate 33554688 bytes after encountering the first element of size 33554688 bytes.This already causes the autotune ram budget to be exceeded. To stay within the ram budget, either increase the ram budget or reduce element size\n",
      "2025-08-15 23:40:26.002625: W tensorflow/core/kernels/data/prefetch_autotuner.cc:52] Prefetch autotuner tried to allocate 33554496 bytes after encountering the first element of size 33554496 bytes.This already causes the autotune ram budget to be exceeded. To stay within the ram budget, either increase the ram budget or reduce element size\n"
     ]
    },
    {
     "name": "stdout",
     "output_type": "stream",
     "text": [
      "\u001b[1m458/458\u001b[0m \u001b[32m━━━━━━━━━━━━━━━━━━━━\u001b[0m\u001b[37m\u001b[0m \u001b[1m179s\u001b[0m 391ms/step - acc: 0.9861 - auc: 0.9975 - loss: 0.0409 - val_acc: 0.8689 - val_auc: 0.9254 - val_loss: 0.9738 - learning_rate: 1.0000e-04\n",
      "Epoch 4/12\n",
      "\u001b[1m458/458\u001b[0m \u001b[32m━━━━━━━━━━━━━━━━━━━━\u001b[0m\u001b[37m\u001b[0m \u001b[1m179s\u001b[0m 391ms/step - acc: 0.9902 - auc: 0.9978 - loss: 0.0324 - val_acc: 0.8361 - val_auc: 0.8791 - val_loss: 2.2584 - learning_rate: 1.0000e-04\n",
      "Epoch 5/12\n"
     ]
    },
    {
     "name": "stderr",
     "output_type": "stream",
     "text": [
      "2025-08-15 23:43:33.074818: W tensorflow/core/kernels/data/prefetch_autotuner.cc:52] Prefetch autotuner tried to allocate 33554688 bytes after encountering the first element of size 33554688 bytes.This already causes the autotune ram budget to be exceeded. To stay within the ram budget, either increase the ram budget or reduce element size\n",
      "2025-08-15 23:43:33.078424: W tensorflow/core/kernels/data/prefetch_autotuner.cc:52] Prefetch autotuner tried to allocate 33554496 bytes after encountering the first element of size 33554496 bytes.This already causes the autotune ram budget to be exceeded. To stay within the ram budget, either increase the ram budget or reduce element size\n"
     ]
    },
    {
     "name": "stdout",
     "output_type": "stream",
     "text": [
      "\u001b[1m458/458\u001b[0m \u001b[32m━━━━━━━━━━━━━━━━━━━━\u001b[0m\u001b[37m\u001b[0m \u001b[1m179s\u001b[0m 391ms/step - acc: 0.9950 - auc: 0.9993 - loss: 0.0155 - val_acc: 0.8525 - val_auc: 0.8885 - val_loss: 2.1099 - learning_rate: 5.0000e-05\n",
      "Epoch 6/12\n"
     ]
    },
    {
     "name": "stderr",
     "output_type": "stream",
     "text": [
      "2025-08-15 23:46:32.194067: W tensorflow/core/kernels/data/prefetch_autotuner.cc:52] Prefetch autotuner tried to allocate 33554496 bytes after encountering the first element of size 33554496 bytes.This already causes the autotune ram budget to be exceeded. To stay within the ram budget, either increase the ram budget or reduce element size\n"
     ]
    },
    {
     "name": "stdout",
     "output_type": "stream",
     "text": [
      "\u001b[1m458/458\u001b[0m \u001b[32m━━━━━━━━━━━━━━━━━━━━\u001b[0m\u001b[37m\u001b[0m \u001b[1m0s\u001b[0m 374ms/step - acc: 0.9964 - auc: 0.9994 - loss: 0.0108"
     ]
    },
    {
     "name": "stderr",
     "output_type": "stream",
     "text": [
      "2025-08-15 23:49:23.358037: W tensorflow/core/kernels/data/prefetch_autotuner.cc:52] Prefetch autotuner tried to allocate 33554496 bytes after encountering the first element of size 33554496 bytes.This already causes the autotune ram budget to be exceeded. To stay within the ram budget, either increase the ram budget or reduce element size\n"
     ]
    },
    {
     "name": "stdout",
     "output_type": "stream",
     "text": [
      "\u001b[1m458/458\u001b[0m \u001b[32m━━━━━━━━━━━━━━━━━━━━\u001b[0m\u001b[37m\u001b[0m \u001b[1m179s\u001b[0m 391ms/step - acc: 0.9964 - auc: 0.9994 - loss: 0.0108 - val_acc: 0.8443 - val_auc: 0.8712 - val_loss: 2.5978 - learning_rate: 5.0000e-05\n",
      "Saved: outputs_two_stage/stage1_final.keras\n",
      "\n",
      "=== Stage 2: DR 4 lớp (1..4) ===\n",
      "Found 5880 files belonging to 4 classes.\n",
      "Found 186 files belonging to 4 classes.\n",
      ">> Warm-start Stage2 từ backbone Stage1.\n",
      "Epoch 1/12\n"
     ]
    },
    {
     "name": "stderr",
     "output_type": "stream",
     "text": [
      "/home/duc/Documents/DoAn/myvenv/lib/python3.10/site-packages/keras/src/models/functional.py:237: UserWarning: The structure of `inputs` doesn't match the expected structure.\n",
      "Expected: ['keras_tensor_1048']\n",
      "Received: inputs=Tensor(shape=(None, 331, 331, 3))\n",
      "  warnings.warn(msg)\n"
     ]
    },
    {
     "name": "stdout",
     "output_type": "stream",
     "text": [
      "\u001b[1m368/368\u001b[0m \u001b[32m━━━━━━━━━━━━━━━━━━━━\u001b[0m\u001b[37m\u001b[0m \u001b[1m0s\u001b[0m 395ms/step - accuracy: 0.3933 - loss: 1.2998"
     ]
    },
    {
     "name": "stderr",
     "output_type": "stream",
     "text": [
      "2025-08-15 23:52:36.653659: I external/local_xla/xla/stream_executor/cuda/subprocess_compilation.cc:346] ptxas warning : Registers are spilled to local memory in function 'gemm_fusion_dot_8057', 636 bytes spill stores, 636 bytes spill loads\n",
      "\n",
      "2025-08-15 23:52:47.803997: I external/local_xla/xla/stream_executor/cuda/subprocess_compilation.cc:346] ptxas warning : Registers are spilled to local memory in function 'gemm_fusion_dot_8057', 552 bytes spill stores, 552 bytes spill loads\n",
      "\n"
     ]
    },
    {
     "name": "stdout",
     "output_type": "stream",
     "text": [
      "\u001b[1m368/368\u001b[0m \u001b[32m━━━━━━━━━━━━━━━━━━━━\u001b[0m\u001b[37m\u001b[0m \u001b[1m201s\u001b[0m 483ms/step - accuracy: 0.3934 - loss: 1.2996 - val_accuracy: 0.4194 - val_loss: 1.2105 - learning_rate: 0.0010\n",
      "Epoch 2/12\n",
      "\u001b[1m368/368\u001b[0m \u001b[32m━━━━━━━━━━━━━━━━━━━━\u001b[0m\u001b[37m\u001b[0m \u001b[1m136s\u001b[0m 370ms/step - accuracy: 0.5148 - loss: 1.1125 - val_accuracy: 0.5161 - val_loss: 1.1208 - learning_rate: 0.0010\n",
      "Epoch 3/12\n",
      "\u001b[1m368/368\u001b[0m \u001b[32m━━━━━━━━━━━━━━━━━━━━\u001b[0m\u001b[37m\u001b[0m \u001b[1m134s\u001b[0m 364ms/step - accuracy: 0.5171 - loss: 1.0767 - val_accuracy: 0.3710 - val_loss: 1.3399 - learning_rate: 0.0010\n",
      "Epoch 4/12\n",
      "\u001b[1m368/368\u001b[0m \u001b[32m━━━━━━━━━━━━━━━━━━━━\u001b[0m\u001b[37m\u001b[0m \u001b[1m134s\u001b[0m 364ms/step - accuracy: 0.5359 - loss: 1.0651 - val_accuracy: 0.3065 - val_loss: 1.6170 - learning_rate: 0.0010\n",
      "Epoch 5/12\n",
      "\u001b[1m368/368\u001b[0m \u001b[32m━━━━━━━━━━━━━━━━━━━━\u001b[0m\u001b[37m\u001b[0m \u001b[1m134s\u001b[0m 365ms/step - accuracy: 0.5630 - loss: 1.0081 - val_accuracy: 0.4462 - val_loss: 1.2620 - learning_rate: 5.0000e-04\n",
      "Epoch 6/12\n",
      "\u001b[1m368/368\u001b[0m \u001b[32m━━━━━━━━━━━━━━━━━━━━\u001b[0m\u001b[37m\u001b[0m \u001b[1m134s\u001b[0m 364ms/step - accuracy: 0.5651 - loss: 1.0079 - val_accuracy: 0.4194 - val_loss: 1.2702 - learning_rate: 5.0000e-04\n",
      "Epoch 1/12\n"
     ]
    },
    {
     "name": "stderr",
     "output_type": "stream",
     "text": [
      "2025-08-16 00:04:28.717756: W tensorflow/core/kernels/data/prefetch_autotuner.cc:52] Prefetch autotuner tried to allocate 33554688 bytes after encountering the first element of size 33554688 bytes.This already causes the autotune ram budget to be exceeded. To stay within the ram budget, either increase the ram budget or reduce element size\n"
     ]
    },
    {
     "name": "stdout",
     "output_type": "stream",
     "text": [
      "\u001b[1m368/368\u001b[0m \u001b[32m━━━━━━━━━━━━━━━━━━━━\u001b[0m\u001b[37m\u001b[0m \u001b[1m201s\u001b[0m 474ms/step - accuracy: 0.5358 - loss: 1.0592 - val_accuracy: 0.4570 - val_loss: 1.2631 - learning_rate: 1.0000e-04\n",
      "Epoch 2/12\n",
      "\u001b[1m368/368\u001b[0m \u001b[32m━━━━━━━━━━━━━━━━━━━━\u001b[0m\u001b[37m\u001b[0m \u001b[1m142s\u001b[0m 385ms/step - accuracy: 0.6213 - loss: 0.9013 - val_accuracy: 0.4570 - val_loss: 1.3087 - learning_rate: 1.0000e-04\n",
      "Epoch 3/12\n",
      "\u001b[1m368/368\u001b[0m \u001b[32m━━━━━━━━━━━━━━━━━━━━\u001b[0m\u001b[37m\u001b[0m \u001b[1m142s\u001b[0m 386ms/step - accuracy: 0.6599 - loss: 0.8071 - val_accuracy: 0.4462 - val_loss: 1.3455 - learning_rate: 1.0000e-04\n",
      "Epoch 4/12\n",
      "\u001b[1m368/368\u001b[0m \u001b[32m━━━━━━━━━━━━━━━━━━━━\u001b[0m\u001b[37m\u001b[0m \u001b[1m142s\u001b[0m 387ms/step - accuracy: 0.7327 - loss: 0.6684 - val_accuracy: 0.4892 - val_loss: 1.4337 - learning_rate: 5.0000e-05\n",
      "Epoch 5/12\n",
      "\u001b[1m368/368\u001b[0m \u001b[32m━━━━━━━━━━━━━━━━━━━━\u001b[0m\u001b[37m\u001b[0m \u001b[1m143s\u001b[0m 387ms/step - accuracy: 0.7807 - loss: 0.5476 - val_accuracy: 0.5215 - val_loss: 1.3851 - learning_rate: 5.0000e-05\n",
      "Saved: outputs_two_stage/stage2_final.keras\n",
      "\n",
      "==> Đã huấn luyện xong. Mô hình nằm trong: outputs_two_stage\n",
      "   - stage1_final.keras\n",
      "   - stage2_final.keras\n"
     ]
    }
   ],
   "source": [
    "main()"
   ]
  },
  {
   "cell_type": "code",
   "execution_count": 9,
   "metadata": {},
   "outputs": [
    {
     "name": "stdout",
     "output_type": "stream",
     "text": [
      "<Functional name=NASNet, built=True>\n"
     ]
    }
   ],
   "source": [
    "m1 = build_stage1_binary_model()\n",
    "print(m1.get_layer(\"NASNet\"))"
   ]
  },
  {
   "cell_type": "code",
   "execution_count": 10,
   "metadata": {},
   "outputs": [
    {
     "name": "stdout",
     "output_type": "stream",
     "text": [
      "['input_layer_4', 'augmenter', 'NASNet', 'dropout_2', 'dense_2']\n"
     ]
    }
   ],
   "source": [
    "print([l.name for l in m1.layers[:20]])"
   ]
  },
  {
   "cell_type": "code",
   "execution_count": 4,
   "metadata": {},
   "outputs": [
    {
     "name": "stdout",
     "output_type": "stream",
     "text": [
      "Found 367 files belonging to 5 classes.\n"
     ]
    },
    {
     "name": "stderr",
     "output_type": "stream",
     "text": [
      "2025-08-16 00:34:00.308478: I tensorflow/core/framework/local_rendezvous.cc:407] Local rendezvous is aborting with status: OUT_OF_RANGE: End of sequence\n",
      "WARNING: All log messages before absl::InitializeLog() is called are written to STDERR\n",
      "I0000 00:00:1755318844.417128    8157 service.cc:152] XLA service 0x7dbbf8002410 initialized for platform CUDA (this does not guarantee that XLA will be used). Devices:\n",
      "I0000 00:00:1755318844.417147    8157 service.cc:160]   StreamExecutor device (0): NVIDIA GeForce RTX 3050 Laptop GPU, Compute Capability 8.6\n",
      "2025-08-16 00:34:04.613175: I tensorflow/compiler/mlir/tensorflow/utils/dump_mlir_util.cc:269] disabling MLIR crash reproducer, set env var `MLIR_CRASH_REPRODUCER_DIRECTORY` to enable.\n",
      "I0000 00:00:1755318846.913774    8157 cuda_dnn.cc:529] Loaded cuDNN version 90300\n",
      "I0000 00:00:1755318859.679902    8157 device_compiler.h:188] Compiled cluster using XLA!  This line is logged at most once for the lifetime of the process.\n",
      "2025-08-16 00:34:27.853222: I external/local_xla/xla/stream_executor/cuda/subprocess_compilation.cc:346] ptxas warning : Registers are spilled to local memory in function 'gemm_fusion_dot_8038', 636 bytes spill stores, 636 bytes spill loads\n",
      "\n",
      "2025-08-16 00:35:16.142789: I external/local_xla/xla/stream_executor/cuda/subprocess_compilation.cc:346] ptxas warning : Registers are spilled to local memory in function 'gemm_fusion_dot_8038', 632 bytes spill stores, 632 bytes spill loads\n",
      "\n"
     ]
    },
    {
     "name": "stdout",
     "output_type": "stream",
     "text": [
      "=== Classification Report (Stage1+Stage2 pipeline) ===\n",
      "              precision    recall  f1-score   support\n",
      "\n",
      "           0     0.9862    0.7901    0.8773       181\n",
      "           1     0.2985    0.5405    0.3846        37\n",
      "           2     0.5714    0.4000    0.4706       100\n",
      "           3     0.2414    0.7368    0.3636        19\n",
      "           4     0.4444    0.4000    0.4211        30\n",
      "\n",
      "    accuracy                         0.6240       367\n",
      "   macro avg     0.5084    0.5735    0.5034       367\n",
      "weighted avg     0.7210    0.6240    0.6529       367\n",
      "\n",
      "Overall Accuracy: 0.6239782016348774\n"
     ]
    },
    {
     "name": "stderr",
     "output_type": "stream",
     "text": [
      "2025-08-16 00:35:20.010040: I tensorflow/core/framework/local_rendezvous.cc:407] Local rendezvous is aborting with status: OUT_OF_RANGE: End of sequence\n"
     ]
    },
    {
     "data": {
      "image/png": "[encoded data removed]",
      "text/plain": [
       "<Figure size 800x600 with 2 Axes>"
      ]
     },
     "metadata": {},
     "output_type": "display_data"
    }
   ],
   "source": [
    "import os\n",
    "import numpy as np\n",
    "import tensorflow as tf\n",
    "from sklearn.metrics import classification_report, confusion_matrix, accuracy_score\n",
    "import seaborn as sns\n",
    "import matplotlib.pyplot as plt\n",
    "\n",
    "# ===== Config =====\n",
    "TEST_DIR = \"/home/duc/Documents/DoAn/aptos2019-blindness-detection/test_preprocess\"   # thư mục test gồm 0..4\n",
    "IMG_SIZE = 331      # NASNetLarge input\n",
    "BATCH_SIZE = 16\n",
    "THRESHOLD = 0.5     # ngưỡng phân biệt stage1 (0 vs DR)\n",
    "\n",
    "# ===== Dataset =====\n",
    "test_ds = tf.keras.utils.image_dataset_from_directory(\n",
    "    TEST_DIR,\n",
    "    labels=\"inferred\",\n",
    "    label_mode=\"int\",\n",
    "    class_names=[\"0\", \"1\", \"2\", \"3\", \"4\"],\n",
    "    color_mode=\"rgb\",\n",
    "    image_size=(IMG_SIZE, IMG_SIZE),\n",
    "    batch_size=BATCH_SIZE,\n",
    "    shuffle=False\n",
    ")\n",
    "\n",
    "from tensorflow.keras.applications.nasnet import preprocess_input as nasnet_preprocess\n",
    "def preprocess(x, y):\n",
    "    x = tf.cast(x, tf.float32)\n",
    "    x = nasnet_preprocess(x)\n",
    "    return x, y\n",
    "\n",
    "test_ds = test_ds.map(preprocess)\n",
    "\n",
    "# ===== Load models =====\n",
    "stage1 = tf.keras.models.load_model(\n",
    "    \"outputs_two_stage/stage1_final.keras\",\n",
    "    safe_mode=False\n",
    ")\n",
    "stage2 = tf.keras.models.load_model(\n",
    "    \"outputs_two_stage/stage2_final.keras\",\n",
    "    safe_mode=False\n",
    ")\n",
    "# ===== Predict pipeline =====\n",
    "y_true = np.concatenate([y for _, y in test_ds], axis=0)\n",
    "\n",
    "y_pred = []\n",
    "for x_batch, _ in test_ds:\n",
    "    # Stage1 dự đoán xác suất DR\n",
    "    p_stage1 = stage1.predict(x_batch, verbose=0).ravel()\n",
    "\n",
    "    # Stage2 dự đoán chi tiết cho các ảnh DR\n",
    "    p_stage2 = stage2.predict(x_batch, verbose=0)\n",
    "\n",
    "    for i in range(len(p_stage1)):\n",
    "        if p_stage1[i] < THRESHOLD:\n",
    "            y_pred.append(0)\n",
    "        else:\n",
    "            cls = np.argmax(p_stage2[i]) + 1  # shift 0..3 -> 1..4\n",
    "            y_pred.append(cls)\n",
    "\n",
    "y_pred = np.array(y_pred)\n",
    "\n",
    "# ===== Metrics =====\n",
    "print(\"=== Classification Report (Stage1+Stage2 pipeline) ===\")\n",
    "print(classification_report(y_true, y_pred, digits=4))\n",
    "\n",
    "acc = accuracy_score(y_true, y_pred)\n",
    "print(\"Overall Accuracy:\", acc)\n",
    "\n",
    "# ===== Confusion Matrix =====\n",
    "cm = confusion_matrix(y_true, y_pred)\n",
    "plt.figure(figsize=(8,6))\n",
    "sns.heatmap(cm, annot=True, fmt=\"d\", cmap=\"Blues\",\n",
    "            xticklabels=[\"0\",\"1\",\"2\",\"3\",\"4\"],\n",
    "            yticklabels=[\"0\",\"1\",\"2\",\"3\",\"4\"])\n",
    "plt.xlabel(\"Predicted\")\n",
    "plt.ylabel(\"True Label\")\n",
    "plt.title(\"Confusion Matrix (Pipeline 2 stage)\")\n",
    "plt.show()\n"
   ]
  },
  {
   "cell_type": "code",
   "execution_count": null,
   "metadata": {},
   "outputs": [],
   "source": [
    "!ipynb-py-convert structure_model_nasnet.ipynb structure_model_nasnet.py"
   ]
  }
 ],
 "metadata": {
  "kaggle": {
   "accelerator": "none",
   "dataSources": [
    {
     "datasetId": 8070203,
     "sourceId": 12765953,
     "sourceType": "datasetVersion"
    }
   ],
   "dockerImageVersionId": 31089,
   "isGpuEnabled": false,
   "isInternetEnabled": true,
   "language": "python",
   "sourceType": "notebook"
  },
  "kernelspec": {
   "display_name": "myvenv",
   "language": "python",
   "name": "python3"
  },
  "language_info": {
   "codemirror_mode": {
    "name": "ipython",
    "version": 3
   },
   "file_extension": ".py",
   "mimetype": "text/x-python",
   "name": "python",
   "nbconvert_exporter": "python",
   "pygments_lexer": "ipython3",
   "version": "3.10.12"
  }
 },
 "nbformat": 4,
 "nbformat_minor": 4
}
