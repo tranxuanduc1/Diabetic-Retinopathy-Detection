{
 "cells": [
  {
   "cell_type": "code",
   "execution_count": 2,
   "id": "e37f8086",
   "metadata": {},
   "outputs": [],
   "source": [
    "import pandas as pd\n",
    "import os\n",
    "import numpy as np\n",
    "from pathlib import Path"
   ]
  },
  {
   "cell_type": "code",
   "execution_count": 9,
   "id": "cc2bf858",
   "metadata": {},
   "outputs": [],
   "source": [
    "def delete_diagnosis_0_samples(csv_path, train_dir, num_to_delete=20000):\n",
    "    \"\"\"\n",
    "    Delete approximately num_to_delete samples with diagnosis=0 from both CSV and train directory.\n",
    "    \n",
    "    Args:\n",
    "        csv_path (str): Path to trainLabels.csv\n",
    "        train_dir (str): Path to directory containing images\n",
    "        num_to_delete (int): Number of diagnosis=0 samples to delete (default: 20000)\n",
    "    \n",
    "    Returns:\n",
    "        None\n",
    "    \"\"\"\n",
    "    # Read CSV\n",
    "    df = pd.read_csv(csv_path)\n",
    "    \n",
    "    # Validate CSV\n",
    "    required_columns = ['image', 'level']\n",
    "    if not all(col in df.columns for col in required_columns):\n",
    "        raise ValueError(f\"CSV must contain columns: {required_columns}\")\n",
    "    \n",
    "    # Filter samples with diagnosis=0\n",
    "    diag_0_df = df[df['level'] == 0]\n",
    "    if len(diag_0_df) < num_to_delete:\n",
    "        print(f\"Warning: Only {len(diag_0_df)} samples with diagnosis=0 available, less than {num_to_delete}\")\n",
    "        num_to_delete = len(diag_0_df)\n",
    "    \n",
    "    # Randomly select num_to_delete samples\n",
    "    delete_indices = diag_0_df.sample(n=num_to_delete, random_state=42).index\n",
    "    \n",
    "    # Log deleted files\n",
    "    deleted_files = []\n",
    "    missing_files = []\n",
    "    \n",
    "    # Delete corresponding images\n",
    "    for idx in delete_indices:\n",
    "        img_id = df.loc[idx, 'image']\n",
    "        img_path = os.path.join(train_dir, f\"{img_id}.jpeg\")\n",
    "        if os.path.exists(img_path):\n",
    "            try:\n",
    "                os.remove(img_path)\n",
    "                deleted_files.append(img_path)\n",
    "            except Exception as e:\n",
    "                print(f\"Error deleting {img_path}: {e}\")\n",
    "        else:\n",
    "            missing_files.append(img_path)\n",
    "    \n",
    "    # Update DataFrame by removing selected indices\n",
    "    df_updated = df.drop(delete_indices).reset_index(drop=True)\n",
    "    \n",
    "    # Save updated CSV\n",
    "    output_csv = csv_path.replace('.csv', '_updated.csv')\n",
    "    df_updated.to_csv(output_csv, index=False)\n",
    "    \n",
    "    # Report results\n",
    "    print(f\"Deleted {len(deleted_files)} images from {train_dir}\")\n",
    "    if missing_files:\n",
    "        print(f\"Warning: {len(missing_files)} images not found: {missing_files[:5]}...\")\n",
    "    print(f\"Updated CSV saved to {output_csv}\")\n",
    "    print(f\"Original CSV rows: {len(df)}, Updated CSV rows: {len(df_updated)}\")\n",
    "    print(f\"Class distribution after deletion:\\n{df_updated['level'].value_counts()}\")"
   ]
  },
  {
   "cell_type": "code",
   "execution_count": 10,
   "id": "7ed604c8",
   "metadata": {},
   "outputs": [
    {
     "name": "stdout",
     "output_type": "stream",
     "text": [
      "Deleted 20000 images from train\n",
      "Updated CSV saved to trainLabels/trainLabels_updated.csv\n",
      "Original CSV rows: 35126, Updated CSV rows: 15126\n",
      "Class distribution after deletion:\n",
      "level\n",
      "0    5810\n",
      "2    5292\n",
      "1    2443\n",
      "3     873\n",
      "4     708\n",
      "Name: count, dtype: int64\n"
     ]
    }
   ],
   "source": [
    "CSV_PATH = \"trainLabels/trainLabels.csv\"\n",
    "TRAIN_DIR = \"train\"\n",
    "NUM_TO_DELETE = 20000\n",
    "   \n",
    "    # Validate paths\n",
    "if not os.path.exists(CSV_PATH):\n",
    "    raise FileNotFoundError(f\"CSV file {CSV_PATH} does not exist\")\n",
    "if not os.path.exists(TRAIN_DIR):\n",
    "    raise FileNotFoundError(f\"Train directory {TRAIN_DIR} does not exist\")\n",
    "    \n",
    "delete_diagnosis_0_samples(CSV_PATH, TRAIN_DIR, NUM_TO_DELETE)"
   ]
  }
 ],
 "metadata": {
  "kernelspec": {
   "display_name": "venv",
   "language": "python",
   "name": "python3"
  },
  "language_info": {
   "codemirror_mode": {
    "name": "ipython",
    "version": 3
   },
   "file_extension": ".py",
   "mimetype": "text/x-python",
   "name": "python",
   "nbconvert_exporter": "python",
   "pygments_lexer": "ipython3",
   "version": "3.12.0"
  }
 },
 "nbformat": 4,
 "nbformat_minor": 5
}
