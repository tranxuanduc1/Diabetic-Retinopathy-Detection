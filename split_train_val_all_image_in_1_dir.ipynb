{
 "cells": [
  {
   "cell_type": "code",
   "execution_count": 1,
   "id": "3dae3df8",
   "metadata": {},
   "outputs": [],
   "source": [
    "import pandas as pd\n",
    "import os\n",
    "import shutil\n",
    "import random\n",
    "\n"
   ]
  },
  {
   "cell_type": "code",
   "execution_count": 2,
   "id": "a7d5f7a6",
   "metadata": {},
   "outputs": [],
   "source": [
    "# ====== CẤU HÌNH ======\n",
    "ROOT = \"eyepacs_2015\"\n",
    "TRAIN_DIR = os.path.join(ROOT, \"train\")\n",
    "VAL_DIR   = os.path.join(ROOT, \"val\")\n",
    "CLASSES = [str(i) for i in range(5)]   # [\"0\",\"1\",\"2\",\"3\",\"4\"]\n",
    "N_PER_CLASS = 200\n",
    "MOVE_FILES = True                      # True=move, False=copy\n",
    "RANDOM_SEED = 42\n",
    "IMAGE_EXTS = {\".jpg\", \".jpeg\", \".png\"}\n",
    "random.seed(RANDOM_SEED)"
   ]
  },
  {
   "cell_type": "code",
   "execution_count": null,
   "id": "c4fdd04b",
   "metadata": {},
   "outputs": [],
   "source": [
    "summary = {}\n",
    "cls=\"0\"\n",
    "src_dir = os.path.join(TRAIN_DIR, cls)\n",
    "dst_dir = os.path.join(VAL_DIR, cls)\n",
    "os.makedirs(dst_dir, exist_ok=True)\n",
    "\n",
    "if not os.path.isdir(src_dir):\n",
    "    print(f\"Không thấy thư mục: {src_dir}\")\n",
    "    summary[cls] = (0, 0)"
   ]
  },
  {
   "cell_type": "code",
   "execution_count": null,
   "id": "1778fb05",
   "metadata": {},
   "outputs": [
    {
     "name": "stdout",
     "output_type": "stream",
     "text": [
      "[0] moved: 200/200\n",
      "[1] moved: 200/200\n",
      "[2] moved: 200/200\n",
      "[3] moved: 200/200\n",
      "[4] moved: 200/200\n",
      "\n",
      "===== TỔNG KẾT =====\n",
      "Lớp 0: chọn 200, đưa vào val 200\n",
      "Lớp 1: chọn 200, đưa vào val 200\n",
      "Lớp 2: chọn 200, đưa vào val 200\n",
      "Lớp 3: chọn 200, đưa vào val 200\n",
      "Lớp 4: chọn 200, đưa vào val 200\n",
      "Tổng ảnh đưa vào val: 1000\n",
      "\n",
      "Số ảnh hiện có trong eyepascs_2015/val:\n",
      " - 0: 200\n",
      " - 1: 200\n",
      " - 2: 200\n",
      " - 3: 200\n",
      " - 4: 200\n"
     ]
    }
   ],
   "source": [
    "def get_unique_path(dst_path):\n",
    "    \"\"\"Nếu file trùng tên tự thêm _1, _2,... trước phần mở rộng.\"\"\"\n",
    "    if not os.path.exists(dst_path):\n",
    "        return dst_path\n",
    "    base, ext = os.path.splitext(dst_path)\n",
    "    i = 1\n",
    "    new_path = f\"{base}_{i}{ext}\"\n",
    "    while os.path.exists(new_path):\n",
    "        i += 1\n",
    "        new_path = f\"{base}_{i}{ext}\"\n",
    "    return new_path\n",
    "\n",
    "os.makedirs(VAL_DIR, exist_ok=True)\n",
    "\n",
    "summary = {}\n",
    "for cls in CLASSES:\n",
    "    src_dir = os.path.join(TRAIN_DIR, cls)\n",
    "    dst_dir = os.path.join(VAL_DIR, cls)\n",
    "    os.makedirs(dst_dir, exist_ok=True)\n",
    "\n",
    "    if not os.path.isdir(src_dir):\n",
    "        print(f\"[Cảnh báo] Không thấy thư mục: {src_dir}\")\n",
    "        summary[cls] = (0, 0)\n",
    "        continue\n",
    "\n",
    "    # Lấy danh sách file ảnh\n",
    "    files = [\n",
    "        f for f in os.listdir(src_dir)\n",
    "        if os.path.splitext(f)[1].lower() in IMAGE_EXTS\n",
    "    ]\n",
    "    # files=[]\n",
    "    # for f in os.listdir(src_dir):\n",
    "        \n",
    "    #     print (f)\n",
    "    #     files.append(f)\n",
    "\n",
    "    if len(files) == 0:\n",
    "        print(f\"Không có ảnh trong: {src_dir}\")\n",
    "        summary[cls] = (0, 0)\n",
    "        continue\n",
    "\n",
    "    k = min(N_PER_CLASS, len(files))\n",
    "    pick = random.sample(files, k)\n",
    "\n",
    "    moved = 0\n",
    "    for fname in pick:\n",
    "        src = os.path.join(src_dir, fname)\n",
    "        dst = os.path.join(dst_dir, fname)\n",
    "        dst = get_unique_path(dst)  # tránh đè file nếu trùng tên\n",
    "\n",
    "        if MOVE_FILES:\n",
    "            shutil.move(src, dst)\n",
    "        else:\n",
    "            shutil.copy2(src, dst)\n",
    "        moved += 1\n",
    "\n",
    "    summary[cls] = (k, moved)\n",
    "    action = \"moved\" if MOVE_FILES else \"copied\"\n",
    "    print(f\"[{cls}] {action}: {moved}/{k}\")\n",
    "\n",
    "# In tổng kết\n",
    "total = sum(m for _, m in summary.values())\n",
    "print(\"\\n===== TỔNG KẾT =====\")\n",
    "for cls, (k, m) in summary.items():\n",
    "    print(f\"Lớp {cls}: chọn {k}, đưa vào val {m}\")\n",
    "print(f\"Tổng ảnh đưa vào val: {total}\")\n",
    "\n",
    "# Đếm lại số ảnh trong val sau khi chia\n",
    "val_counts = {}\n",
    "for cls in CLASSES:\n",
    "    d = os.path.join(VAL_DIR, cls)\n",
    "    if os.path.isdir(d):\n",
    "        cnt = sum(\n",
    "            1 for f in os.listdir(d)\n",
    "            if os.path.isfile(os.path.join(d, f))\n",
    "            and os.path.splitext(f)[1].lower() in IMAGE_EXTS\n",
    "        )\n",
    "        val_counts[cls] = cnt\n",
    "print(\"\\nSố ảnh hiện có trong eyepascs_2015/val:\")\n",
    "for cls in CLASSES:\n",
    "    print(f\" - {cls}: {val_counts.get(cls, 0)}\")"
   ]
  },
  {
   "cell_type": "code",
   "execution_count": null,
   "id": "e79fb692",
   "metadata": {},
   "outputs": [
    {
     "name": "stdout",
     "output_type": "stream",
     "text": [
      "[]\n",
      "True\n",
      "[Cảnh báo] Không có ảnh trong: eyepascs_2015/train/4\n"
     ]
    }
   ],
   "source": [
    "files = [\n",
    "    f for f in os.listdir(\"eyepacs_2015/train/4\")\n",
    "    if os.path.isfile(os.path.join(src_dir, f))\n",
    "    ]\n",
    "print(files)\n",
    "print(os.path.isfile(os.path.join(\"eyepacs_2015/train/4\", \"16413_right.jpg\")))\n",
    "if len(files) == 0:\n",
    "    print(f\"Không có ảnh trong: {src_dir}\")\n",
    "    summary[cls] = (0, 0)"
   ]
  },
  {
   "cell_type": "code",
   "execution_count": null,
   "id": "c85f4a91",
   "metadata": {},
   "outputs": [],
   "source": []
  }
 ],
 "metadata": {
  "kernelspec": {
   "display_name": "myvenv",
   "language": "python",
   "name": "python3"
  },
  "language_info": {
   "codemirror_mode": {
    "name": "ipython",
    "version": 3
   },
   "file_extension": ".py",
   "mimetype": "text/x-python",
   "name": "python",
   "nbconvert_exporter": "python",
   "pygments_lexer": "ipython3",
   "version": "3.10.12"
  }
 },
 "nbformat": 4,
 "nbformat_minor": 5
}
